{
 "cells": [
  {
   "cell_type": "markdown",
   "metadata": {},
   "source": [
    "# Indian Liver Patient Prediction "
   ]
  },
  {
   "cell_type": "code",
   "execution_count": null,
   "metadata": {},
   "outputs": [],
   "source": [
    "# Import all required libraries for reading data, analysing and visualizing data\n",
    "\n",
    "import pandas as pd\n",
    "import numpy as np\n",
    "import matplotlib.pyplot as plt\n",
    "get_ipython().run_line_magic('matplotlib', 'inline')\n",
    "import seaborn as sns\n",
    "from sklearn.preprocessing import LabelEncoder\n",
    "from sklearn import preprocessing\n",
    "from sklearn.preprocessing import MinMaxScaler\n",
    "from sklearn.model_selection import train_test_split\n",
    "import warnings\n",
    "warnings.filterwarnings(\"ignore\")"
   ]
  },
  {
   "cell_type": "code",
   "execution_count": 2,
   "metadata": {},
   "outputs": [
    {
     "data": {
      "text/html": [
       "<div>\n",
       "<style scoped>\n",
       "    .dataframe tbody tr th:only-of-type {\n",
       "        vertical-align: middle;\n",
       "    }\n",
       "\n",
       "    .dataframe tbody tr th {\n",
       "        vertical-align: top;\n",
       "    }\n",
       "\n",
       "    .dataframe thead th {\n",
       "        text-align: right;\n",
       "    }\n",
       "</style>\n",
       "<table border=\"1\" class=\"dataframe\">\n",
       "  <thead>\n",
       "    <tr style=\"text-align: right;\">\n",
       "      <th></th>\n",
       "      <th>Age</th>\n",
       "      <th>Gender</th>\n",
       "      <th>Total_Bilirubin</th>\n",
       "      <th>Direct_Bilirubin</th>\n",
       "      <th>Alkphos</th>\n",
       "      <th>SGPT</th>\n",
       "      <th>SGOT</th>\n",
       "      <th>Total_Proteins</th>\n",
       "      <th>Albumin</th>\n",
       "      <th>A_G_Ratio</th>\n",
       "      <th>Output</th>\n",
       "    </tr>\n",
       "  </thead>\n",
       "  <tbody>\n",
       "    <tr>\n",
       "      <th>0</th>\n",
       "      <td>65</td>\n",
       "      <td>Female</td>\n",
       "      <td>0.7</td>\n",
       "      <td>0.1</td>\n",
       "      <td>187</td>\n",
       "      <td>16</td>\n",
       "      <td>18</td>\n",
       "      <td>6.8</td>\n",
       "      <td>3.3</td>\n",
       "      <td>0.90</td>\n",
       "      <td>1</td>\n",
       "    </tr>\n",
       "    <tr>\n",
       "      <th>1</th>\n",
       "      <td>62</td>\n",
       "      <td>Male</td>\n",
       "      <td>10.9</td>\n",
       "      <td>5.5</td>\n",
       "      <td>699</td>\n",
       "      <td>64</td>\n",
       "      <td>100</td>\n",
       "      <td>7.5</td>\n",
       "      <td>3.2</td>\n",
       "      <td>0.74</td>\n",
       "      <td>1</td>\n",
       "    </tr>\n",
       "    <tr>\n",
       "      <th>2</th>\n",
       "      <td>62</td>\n",
       "      <td>Male</td>\n",
       "      <td>7.3</td>\n",
       "      <td>4.1</td>\n",
       "      <td>490</td>\n",
       "      <td>60</td>\n",
       "      <td>68</td>\n",
       "      <td>7.0</td>\n",
       "      <td>3.3</td>\n",
       "      <td>0.89</td>\n",
       "      <td>1</td>\n",
       "    </tr>\n",
       "    <tr>\n",
       "      <th>3</th>\n",
       "      <td>58</td>\n",
       "      <td>Male</td>\n",
       "      <td>1.0</td>\n",
       "      <td>0.4</td>\n",
       "      <td>182</td>\n",
       "      <td>14</td>\n",
       "      <td>20</td>\n",
       "      <td>6.8</td>\n",
       "      <td>3.4</td>\n",
       "      <td>1.00</td>\n",
       "      <td>1</td>\n",
       "    </tr>\n",
       "    <tr>\n",
       "      <th>4</th>\n",
       "      <td>72</td>\n",
       "      <td>Male</td>\n",
       "      <td>3.9</td>\n",
       "      <td>2.0</td>\n",
       "      <td>195</td>\n",
       "      <td>27</td>\n",
       "      <td>59</td>\n",
       "      <td>7.3</td>\n",
       "      <td>2.4</td>\n",
       "      <td>0.40</td>\n",
       "      <td>1</td>\n",
       "    </tr>\n",
       "  </tbody>\n",
       "</table>\n",
       "</div>"
      ],
      "text/plain": [
       "   Age  Gender  Total_Bilirubin  Direct_Bilirubin  Alkphos  SGPT  SGOT  \\\n",
       "0   65  Female              0.7               0.1      187    16    18   \n",
       "1   62    Male             10.9               5.5      699    64   100   \n",
       "2   62    Male              7.3               4.1      490    60    68   \n",
       "3   58    Male              1.0               0.4      182    14    20   \n",
       "4   72    Male              3.9               2.0      195    27    59   \n",
       "\n",
       "   Total_Proteins  Albumin  A_G_Ratio  Output  \n",
       "0             6.8      3.3       0.90       1  \n",
       "1             7.5      3.2       0.74       1  \n",
       "2             7.0      3.3       0.89       1  \n",
       "3             6.8      3.4       1.00       1  \n",
       "4             7.3      2.4       0.40       1  "
      ]
     },
     "execution_count": 2,
     "metadata": {},
     "output_type": "execute_result"
    }
   ],
   "source": [
    "# Read the dataset\n",
    "data= pd.read_csv(\"Indian Liver Patient Dataset (ILPD).csv\", names=['Age','Gender','Total_Bilirubin','Direct_Bilirubin','Alkphos','SGPT','SGOT','Total_Proteins','Albumin','A_G_Ratio','Output'])\n",
    "data.head(5)\n",
    "\n",
    "# Observations from the dataset: This is a binary classification problem.\n",
    "# 1) All the variables are numeric except gender.\n",
    "# 2) There are 10 features and 1 output . \n",
    "# Value 1 = patient has liver disease and \n",
    "# Value 2 = patient does not have liver disease."
   ]
  },
  {
   "cell_type": "code",
   "execution_count": 3,
   "metadata": {
    "lines_to_next_cell": 2
   },
   "outputs": [
    {
     "data": {
      "text/html": [
       "<div>\n",
       "<style scoped>\n",
       "    .dataframe tbody tr th:only-of-type {\n",
       "        vertical-align: middle;\n",
       "    }\n",
       "\n",
       "    .dataframe tbody tr th {\n",
       "        vertical-align: top;\n",
       "    }\n",
       "\n",
       "    .dataframe thead th {\n",
       "        text-align: right;\n",
       "    }\n",
       "</style>\n",
       "<table border=\"1\" class=\"dataframe\">\n",
       "  <thead>\n",
       "    <tr style=\"text-align: right;\">\n",
       "      <th></th>\n",
       "      <th>Age</th>\n",
       "      <th>Gender</th>\n",
       "      <th>Total_Bilirubin</th>\n",
       "      <th>Direct_Bilirubin</th>\n",
       "      <th>Alkphos</th>\n",
       "      <th>SGPT</th>\n",
       "      <th>SGOT</th>\n",
       "      <th>Total_Proteins</th>\n",
       "      <th>Albumin</th>\n",
       "      <th>A_G_Ratio</th>\n",
       "      <th>Output</th>\n",
       "    </tr>\n",
       "  </thead>\n",
       "  <tbody>\n",
       "    <tr>\n",
       "      <th>count</th>\n",
       "      <td>583.000000</td>\n",
       "      <td>583</td>\n",
       "      <td>583.000000</td>\n",
       "      <td>583.000000</td>\n",
       "      <td>583.000000</td>\n",
       "      <td>583.000000</td>\n",
       "      <td>583.000000</td>\n",
       "      <td>583.000000</td>\n",
       "      <td>583.000000</td>\n",
       "      <td>579.000000</td>\n",
       "      <td>583.000000</td>\n",
       "    </tr>\n",
       "    <tr>\n",
       "      <th>unique</th>\n",
       "      <td>NaN</td>\n",
       "      <td>2</td>\n",
       "      <td>NaN</td>\n",
       "      <td>NaN</td>\n",
       "      <td>NaN</td>\n",
       "      <td>NaN</td>\n",
       "      <td>NaN</td>\n",
       "      <td>NaN</td>\n",
       "      <td>NaN</td>\n",
       "      <td>NaN</td>\n",
       "      <td>NaN</td>\n",
       "    </tr>\n",
       "    <tr>\n",
       "      <th>top</th>\n",
       "      <td>NaN</td>\n",
       "      <td>Male</td>\n",
       "      <td>NaN</td>\n",
       "      <td>NaN</td>\n",
       "      <td>NaN</td>\n",
       "      <td>NaN</td>\n",
       "      <td>NaN</td>\n",
       "      <td>NaN</td>\n",
       "      <td>NaN</td>\n",
       "      <td>NaN</td>\n",
       "      <td>NaN</td>\n",
       "    </tr>\n",
       "    <tr>\n",
       "      <th>freq</th>\n",
       "      <td>NaN</td>\n",
       "      <td>441</td>\n",
       "      <td>NaN</td>\n",
       "      <td>NaN</td>\n",
       "      <td>NaN</td>\n",
       "      <td>NaN</td>\n",
       "      <td>NaN</td>\n",
       "      <td>NaN</td>\n",
       "      <td>NaN</td>\n",
       "      <td>NaN</td>\n",
       "      <td>NaN</td>\n",
       "    </tr>\n",
       "    <tr>\n",
       "      <th>mean</th>\n",
       "      <td>44.746141</td>\n",
       "      <td>NaN</td>\n",
       "      <td>3.298799</td>\n",
       "      <td>1.486106</td>\n",
       "      <td>290.576329</td>\n",
       "      <td>80.713551</td>\n",
       "      <td>109.910806</td>\n",
       "      <td>6.483190</td>\n",
       "      <td>3.141852</td>\n",
       "      <td>0.947064</td>\n",
       "      <td>1.286449</td>\n",
       "    </tr>\n",
       "    <tr>\n",
       "      <th>std</th>\n",
       "      <td>16.189833</td>\n",
       "      <td>NaN</td>\n",
       "      <td>6.209522</td>\n",
       "      <td>2.808498</td>\n",
       "      <td>242.937989</td>\n",
       "      <td>182.620356</td>\n",
       "      <td>288.918529</td>\n",
       "      <td>1.085451</td>\n",
       "      <td>0.795519</td>\n",
       "      <td>0.319592</td>\n",
       "      <td>0.452490</td>\n",
       "    </tr>\n",
       "    <tr>\n",
       "      <th>min</th>\n",
       "      <td>4.000000</td>\n",
       "      <td>NaN</td>\n",
       "      <td>0.400000</td>\n",
       "      <td>0.100000</td>\n",
       "      <td>63.000000</td>\n",
       "      <td>10.000000</td>\n",
       "      <td>10.000000</td>\n",
       "      <td>2.700000</td>\n",
       "      <td>0.900000</td>\n",
       "      <td>0.300000</td>\n",
       "      <td>1.000000</td>\n",
       "    </tr>\n",
       "    <tr>\n",
       "      <th>25%</th>\n",
       "      <td>33.000000</td>\n",
       "      <td>NaN</td>\n",
       "      <td>0.800000</td>\n",
       "      <td>0.200000</td>\n",
       "      <td>175.500000</td>\n",
       "      <td>23.000000</td>\n",
       "      <td>25.000000</td>\n",
       "      <td>5.800000</td>\n",
       "      <td>2.600000</td>\n",
       "      <td>0.700000</td>\n",
       "      <td>1.000000</td>\n",
       "    </tr>\n",
       "    <tr>\n",
       "      <th>50%</th>\n",
       "      <td>45.000000</td>\n",
       "      <td>NaN</td>\n",
       "      <td>1.000000</td>\n",
       "      <td>0.300000</td>\n",
       "      <td>208.000000</td>\n",
       "      <td>35.000000</td>\n",
       "      <td>42.000000</td>\n",
       "      <td>6.600000</td>\n",
       "      <td>3.100000</td>\n",
       "      <td>0.930000</td>\n",
       "      <td>1.000000</td>\n",
       "    </tr>\n",
       "    <tr>\n",
       "      <th>75%</th>\n",
       "      <td>58.000000</td>\n",
       "      <td>NaN</td>\n",
       "      <td>2.600000</td>\n",
       "      <td>1.300000</td>\n",
       "      <td>298.000000</td>\n",
       "      <td>60.500000</td>\n",
       "      <td>87.000000</td>\n",
       "      <td>7.200000</td>\n",
       "      <td>3.800000</td>\n",
       "      <td>1.100000</td>\n",
       "      <td>2.000000</td>\n",
       "    </tr>\n",
       "    <tr>\n",
       "      <th>max</th>\n",
       "      <td>90.000000</td>\n",
       "      <td>NaN</td>\n",
       "      <td>75.000000</td>\n",
       "      <td>19.700000</td>\n",
       "      <td>2110.000000</td>\n",
       "      <td>2000.000000</td>\n",
       "      <td>4929.000000</td>\n",
       "      <td>9.600000</td>\n",
       "      <td>5.500000</td>\n",
       "      <td>2.800000</td>\n",
       "      <td>2.000000</td>\n",
       "    </tr>\n",
       "  </tbody>\n",
       "</table>\n",
       "</div>"
      ],
      "text/plain": [
       "               Age Gender  Total_Bilirubin  Direct_Bilirubin      Alkphos  \\\n",
       "count   583.000000    583       583.000000        583.000000   583.000000   \n",
       "unique         NaN      2              NaN               NaN          NaN   \n",
       "top            NaN   Male              NaN               NaN          NaN   \n",
       "freq           NaN    441              NaN               NaN          NaN   \n",
       "mean     44.746141    NaN         3.298799          1.486106   290.576329   \n",
       "std      16.189833    NaN         6.209522          2.808498   242.937989   \n",
       "min       4.000000    NaN         0.400000          0.100000    63.000000   \n",
       "25%      33.000000    NaN         0.800000          0.200000   175.500000   \n",
       "50%      45.000000    NaN         1.000000          0.300000   208.000000   \n",
       "75%      58.000000    NaN         2.600000          1.300000   298.000000   \n",
       "max      90.000000    NaN        75.000000         19.700000  2110.000000   \n",
       "\n",
       "               SGPT         SGOT  Total_Proteins     Albumin   A_G_Ratio  \\\n",
       "count    583.000000   583.000000      583.000000  583.000000  579.000000   \n",
       "unique          NaN          NaN             NaN         NaN         NaN   \n",
       "top             NaN          NaN             NaN         NaN         NaN   \n",
       "freq            NaN          NaN             NaN         NaN         NaN   \n",
       "mean      80.713551   109.910806        6.483190    3.141852    0.947064   \n",
       "std      182.620356   288.918529        1.085451    0.795519    0.319592   \n",
       "min       10.000000    10.000000        2.700000    0.900000    0.300000   \n",
       "25%       23.000000    25.000000        5.800000    2.600000    0.700000   \n",
       "50%       35.000000    42.000000        6.600000    3.100000    0.930000   \n",
       "75%       60.500000    87.000000        7.200000    3.800000    1.100000   \n",
       "max     2000.000000  4929.000000        9.600000    5.500000    2.800000   \n",
       "\n",
       "            Output  \n",
       "count   583.000000  \n",
       "unique         NaN  \n",
       "top            NaN  \n",
       "freq           NaN  \n",
       "mean      1.286449  \n",
       "std       0.452490  \n",
       "min       1.000000  \n",
       "25%       1.000000  \n",
       "50%       1.000000  \n",
       "75%       2.000000  \n",
       "max       2.000000  "
      ]
     },
     "execution_count": 3,
     "metadata": {},
     "output_type": "execute_result"
    }
   ],
   "source": [
    "# Check statistical information about NUMERICAL columns in the dataset\n",
    "data.describe(include='all')\n",
    "#We can see that there are missing values for A/G Ratio as only 579 entries are present which indicates 4 missing values"
   ]
  },
  {
   "cell_type": "markdown",
   "metadata": {},
   "source": [
    "## Knowing about the each variable in the buisness level:"
   ]
  },
  {
   "cell_type": "markdown",
   "metadata": {},
   "source": [
    "### Age"
   ]
  },
  {
   "cell_type": "markdown",
   "metadata": {},
   "source": [
    "-> Age of a person"
   ]
  },
  {
   "cell_type": "markdown",
   "metadata": {},
   "source": [
    "### Gender"
   ]
  },
  {
   "cell_type": "markdown",
   "metadata": {},
   "source": [
    "-> Sex of a person (Male / Female)"
   ]
  },
  {
   "cell_type": "markdown",
   "metadata": {},
   "source": [
    "### Total Bilirubin"
   ]
  },
  {
   "cell_type": "markdown",
   "metadata": {},
   "source": [
    "- It is a blood test that measures the amount of billirubin present in blood.\n",
    "- A small amount of bilirubin in your blood is normal.\n",
    "- A high level may be a sign of liver disease.\n",
    "- It is a combination of both DB IDB.\n",
    "- Range = 1.71 - 20.5\n",
    "- Normal level = < 5.1\n",
    "- High level = > 20.5"
   ]
  },
  {
   "cell_type": "markdown",
   "metadata": {},
   "source": [
    "### Direct Billirubin"
   ]
  },
  {
   "cell_type": "markdown",
   "metadata": {},
   "source": [
    "- Bilirubin attached by the liver to glucuronic acid called direct billirubin.\n",
    "- Range = 1.7 - 5.1\n",
    "- High level = >5.1"
   ]
  },
  {
   "cell_type": "markdown",
   "metadata": {},
   "source": [
    "### Alkaline Phosphotase"
   ]
  },
  {
   "cell_type": "markdown",
   "metadata": {},
   "source": [
    "- It is an enzyme in a person's blood that helps break down proteins.\n",
    "- Range = 115 - 460"
   ]
  },
  {
   "cell_type": "markdown",
   "metadata": {},
   "source": [
    "### Alamine Aminotransferase"
   ]
  },
  {
   "cell_type": "markdown",
   "metadata": {},
   "source": [
    "- It is an enzyme found primarily in the liver and kidney.\n",
    "- Range 7 - 55"
   ]
  },
  {
   "cell_type": "markdown",
   "metadata": {},
   "source": [
    "### Aspartate Aminotransferase"
   ]
  },
  {
   "cell_type": "markdown",
   "metadata": {},
   "source": [
    "-  It is an enzyme found in cells throughout the body but mostly in the heart and liver\n",
    "- Range = 6 - 40"
   ]
  },
  {
   "cell_type": "markdown",
   "metadata": {},
   "source": [
    "### Total Protiens"
   ]
  },
  {
   "cell_type": "markdown",
   "metadata": {},
   "source": [
    "- The total protein test measures the total amount of two classes of proteins found in the fluid portion of your blood.\n",
    "- Thus both albumin and globulin.\n",
    "- Range = 6 - 8.3"
   ]
  },
  {
   "cell_type": "markdown",
   "metadata": {},
   "source": [
    "### ALB Albumin"
   ]
  },
  {
   "cell_type": "markdown",
   "metadata": {},
   "source": [
    "- Albumin is a protein made by your liver.\n",
    "- Range = 3.4 - 5.4 "
   ]
  },
  {
   "cell_type": "markdown",
   "metadata": {},
   "source": [
    "### A/G Ratio"
   ]
  },
  {
   "cell_type": "markdown",
   "metadata": {},
   "source": [
    "- The Albumin to Globulin ratio (A:G) is the ratio of albumin present in serum in relation to the amount of globulin.\n",
    "- Normal range = Slightly over 1"
   ]
  },
  {
   "cell_type": "markdown",
   "metadata": {},
   "source": [
    "## Results obtained for feature selection."
   ]
  },
  {
   "cell_type": "markdown",
   "metadata": {},
   "source": [
    "- Direct billirubin and Indirect billirubin is a combination of Total billirubin.\n",
    "- So,direct billirubin column is not needed\n",
    "- Total proteins consists of both Albumin and Globulin ,so albumin column is also not needed."
   ]
  },
  {
   "cell_type": "markdown",
   "metadata": {},
   "source": [
    "# Exploratory data analysis"
   ]
  },
  {
   "cell_type": "code",
   "execution_count": 4,
   "metadata": {
    "lines_to_next_cell": 2
   },
   "outputs": [
    {
     "name": "stdout",
     "output_type": "stream",
     "text": [
      "<class 'pandas.core.frame.DataFrame'>\n",
      "RangeIndex: 583 entries, 0 to 582\n",
      "Data columns (total 11 columns):\n",
      " #   Column            Non-Null Count  Dtype  \n",
      "---  ------            --------------  -----  \n",
      " 0   Age               583 non-null    int64  \n",
      " 1   Gender            583 non-null    object \n",
      " 2   Total_Bilirubin   583 non-null    float64\n",
      " 3   Direct_Bilirubin  583 non-null    float64\n",
      " 4   Alkphos           583 non-null    int64  \n",
      " 5   SGPT              583 non-null    int64  \n",
      " 6   SGOT              583 non-null    int64  \n",
      " 7   Total_Proteins    583 non-null    float64\n",
      " 8   Albumin           583 non-null    float64\n",
      " 9   A_G_Ratio         579 non-null    float64\n",
      " 10  Output            583 non-null    int64  \n",
      "dtypes: float64(5), int64(5), object(1)\n",
      "memory usage: 50.2+ KB\n"
     ]
    }
   ],
   "source": [
    "data.info()"
   ]
  },
  {
   "cell_type": "code",
   "execution_count": 5,
   "metadata": {
    "lines_to_next_cell": 2
   },
   "outputs": [
    {
     "data": {
      "text/plain": [
       "Age                 0\n",
       "Gender              0\n",
       "Total_Bilirubin     0\n",
       "Direct_Bilirubin    0\n",
       "Alkphos             0\n",
       "SGPT                0\n",
       "SGOT                0\n",
       "Total_Proteins      0\n",
       "Albumin             0\n",
       "A_G_Ratio           4\n",
       "Output              0\n",
       "dtype: int64"
      ]
     },
     "execution_count": 5,
     "metadata": {},
     "output_type": "execute_result"
    }
   ],
   "source": [
    "# Check for missing values\n",
    "data.isnull().sum()"
   ]
  },
  {
   "cell_type": "code",
   "execution_count": 6,
   "metadata": {
    "lines_to_next_cell": 2
   },
   "outputs": [
    {
     "name": "stdout",
     "output_type": "stream",
     "text": [
      "     Age  Gender  Total_Bilirubin  Direct_Bilirubin  Alkphos  SGPT  SGOT  \\\n",
      "209   45  Female              0.9               0.3      189    23    33   \n",
      "241   51    Male              0.8               0.2      230    24    46   \n",
      "253   35  Female              0.6               0.2      180    12    15   \n",
      "312   27    Male              1.3               0.6      106    25    54   \n",
      "\n",
      "     Total_Proteins  Albumin  A_G_Ratio  Output  \n",
      "209             6.6      3.9        NaN       1  \n",
      "241             6.5      3.1        NaN       1  \n",
      "253             5.2      2.7        NaN       2  \n",
      "312             8.5      4.8        NaN       2  \n"
     ]
    }
   ],
   "source": [
    "#Check the rows containing missing values\n",
    "missing_rows = data[data['A_G_Ratio'].isnull()]\n",
    "print (missing_rows)"
   ]
  },
  {
   "cell_type": "code",
   "execution_count": 7,
   "metadata": {
    "lines_to_next_cell": 2
   },
   "outputs": [
    {
     "data": {
      "text/plain": [
       "1    416\n",
       "2    167\n",
       "Name: Output, dtype: int64"
      ]
     },
     "execution_count": 7,
     "metadata": {},
     "output_type": "execute_result"
    }
   ],
   "source": [
    "data['Output'].value_counts()"
   ]
  },
  {
   "cell_type": "code",
   "execution_count": 8,
   "metadata": {
    "lines_to_next_cell": 2
   },
   "outputs": [],
   "source": [
    "data['A_G_Ratio'].fillna(value=0, inplace=True) #-- replacing the nan values with 0\n",
    "\n",
    "#data=data.dropna() #since it is a patient data and the missing values are less thgan 1% so removing them"
   ]
  },
  {
   "cell_type": "code",
   "execution_count": 9,
   "metadata": {
    "lines_to_next_cell": 2
   },
   "outputs": [
    {
     "data": {
      "text/plain": [
       "Age                 0\n",
       "Gender              0\n",
       "Total_Bilirubin     0\n",
       "Direct_Bilirubin    0\n",
       "Alkphos             0\n",
       "SGPT                0\n",
       "SGOT                0\n",
       "Total_Proteins      0\n",
       "Albumin             0\n",
       "A_G_Ratio           0\n",
       "Output              0\n",
       "dtype: int64"
      ]
     },
     "execution_count": 9,
     "metadata": {},
     "output_type": "execute_result"
    }
   ],
   "source": [
    "data.isnull().sum()"
   ]
  },
  {
   "cell_type": "code",
   "execution_count": 10,
   "metadata": {
    "lines_to_next_cell": 2
   },
   "outputs": [
    {
     "data": {
      "text/plain": [
       "(583, 11)"
      ]
     },
     "execution_count": 10,
     "metadata": {},
     "output_type": "execute_result"
    }
   ],
   "source": [
    "data.shape"
   ]
  },
  {
   "cell_type": "code",
   "execution_count": 11,
   "metadata": {
    "lines_to_next_cell": 2
   },
   "outputs": [
    {
     "data": {
      "text/html": [
       "<div>\n",
       "<style scoped>\n",
       "    .dataframe tbody tr th:only-of-type {\n",
       "        vertical-align: middle;\n",
       "    }\n",
       "\n",
       "    .dataframe tbody tr th {\n",
       "        vertical-align: top;\n",
       "    }\n",
       "\n",
       "    .dataframe thead th {\n",
       "        text-align: right;\n",
       "    }\n",
       "</style>\n",
       "<table border=\"1\" class=\"dataframe\">\n",
       "  <thead>\n",
       "    <tr style=\"text-align: right;\">\n",
       "      <th></th>\n",
       "      <th>Age</th>\n",
       "      <th>Gender</th>\n",
       "      <th>Total_Bilirubin</th>\n",
       "      <th>Direct_Bilirubin</th>\n",
       "      <th>Alkphos</th>\n",
       "      <th>SGPT</th>\n",
       "      <th>SGOT</th>\n",
       "      <th>Total_Proteins</th>\n",
       "      <th>Albumin</th>\n",
       "      <th>A_G_Ratio</th>\n",
       "    </tr>\n",
       "  </thead>\n",
       "  <tbody>\n",
       "    <tr>\n",
       "      <th>0</th>\n",
       "      <td>65</td>\n",
       "      <td>Female</td>\n",
       "      <td>0.7</td>\n",
       "      <td>0.1</td>\n",
       "      <td>187</td>\n",
       "      <td>16</td>\n",
       "      <td>18</td>\n",
       "      <td>6.8</td>\n",
       "      <td>3.3</td>\n",
       "      <td>0.90</td>\n",
       "    </tr>\n",
       "    <tr>\n",
       "      <th>1</th>\n",
       "      <td>62</td>\n",
       "      <td>Male</td>\n",
       "      <td>10.9</td>\n",
       "      <td>5.5</td>\n",
       "      <td>699</td>\n",
       "      <td>64</td>\n",
       "      <td>100</td>\n",
       "      <td>7.5</td>\n",
       "      <td>3.2</td>\n",
       "      <td>0.74</td>\n",
       "    </tr>\n",
       "    <tr>\n",
       "      <th>2</th>\n",
       "      <td>62</td>\n",
       "      <td>Male</td>\n",
       "      <td>7.3</td>\n",
       "      <td>4.1</td>\n",
       "      <td>490</td>\n",
       "      <td>60</td>\n",
       "      <td>68</td>\n",
       "      <td>7.0</td>\n",
       "      <td>3.3</td>\n",
       "      <td>0.89</td>\n",
       "    </tr>\n",
       "    <tr>\n",
       "      <th>3</th>\n",
       "      <td>58</td>\n",
       "      <td>Male</td>\n",
       "      <td>1.0</td>\n",
       "      <td>0.4</td>\n",
       "      <td>182</td>\n",
       "      <td>14</td>\n",
       "      <td>20</td>\n",
       "      <td>6.8</td>\n",
       "      <td>3.4</td>\n",
       "      <td>1.00</td>\n",
       "    </tr>\n",
       "    <tr>\n",
       "      <th>4</th>\n",
       "      <td>72</td>\n",
       "      <td>Male</td>\n",
       "      <td>3.9</td>\n",
       "      <td>2.0</td>\n",
       "      <td>195</td>\n",
       "      <td>27</td>\n",
       "      <td>59</td>\n",
       "      <td>7.3</td>\n",
       "      <td>2.4</td>\n",
       "      <td>0.40</td>\n",
       "    </tr>\n",
       "  </tbody>\n",
       "</table>\n",
       "</div>"
      ],
      "text/plain": [
       "   Age  Gender  Total_Bilirubin  Direct_Bilirubin  Alkphos  SGPT  SGOT  \\\n",
       "0   65  Female              0.7               0.1      187    16    18   \n",
       "1   62    Male             10.9               5.5      699    64   100   \n",
       "2   62    Male              7.3               4.1      490    60    68   \n",
       "3   58    Male              1.0               0.4      182    14    20   \n",
       "4   72    Male              3.9               2.0      195    27    59   \n",
       "\n",
       "   Total_Proteins  Albumin  A_G_Ratio  \n",
       "0             6.8      3.3       0.90  \n",
       "1             7.5      3.2       0.74  \n",
       "2             7.0      3.3       0.89  \n",
       "3             6.8      3.4       1.00  \n",
       "4             7.3      2.4       0.40  "
      ]
     },
     "execution_count": 11,
     "metadata": {},
     "output_type": "execute_result"
    }
   ],
   "source": [
    "X=data.iloc[:,0:10]\n",
    "X.head()"
   ]
  },
  {
   "cell_type": "code",
   "execution_count": 12,
   "metadata": {
    "lines_to_next_cell": 2
   },
   "outputs": [
    {
     "data": {
      "text/plain": [
       "0    1\n",
       "1    1\n",
       "2    1\n",
       "3    1\n",
       "4    1\n",
       "Name: Output, dtype: int64"
      ]
     },
     "execution_count": 12,
     "metadata": {},
     "output_type": "execute_result"
    }
   ],
   "source": [
    "y=data.iloc[:,-1]\n",
    "y.head()"
   ]
  },
  {
   "cell_type": "code",
   "execution_count": 13,
   "metadata": {
    "lines_to_next_cell": 2
   },
   "outputs": [
    {
     "name": "stdout",
     "output_type": "stream",
     "text": [
      "Number of liver disease patients :  416\n",
      "Number of non-liver disease patients:  167\n"
     ]
    },
    {
     "data": {
      "image/png": "[encoded data removed]",
      "text/plain": [
       "<Figure size 432x288 with 1 Axes>"
      ]
     },
     "metadata": {
      "needs_background": "light"
     },
     "output_type": "display_data"
    }
   ],
   "source": [
    "sns.countplot(data=data, x = 'Output', label='Count')\n",
    "LD, NLD = data['Output'].value_counts()\n",
    "print('Number of liver disease patients : ',LD)\n",
    "print('Number of non-liver disease patients: ',NLD)"
   ]
  },
  {
   "cell_type": "code",
   "execution_count": 14,
   "metadata": {
    "lines_to_next_cell": 2
   },
   "outputs": [
    {
     "name": "stdout",
     "output_type": "stream",
     "text": [
      "Number of Male patients:  441\n",
      "Number of Female patients:  142\n"
     ]
    },
    {
     "data": {
      "image/png": "[encoded data removed]",
      "text/plain": [
       "<Figure size 432x288 with 1 Axes>"
      ]
     },
     "metadata": {
      "needs_background": "light"
     },
     "output_type": "display_data"
    }
   ],
   "source": [
    "sns.countplot(data=data, x = 'Gender', label='Count')\n",
    "M, F = data['Gender'].value_counts()\n",
    "print('Number of Male patients: ',M)\n",
    "print('Number of Female patients: ',F)"
   ]
  },
  {
   "cell_type": "code",
   "execution_count": 15,
   "metadata": {
    "lines_to_next_cell": 2
   },
   "outputs": [
    {
     "data": {
      "image/png": "[encoded data removed]",
      "text/plain": [
       "<Figure size 402.5x360 with 1 Axes>"
      ]
     },
     "metadata": {
      "needs_background": "light"
     },
     "output_type": "display_data"
    }
   ],
   "source": [
    "sns.factorplot(x=\"Age\", y=\"Gender\", hue=\"Output\", data=data); \n",
    "# --- with increase in age no of patients in both genders are increasing"
   ]
  },
  {
   "cell_type": "code",
   "execution_count": 16,
   "metadata": {
    "lines_to_next_cell": 2
   },
   "outputs": [
    {
     "data": {
      "text/html": [
       "<div>\n",
       "<style scoped>\n",
       "    .dataframe tbody tr th:only-of-type {\n",
       "        vertical-align: middle;\n",
       "    }\n",
       "\n",
       "    .dataframe tbody tr th {\n",
       "        vertical-align: top;\n",
       "    }\n",
       "\n",
       "    .dataframe thead th {\n",
       "        text-align: right;\n",
       "    }\n",
       "</style>\n",
       "<table border=\"1\" class=\"dataframe\">\n",
       "  <thead>\n",
       "    <tr style=\"text-align: right;\">\n",
       "      <th></th>\n",
       "      <th>Output</th>\n",
       "      <th>Gender</th>\n",
       "      <th>Age</th>\n",
       "    </tr>\n",
       "  </thead>\n",
       "  <tbody>\n",
       "    <tr>\n",
       "      <th>2</th>\n",
       "      <td>2</td>\n",
       "      <td>Female</td>\n",
       "      <td>42.740000</td>\n",
       "    </tr>\n",
       "    <tr>\n",
       "      <th>3</th>\n",
       "      <td>2</td>\n",
       "      <td>Male</td>\n",
       "      <td>40.598291</td>\n",
       "    </tr>\n",
       "    <tr>\n",
       "      <th>0</th>\n",
       "      <td>1</td>\n",
       "      <td>Female</td>\n",
       "      <td>43.347826</td>\n",
       "    </tr>\n",
       "    <tr>\n",
       "      <th>1</th>\n",
       "      <td>1</td>\n",
       "      <td>Male</td>\n",
       "      <td>46.950617</td>\n",
       "    </tr>\n",
       "  </tbody>\n",
       "</table>\n",
       "</div>"
      ],
      "text/plain": [
       "   Output  Gender        Age\n",
       "2       2  Female  42.740000\n",
       "3       2    Male  40.598291\n",
       "0       1  Female  43.347826\n",
       "1       1    Male  46.950617"
      ]
     },
     "execution_count": 16,
     "metadata": {},
     "output_type": "execute_result"
    }
   ],
   "source": [
    "data[['Gender', 'Output','Age']].groupby(['Output','Gender'], as_index=False).mean().sort_values(by='Output', ascending=False)"
   ]
  },
  {
   "cell_type": "code",
   "execution_count": 17,
   "metadata": {
    "lines_to_next_cell": 2
   },
   "outputs": [
    {
     "data": {
      "text/html": [
       "<div>\n",
       "<style scoped>\n",
       "    .dataframe tbody tr th:only-of-type {\n",
       "        vertical-align: middle;\n",
       "    }\n",
       "\n",
       "    .dataframe tbody tr th {\n",
       "        vertical-align: top;\n",
       "    }\n",
       "\n",
       "    .dataframe thead th {\n",
       "        text-align: right;\n",
       "    }\n",
       "</style>\n",
       "<table border=\"1\" class=\"dataframe\">\n",
       "  <thead>\n",
       "    <tr style=\"text-align: right;\">\n",
       "      <th></th>\n",
       "      <th>Output</th>\n",
       "      <th>Gender</th>\n",
       "      <th>Age</th>\n",
       "    </tr>\n",
       "  </thead>\n",
       "  <tbody>\n",
       "    <tr>\n",
       "      <th>2</th>\n",
       "      <td>2</td>\n",
       "      <td>Female</td>\n",
       "      <td>50</td>\n",
       "    </tr>\n",
       "    <tr>\n",
       "      <th>3</th>\n",
       "      <td>2</td>\n",
       "      <td>Male</td>\n",
       "      <td>117</td>\n",
       "    </tr>\n",
       "    <tr>\n",
       "      <th>0</th>\n",
       "      <td>1</td>\n",
       "      <td>Female</td>\n",
       "      <td>92</td>\n",
       "    </tr>\n",
       "    <tr>\n",
       "      <th>1</th>\n",
       "      <td>1</td>\n",
       "      <td>Male</td>\n",
       "      <td>324</td>\n",
       "    </tr>\n",
       "  </tbody>\n",
       "</table>\n",
       "</div>"
      ],
      "text/plain": [
       "   Output  Gender  Age\n",
       "2       2  Female   50\n",
       "3       2    Male  117\n",
       "0       1  Female   92\n",
       "1       1    Male  324"
      ]
     },
     "execution_count": 17,
     "metadata": {},
     "output_type": "execute_result"
    }
   ],
   "source": [
    "data[['Gender', 'Output','Age']].groupby(['Output','Gender'], as_index=False).count().sort_values(by='Output', ascending=False)"
   ]
  },
  {
   "cell_type": "code",
   "execution_count": 18,
   "metadata": {},
   "outputs": [
    {
     "data": {
      "image/png": "[encoded data removed]",
      "text/plain": [
       "<Figure size 432x432 with 4 Axes>"
      ]
     },
     "metadata": {
      "needs_background": "light"
     },
     "output_type": "display_data"
    }
   ],
   "source": [
    "g = sns.FacetGrid(data, col=\"Output\", row=\"Gender\")\n",
    "g.map(plt.hist, \"Age\", color=\"green\")\n",
    "plt.subplots_adjust()\n",
    "g.fig.suptitle('Role of Gender and Age in Disease');"
   ]
  },
  {
   "cell_type": "code",
   "execution_count": 19,
   "metadata": {
    "lines_to_next_cell": 2
   },
   "outputs": [
    {
     "data": {
      "image/png": "[encoded data removed]",
      "text/plain": [
       "<Figure size 432x432 with 4 Axes>"
      ]
     },
     "metadata": {
      "needs_background": "light"
     },
     "output_type": "display_data"
    }
   ],
   "source": [
    "# Relationship between features Total Bilirubin and Direct Bilirubin\n",
    "g = sns.FacetGrid(data, col=\"Gender\", row=\"Output\")\n",
    "g.map(plt.scatter,\"Direct_Bilirubin\", \"Total_Bilirubin\", edgecolor=\"y\")\n",
    "plt.subplots_adjust()"
   ]
  },
  {
   "cell_type": "code",
   "execution_count": 20,
   "metadata": {},
   "outputs": [
    {
     "data": {
      "text/plain": [
       "<seaborn.axisgrid.JointGrid at 0x670a9e3c48>"
      ]
     },
     "execution_count": 20,
     "metadata": {},
     "output_type": "execute_result"
    },
    {
     "data": {
      "image/png": "[encoded data removed]",
      "text/plain": [
       "<Figure size 432x432 with 3 Axes>"
      ]
     },
     "metadata": {
      "needs_background": "light"
     },
     "output_type": "display_data"
    }
   ],
   "source": [
    "sns.jointplot(\"Total_Bilirubin\", \"Direct_Bilirubin\", data=data, kind=\"reg\")\n",
    "#indicates linear relationship between SGOT & SGPT and the gender"
   ]
  },
  {
   "cell_type": "code",
   "execution_count": 21,
   "metadata": {
    "lines_to_next_cell": 2
   },
   "outputs": [
    {
     "data": {
      "image/png": "[encoded data removed]",
      "text/plain": [
       "<Figure size 432x432 with 4 Axes>"
      ]
     },
     "metadata": {
      "needs_background": "light"
     },
     "output_type": "display_data"
    }
   ],
   "source": [
    "# Relationship between features Total Protenis and Albumin\n",
    "g = sns.FacetGrid(data, col=\"Gender\", row=\"Output\", margin_titles=True)\n",
    "g.map(plt.scatter,\"Total_Proteins\", \"Albumin\",  edgecolor=\"r\")\n",
    "plt.subplots_adjust()"
   ]
  },
  {
   "cell_type": "code",
   "execution_count": 22,
   "metadata": {
    "lines_to_next_cell": 2
   },
   "outputs": [
    {
     "data": {
      "text/plain": [
       "<seaborn.axisgrid.JointGrid at 0x670b594688>"
      ]
     },
     "execution_count": 22,
     "metadata": {},
     "output_type": "execute_result"
    },
    {
     "data": {
      "image/png": "[encoded data removed]",
      "text/plain": [
       "<Figure size 432x432 with 3 Axes>"
      ]
     },
     "metadata": {
      "needs_background": "light"
     },
     "output_type": "display_data"
    }
   ],
   "source": [
    "sns.jointplot(\"Albumin\", \"Total_Proteins\", data=data, kind=\"reg\")\n",
    "#indicates linear relationship between SGOT & SGPT and the gender"
   ]
  },
  {
   "cell_type": "code",
   "execution_count": 23,
   "metadata": {
    "lines_to_next_cell": 2
   },
   "outputs": [
    {
     "data": {
      "image/png": "[encoded data removed]",
      "text/plain": [
       "<Figure size 432x432 with 4 Axes>"
      ]
     },
     "metadata": {
      "needs_background": "light"
     },
     "output_type": "display_data"
    }
   ],
   "source": [
    "g = sns.FacetGrid(data, col=\"Gender\", row=\"Output\", margin_titles=True)\n",
    "g.map(plt.scatter,\"SGOT\", \"SGPT\",  edgecolor=\"w\")\n",
    "plt.subplots_adjust()"
   ]
  },
  {
   "cell_type": "code",
   "execution_count": 24,
   "metadata": {
    "lines_to_next_cell": 2
   },
   "outputs": [
    {
     "data": {
      "text/plain": [
       "<seaborn.axisgrid.JointGrid at 0x670a8ec188>"
      ]
     },
     "execution_count": 24,
     "metadata": {},
     "output_type": "execute_result"
    },
    {
     "data": {
      "image/png": "[encoded data removed]",
      "text/plain": [
       "<Figure size 432x432 with 3 Axes>"
      ]
     },
     "metadata": {
      "needs_background": "light"
     },
     "output_type": "display_data"
    }
   ],
   "source": [
    "sns.jointplot(\"SGOT\", \"SGPT\", data=data, kind=\"reg\")\n",
    "#indicates linear relationship between SGOT & SGPT and the gender"
   ]
  },
  {
   "cell_type": "code",
   "execution_count": 25,
   "metadata": {
    "lines_to_next_cell": 2
   },
   "outputs": [
    {
     "data": {
      "image/png": "[encoded data removed]",
      "text/plain": [
       "<Figure size 432x432 with 4 Axes>"
      ]
     },
     "metadata": {
      "needs_background": "light"
     },
     "output_type": "display_data"
    }
   ],
   "source": [
    "g = sns.FacetGrid(data, col=\"Gender\", row=\"Output\")\n",
    "g.map(plt.scatter,\"Albumin\", \"A_G_Ratio\",  edgecolor=\"b\")\n",
    "plt.subplots_adjust()"
   ]
  },
  {
   "cell_type": "code",
   "execution_count": 26,
   "metadata": {
    "lines_to_next_cell": 2
   },
   "outputs": [
    {
     "data": {
      "text/plain": [
       "<seaborn.axisgrid.JointGrid at 0x670c879e88>"
      ]
     },
     "execution_count": 26,
     "metadata": {},
     "output_type": "execute_result"
    },
    {
     "data": {
      "image/png": "[encoded data removed]",
      "text/plain": [
       "<Figure size 432x432 with 3 Axes>"
      ]
     },
     "metadata": {
      "needs_background": "light"
     },
     "output_type": "display_data"
    }
   ],
   "source": [
    "sns.jointplot(\"Albumin\", \"A_G_Ratio\", data=data, kind=\"reg\")\n",
    "#indicates linear relationship between Albumin & A/G Ratio and the gender"
   ]
  },
  {
   "cell_type": "code",
   "execution_count": 27,
   "metadata": {
    "lines_to_next_cell": 2
   },
   "outputs": [
    {
     "data": {
      "image/png": "[encoded data removed]",
      "text/plain": [
       "<Figure size 432x432 with 4 Axes>"
      ]
     },
     "metadata": {
      "needs_background": "light"
     },
     "output_type": "display_data"
    }
   ],
   "source": [
    "g = sns.FacetGrid(data, col=\"Gender\", row=\"Output\")\n",
    "g.map(plt.scatter,\"Total_Proteins\", \"A_G_Ratio\",  edgecolor=\"b\")\n",
    "plt.subplots_adjust()"
   ]
  },
  {
   "cell_type": "code",
   "execution_count": 28,
   "metadata": {},
   "outputs": [
    {
     "data": {
      "text/plain": [
       "<seaborn.axisgrid.JointGrid at 0x670b0c74c8>"
      ]
     },
     "execution_count": 28,
     "metadata": {},
     "output_type": "execute_result"
    },
    {
     "data": {
      "image/png": "[encoded data removed]",
      "text/plain": [
       "<Figure size 432x432 with 3 Axes>"
      ]
     },
     "metadata": {
      "needs_background": "light"
     },
     "output_type": "display_data"
    }
   ],
   "source": [
    "sns.jointplot(\"Total_Proteins\", \"A_G_Ratio\", data=data, kind=\"reg\")\n",
    "#indicates non-linear relationship between Albumin & A/G Ratio and the gender\n",
    "\n",
    "\n",
    "# All the ablove plots indicates direct relationship between the following features:\n",
    "# Direct Bilirubin & Total Bilirubin\n",
    "# SGOT & SGPT\n",
    "# Total Protiens & Albumin\n",
    "# A/G Ratio & Albumin\n",
    "# "
   ]
  },
  {
   "cell_type": "code",
   "execution_count": 29,
   "metadata": {
    "lines_to_next_cell": 2
   },
   "outputs": [
    {
     "data": {
      "text/html": [
       "<div>\n",
       "<style scoped>\n",
       "    .dataframe tbody tr th:only-of-type {\n",
       "        vertical-align: middle;\n",
       "    }\n",
       "\n",
       "    .dataframe tbody tr th {\n",
       "        vertical-align: top;\n",
       "    }\n",
       "\n",
       "    .dataframe thead th {\n",
       "        text-align: right;\n",
       "    }\n",
       "</style>\n",
       "<table border=\"1\" class=\"dataframe\">\n",
       "  <thead>\n",
       "    <tr style=\"text-align: right;\">\n",
       "      <th></th>\n",
       "      <th>Age</th>\n",
       "      <th>Total_Bilirubin</th>\n",
       "      <th>Direct_Bilirubin</th>\n",
       "      <th>Alkphos</th>\n",
       "      <th>SGPT</th>\n",
       "      <th>SGOT</th>\n",
       "      <th>Total_Proteins</th>\n",
       "      <th>Albumin</th>\n",
       "      <th>A_G_Ratio</th>\n",
       "      <th>Output</th>\n",
       "    </tr>\n",
       "  </thead>\n",
       "  <tbody>\n",
       "    <tr>\n",
       "      <th>Age</th>\n",
       "      <td>1.000000</td>\n",
       "      <td>0.011763</td>\n",
       "      <td>0.007529</td>\n",
       "      <td>0.080425</td>\n",
       "      <td>-0.086883</td>\n",
       "      <td>-0.019910</td>\n",
       "      <td>-0.187461</td>\n",
       "      <td>-0.265924</td>\n",
       "      <td>-0.203418</td>\n",
       "      <td>-0.137351</td>\n",
       "    </tr>\n",
       "    <tr>\n",
       "      <th>Total_Bilirubin</th>\n",
       "      <td>0.011763</td>\n",
       "      <td>1.000000</td>\n",
       "      <td>0.874618</td>\n",
       "      <td>0.206669</td>\n",
       "      <td>0.214065</td>\n",
       "      <td>0.237831</td>\n",
       "      <td>-0.008099</td>\n",
       "      <td>-0.222250</td>\n",
       "      <td>-0.192539</td>\n",
       "      <td>-0.220208</td>\n",
       "    </tr>\n",
       "    <tr>\n",
       "      <th>Direct_Bilirubin</th>\n",
       "      <td>0.007529</td>\n",
       "      <td>0.874618</td>\n",
       "      <td>1.000000</td>\n",
       "      <td>0.234939</td>\n",
       "      <td>0.233894</td>\n",
       "      <td>0.257544</td>\n",
       "      <td>-0.000139</td>\n",
       "      <td>-0.228531</td>\n",
       "      <td>-0.186023</td>\n",
       "      <td>-0.246046</td>\n",
       "    </tr>\n",
       "    <tr>\n",
       "      <th>Alkphos</th>\n",
       "      <td>0.080425</td>\n",
       "      <td>0.206669</td>\n",
       "      <td>0.234939</td>\n",
       "      <td>1.000000</td>\n",
       "      <td>0.125680</td>\n",
       "      <td>0.167196</td>\n",
       "      <td>-0.028514</td>\n",
       "      <td>-0.165453</td>\n",
       "      <td>-0.217864</td>\n",
       "      <td>-0.184866</td>\n",
       "    </tr>\n",
       "    <tr>\n",
       "      <th>SGPT</th>\n",
       "      <td>-0.086883</td>\n",
       "      <td>0.214065</td>\n",
       "      <td>0.233894</td>\n",
       "      <td>0.125680</td>\n",
       "      <td>1.000000</td>\n",
       "      <td>0.791966</td>\n",
       "      <td>-0.042518</td>\n",
       "      <td>-0.029742</td>\n",
       "      <td>0.004184</td>\n",
       "      <td>-0.163416</td>\n",
       "    </tr>\n",
       "    <tr>\n",
       "      <th>SGOT</th>\n",
       "      <td>-0.019910</td>\n",
       "      <td>0.237831</td>\n",
       "      <td>0.257544</td>\n",
       "      <td>0.167196</td>\n",
       "      <td>0.791966</td>\n",
       "      <td>1.000000</td>\n",
       "      <td>-0.025645</td>\n",
       "      <td>-0.085290</td>\n",
       "      <td>-0.062993</td>\n",
       "      <td>-0.151934</td>\n",
       "    </tr>\n",
       "    <tr>\n",
       "      <th>Total_Proteins</th>\n",
       "      <td>-0.187461</td>\n",
       "      <td>-0.008099</td>\n",
       "      <td>-0.000139</td>\n",
       "      <td>-0.028514</td>\n",
       "      <td>-0.042518</td>\n",
       "      <td>-0.025645</td>\n",
       "      <td>1.000000</td>\n",
       "      <td>0.784053</td>\n",
       "      <td>0.223185</td>\n",
       "      <td>0.035008</td>\n",
       "    </tr>\n",
       "    <tr>\n",
       "      <th>Albumin</th>\n",
       "      <td>-0.265924</td>\n",
       "      <td>-0.222250</td>\n",
       "      <td>-0.228531</td>\n",
       "      <td>-0.165453</td>\n",
       "      <td>-0.029742</td>\n",
       "      <td>-0.085290</td>\n",
       "      <td>0.784053</td>\n",
       "      <td>1.000000</td>\n",
       "      <td>0.654450</td>\n",
       "      <td>0.161388</td>\n",
       "    </tr>\n",
       "    <tr>\n",
       "      <th>A_G_Ratio</th>\n",
       "      <td>-0.203418</td>\n",
       "      <td>-0.192539</td>\n",
       "      <td>-0.186023</td>\n",
       "      <td>-0.217864</td>\n",
       "      <td>0.004184</td>\n",
       "      <td>-0.062993</td>\n",
       "      <td>0.223185</td>\n",
       "      <td>0.654450</td>\n",
       "      <td>1.000000</td>\n",
       "      <td>0.148265</td>\n",
       "    </tr>\n",
       "    <tr>\n",
       "      <th>Output</th>\n",
       "      <td>-0.137351</td>\n",
       "      <td>-0.220208</td>\n",
       "      <td>-0.246046</td>\n",
       "      <td>-0.184866</td>\n",
       "      <td>-0.163416</td>\n",
       "      <td>-0.151934</td>\n",
       "      <td>0.035008</td>\n",
       "      <td>0.161388</td>\n",
       "      <td>0.148265</td>\n",
       "      <td>1.000000</td>\n",
       "    </tr>\n",
       "  </tbody>\n",
       "</table>\n",
       "</div>"
      ],
      "text/plain": [
       "                       Age  Total_Bilirubin  Direct_Bilirubin   Alkphos  \\\n",
       "Age               1.000000         0.011763          0.007529  0.080425   \n",
       "Total_Bilirubin   0.011763         1.000000          0.874618  0.206669   \n",
       "Direct_Bilirubin  0.007529         0.874618          1.000000  0.234939   \n",
       "Alkphos           0.080425         0.206669          0.234939  1.000000   \n",
       "SGPT             -0.086883         0.214065          0.233894  0.125680   \n",
       "SGOT             -0.019910         0.237831          0.257544  0.167196   \n",
       "Total_Proteins   -0.187461        -0.008099         -0.000139 -0.028514   \n",
       "Albumin          -0.265924        -0.222250         -0.228531 -0.165453   \n",
       "A_G_Ratio        -0.203418        -0.192539         -0.186023 -0.217864   \n",
       "Output           -0.137351        -0.220208         -0.246046 -0.184866   \n",
       "\n",
       "                      SGPT      SGOT  Total_Proteins   Albumin  A_G_Ratio  \\\n",
       "Age              -0.086883 -0.019910       -0.187461 -0.265924  -0.203418   \n",
       "Total_Bilirubin   0.214065  0.237831       -0.008099 -0.222250  -0.192539   \n",
       "Direct_Bilirubin  0.233894  0.257544       -0.000139 -0.228531  -0.186023   \n",
       "Alkphos           0.125680  0.167196       -0.028514 -0.165453  -0.217864   \n",
       "SGPT              1.000000  0.791966       -0.042518 -0.029742   0.004184   \n",
       "SGOT              0.791966  1.000000       -0.025645 -0.085290  -0.062993   \n",
       "Total_Proteins   -0.042518 -0.025645        1.000000  0.784053   0.223185   \n",
       "Albumin          -0.029742 -0.085290        0.784053  1.000000   0.654450   \n",
       "A_G_Ratio         0.004184 -0.062993        0.223185  0.654450   1.000000   \n",
       "Output           -0.163416 -0.151934        0.035008  0.161388   0.148265   \n",
       "\n",
       "                    Output  \n",
       "Age              -0.137351  \n",
       "Total_Bilirubin  -0.220208  \n",
       "Direct_Bilirubin -0.246046  \n",
       "Alkphos          -0.184866  \n",
       "SGPT             -0.163416  \n",
       "SGOT             -0.151934  \n",
       "Total_Proteins    0.035008  \n",
       "Albumin           0.161388  \n",
       "A_G_Ratio         0.148265  \n",
       "Output            1.000000  "
      ]
     },
     "execution_count": 29,
     "metadata": {},
     "output_type": "execute_result"
    }
   ],
   "source": [
    "data.corr()"
   ]
  },
  {
   "cell_type": "code",
   "execution_count": 30,
   "metadata": {
    "lines_to_next_cell": 2
   },
   "outputs": [
    {
     "data": {
      "text/plain": [
       "Text(0.5, 1, 'Correlation between features')"
      ]
     },
     "execution_count": 30,
     "metadata": {},
     "output_type": "execute_result"
    },
    {
     "data": {
      "image/png": "[encoded data removed]",
      "text/plain": [
       "<Figure size 720x720 with 2 Axes>"
      ]
     },
     "metadata": {
      "needs_background": "light"
     },
     "output_type": "display_data"
    }
   ],
   "source": [
    "plt.figure(figsize=(10, 10))\n",
    "sns.heatmap(data.corr(),annot=True,\n",
    "           cmap= 'YlGnBu')\n",
    "plt.title('Correlation between features')"
   ]
  },
  {
   "cell_type": "code",
   "execution_count": 31,
   "metadata": {},
   "outputs": [
    {
     "data": {
      "text/html": [
       "<div>\n",
       "<style scoped>\n",
       "    .dataframe tbody tr th:only-of-type {\n",
       "        vertical-align: middle;\n",
       "    }\n",
       "\n",
       "    .dataframe tbody tr th {\n",
       "        vertical-align: top;\n",
       "    }\n",
       "\n",
       "    .dataframe thead th {\n",
       "        text-align: right;\n",
       "    }\n",
       "</style>\n",
       "<table border=\"1\" class=\"dataframe\">\n",
       "  <thead>\n",
       "    <tr style=\"text-align: right;\">\n",
       "      <th></th>\n",
       "      <th>Age</th>\n",
       "      <th>Total_Bilirubin</th>\n",
       "      <th>Direct_Bilirubin</th>\n",
       "      <th>Alkphos</th>\n",
       "      <th>SGPT</th>\n",
       "      <th>SGOT</th>\n",
       "      <th>Total_Proteins</th>\n",
       "      <th>Albumin</th>\n",
       "      <th>A_G_Ratio</th>\n",
       "      <th>Output</th>\n",
       "    </tr>\n",
       "  </thead>\n",
       "  <tbody>\n",
       "    <tr>\n",
       "      <th>count</th>\n",
       "      <td>583.000000</td>\n",
       "      <td>583.000000</td>\n",
       "      <td>583.000000</td>\n",
       "      <td>583.000000</td>\n",
       "      <td>583.000000</td>\n",
       "      <td>583.000000</td>\n",
       "      <td>583.000000</td>\n",
       "      <td>583.000000</td>\n",
       "      <td>583.000000</td>\n",
       "      <td>583.000000</td>\n",
       "    </tr>\n",
       "    <tr>\n",
       "      <th>mean</th>\n",
       "      <td>44.746141</td>\n",
       "      <td>3.298799</td>\n",
       "      <td>1.486106</td>\n",
       "      <td>290.576329</td>\n",
       "      <td>80.713551</td>\n",
       "      <td>109.910806</td>\n",
       "      <td>6.483190</td>\n",
       "      <td>3.141852</td>\n",
       "      <td>0.940566</td>\n",
       "      <td>1.286449</td>\n",
       "    </tr>\n",
       "    <tr>\n",
       "      <th>std</th>\n",
       "      <td>16.189833</td>\n",
       "      <td>6.209522</td>\n",
       "      <td>2.808498</td>\n",
       "      <td>242.937989</td>\n",
       "      <td>182.620356</td>\n",
       "      <td>288.918529</td>\n",
       "      <td>1.085451</td>\n",
       "      <td>0.795519</td>\n",
       "      <td>0.327962</td>\n",
       "      <td>0.452490</td>\n",
       "    </tr>\n",
       "    <tr>\n",
       "      <th>min</th>\n",
       "      <td>4.000000</td>\n",
       "      <td>0.400000</td>\n",
       "      <td>0.100000</td>\n",
       "      <td>63.000000</td>\n",
       "      <td>10.000000</td>\n",
       "      <td>10.000000</td>\n",
       "      <td>2.700000</td>\n",
       "      <td>0.900000</td>\n",
       "      <td>0.000000</td>\n",
       "      <td>1.000000</td>\n",
       "    </tr>\n",
       "    <tr>\n",
       "      <th>25%</th>\n",
       "      <td>33.000000</td>\n",
       "      <td>0.800000</td>\n",
       "      <td>0.200000</td>\n",
       "      <td>175.500000</td>\n",
       "      <td>23.000000</td>\n",
       "      <td>25.000000</td>\n",
       "      <td>5.800000</td>\n",
       "      <td>2.600000</td>\n",
       "      <td>0.700000</td>\n",
       "      <td>1.000000</td>\n",
       "    </tr>\n",
       "    <tr>\n",
       "      <th>50%</th>\n",
       "      <td>45.000000</td>\n",
       "      <td>1.000000</td>\n",
       "      <td>0.300000</td>\n",
       "      <td>208.000000</td>\n",
       "      <td>35.000000</td>\n",
       "      <td>42.000000</td>\n",
       "      <td>6.600000</td>\n",
       "      <td>3.100000</td>\n",
       "      <td>0.920000</td>\n",
       "      <td>1.000000</td>\n",
       "    </tr>\n",
       "    <tr>\n",
       "      <th>75%</th>\n",
       "      <td>58.000000</td>\n",
       "      <td>2.600000</td>\n",
       "      <td>1.300000</td>\n",
       "      <td>298.000000</td>\n",
       "      <td>60.500000</td>\n",
       "      <td>87.000000</td>\n",
       "      <td>7.200000</td>\n",
       "      <td>3.800000</td>\n",
       "      <td>1.100000</td>\n",
       "      <td>2.000000</td>\n",
       "    </tr>\n",
       "    <tr>\n",
       "      <th>max</th>\n",
       "      <td>90.000000</td>\n",
       "      <td>75.000000</td>\n",
       "      <td>19.700000</td>\n",
       "      <td>2110.000000</td>\n",
       "      <td>2000.000000</td>\n",
       "      <td>4929.000000</td>\n",
       "      <td>9.600000</td>\n",
       "      <td>5.500000</td>\n",
       "      <td>2.800000</td>\n",
       "      <td>2.000000</td>\n",
       "    </tr>\n",
       "  </tbody>\n",
       "</table>\n",
       "</div>"
      ],
      "text/plain": [
       "              Age  Total_Bilirubin  Direct_Bilirubin      Alkphos  \\\n",
       "count  583.000000       583.000000        583.000000   583.000000   \n",
       "mean    44.746141         3.298799          1.486106   290.576329   \n",
       "std     16.189833         6.209522          2.808498   242.937989   \n",
       "min      4.000000         0.400000          0.100000    63.000000   \n",
       "25%     33.000000         0.800000          0.200000   175.500000   \n",
       "50%     45.000000         1.000000          0.300000   208.000000   \n",
       "75%     58.000000         2.600000          1.300000   298.000000   \n",
       "max     90.000000        75.000000         19.700000  2110.000000   \n",
       "\n",
       "              SGPT         SGOT  Total_Proteins     Albumin   A_G_Ratio  \\\n",
       "count   583.000000   583.000000      583.000000  583.000000  583.000000   \n",
       "mean     80.713551   109.910806        6.483190    3.141852    0.940566   \n",
       "std     182.620356   288.918529        1.085451    0.795519    0.327962   \n",
       "min      10.000000    10.000000        2.700000    0.900000    0.000000   \n",
       "25%      23.000000    25.000000        5.800000    2.600000    0.700000   \n",
       "50%      35.000000    42.000000        6.600000    3.100000    0.920000   \n",
       "75%      60.500000    87.000000        7.200000    3.800000    1.100000   \n",
       "max    2000.000000  4929.000000        9.600000    5.500000    2.800000   \n",
       "\n",
       "           Output  \n",
       "count  583.000000  \n",
       "mean     1.286449  \n",
       "std      0.452490  \n",
       "min      1.000000  \n",
       "25%      1.000000  \n",
       "50%      1.000000  \n",
       "75%      2.000000  \n",
       "max      2.000000  "
      ]
     },
     "execution_count": 31,
     "metadata": {},
     "output_type": "execute_result"
    }
   ],
   "source": [
    "data.describe()"
   ]
  },
  {
   "cell_type": "markdown",
   "metadata": {},
   "source": [
    "## Checking for outliers"
   ]
  },
  {
   "cell_type": "code",
   "execution_count": 32,
   "metadata": {
    "lines_to_next_cell": 2
   },
   "outputs": [
    {
     "data": {
      "text/plain": [
       "233    2110\n",
       "128    1896\n",
       "429    1750\n",
       "116    1630\n",
       "77     1620\n",
       "Name: Alkphos, dtype: int64"
      ]
     },
     "execution_count": 32,
     "metadata": {},
     "output_type": "execute_result"
    }
   ],
   "source": [
    "data.Alkphos.sort_values(ascending=False).head()"
   ]
  },
  {
   "cell_type": "code",
   "execution_count": 33,
   "metadata": {
    "lines_to_next_cell": 2
   },
   "outputs": [
    {
     "data": {
      "text/plain": [
       "<matplotlib.axes._subplots.AxesSubplot at 0x670d604f48>"
      ]
     },
     "execution_count": 33,
     "metadata": {},
     "output_type": "execute_result"
    },
    {
     "data": {
      "image/png": "[encoded data removed]",
      "text/plain": [
       "<Figure size 432x288 with 1 Axes>"
      ]
     },
     "metadata": {
      "needs_background": "light"
     },
     "output_type": "display_data"
    }
   ],
   "source": [
    "sns.boxplot(data.SGPT)"
   ]
  },
  {
   "cell_type": "code",
   "execution_count": 34,
   "metadata": {
    "lines_to_next_cell": 2
   },
   "outputs": [
    {
     "data": {
      "text/plain": [
       "117    2000\n",
       "27     1680\n",
       "47     1630\n",
       "118    1350\n",
       "135    1250\n",
       "Name: SGPT, dtype: int64"
      ]
     },
     "execution_count": 34,
     "metadata": {},
     "output_type": "execute_result"
    }
   ],
   "source": [
    "data.SGPT.sort_values(ascending=False).head()"
   ]
  },
  {
   "cell_type": "code",
   "execution_count": 35,
   "metadata": {
    "lines_to_next_cell": 2
   },
   "outputs": [
    {
     "data": {
      "text/plain": [
       "<matplotlib.axes._subplots.AxesSubplot at 0x670d372348>"
      ]
     },
     "execution_count": 35,
     "metadata": {},
     "output_type": "execute_result"
    },
    {
     "data": {
      "image/png": "[encoded data removed]",
      "text/plain": [
       "<Figure size 432x288 with 1 Axes>"
      ]
     },
     "metadata": {
      "needs_background": "light"
     },
     "output_type": "display_data"
    }
   ],
   "source": [
    "sns.boxplot(data.SGOT)"
   ]
  },
  {
   "cell_type": "code",
   "execution_count": 36,
   "metadata": {
    "lines_to_next_cell": 2
   },
   "outputs": [
    {
     "data": {
      "text/plain": [
       "135    4929\n",
       "117    2946\n",
       "118    1600\n",
       "207    1500\n",
       "119    1050\n",
       "Name: SGOT, dtype: int64"
      ]
     },
     "execution_count": 36,
     "metadata": {},
     "output_type": "execute_result"
    }
   ],
   "source": [
    "data.SGOT.sort_values(ascending=False).head()"
   ]
  },
  {
   "cell_type": "code",
   "execution_count": 37,
   "metadata": {
    "lines_to_next_cell": 2
   },
   "outputs": [
    {
     "data": {
      "text/plain": [
       "<matplotlib.axes._subplots.AxesSubplot at 0x670d3c7648>"
      ]
     },
     "execution_count": 37,
     "metadata": {},
     "output_type": "execute_result"
    },
    {
     "data": {
      "image/png": "[encoded data removed]",
      "text/plain": [
       "<Figure size 432x288 with 1 Axes>"
      ]
     },
     "metadata": {
      "needs_background": "light"
     },
     "output_type": "display_data"
    }
   ],
   "source": [
    "sns.boxplot(data.Total_Proteins)"
   ]
  },
  {
   "cell_type": "code",
   "execution_count": 38,
   "metadata": {
    "lines_to_next_cell": 2
   },
   "outputs": [
    {
     "data": {
      "text/plain": [
       "<matplotlib.axes._subplots.AxesSubplot at 0x670b804e48>"
      ]
     },
     "execution_count": 38,
     "metadata": {},
     "output_type": "execute_result"
    },
    {
     "data": {
      "image/png": "[encoded data removed]",
      "text/plain": [
       "<Figure size 432x288 with 1 Axes>"
      ]
     },
     "metadata": {
      "needs_background": "light"
     },
     "output_type": "display_data"
    }
   ],
   "source": [
    "sns.boxplot(data.Total_Bilirubin)"
   ]
  },
  {
   "cell_type": "code",
   "execution_count": 39,
   "metadata": {
    "lines_to_next_cell": 2
   },
   "outputs": [
    {
     "data": {
      "text/plain": [
       "166    75.0\n",
       "559    42.8\n",
       "505    32.6\n",
       "531    30.8\n",
       "259    30.5\n",
       "Name: Total_Bilirubin, dtype: float64"
      ]
     },
     "execution_count": 39,
     "metadata": {},
     "output_type": "execute_result"
    }
   ],
   "source": [
    "data.Total_Bilirubin.sort_values(ascending=False).head()"
   ]
  },
  {
   "cell_type": "code",
   "execution_count": 40,
   "metadata": {
    "lines_to_next_cell": 2
   },
   "outputs": [
    {
     "data": {
      "text/plain": [
       "<matplotlib.axes._subplots.AxesSubplot at 0x670c843908>"
      ]
     },
     "execution_count": 40,
     "metadata": {},
     "output_type": "execute_result"
    },
    {
     "data": {
      "image/png": "[encoded data removed]",
      "text/plain": [
       "<Figure size 432x288 with 1 Axes>"
      ]
     },
     "metadata": {
      "needs_background": "light"
     },
     "output_type": "display_data"
    }
   ],
   "source": [
    "sns.boxplot(data.Direct_Bilirubin)"
   ]
  },
  {
   "cell_type": "code",
   "execution_count": 41,
   "metadata": {
    "lines_to_next_cell": 2
   },
   "outputs": [
    {
     "data": {
      "text/plain": [
       "<matplotlib.axes._subplots.AxesSubplot at 0x670b829648>"
      ]
     },
     "execution_count": 41,
     "metadata": {},
     "output_type": "execute_result"
    },
    {
     "data": {
      "image/png": "[encoded data removed]",
      "text/plain": [
       "<Figure size 432x288 with 1 Axes>"
      ]
     },
     "metadata": {
      "needs_background": "light"
     },
     "output_type": "display_data"
    }
   ],
   "source": [
    "sns.boxplot(data.Albumin)"
   ]
  },
  {
   "cell_type": "code",
   "execution_count": 42,
   "metadata": {
    "lines_to_next_cell": 2
   },
   "outputs": [
    {
     "data": {
      "text/plain": [
       "<matplotlib.axes._subplots.AxesSubplot at 0x670b7a1888>"
      ]
     },
     "execution_count": 42,
     "metadata": {},
     "output_type": "execute_result"
    },
    {
     "data": {
      "image/png": "[encoded data removed]",
      "text/plain": [
       "<Figure size 432x288 with 1 Axes>"
      ]
     },
     "metadata": {
      "needs_background": "light"
     },
     "output_type": "display_data"
    }
   ],
   "source": [
    "sns.boxplot(data.A_G_Ratio)"
   ]
  },
  {
   "cell_type": "code",
   "execution_count": 43,
   "metadata": {
    "lines_to_next_cell": 2
   },
   "outputs": [
    {
     "data": {
      "text/plain": [
       "548    2.80\n",
       "572    2.50\n",
       "575    2.50\n",
       "215    1.90\n",
       "491    1.85\n",
       "Name: A_G_Ratio, dtype: float64"
      ]
     },
     "execution_count": 43,
     "metadata": {},
     "output_type": "execute_result"
    }
   ],
   "source": [
    "data.A_G_Ratio.sort_values(ascending=False).head()"
   ]
  },
  {
   "cell_type": "markdown",
   "metadata": {},
   "source": [
    "### Removing Outliers from SGOT column"
   ]
  },
  {
   "cell_type": "code",
   "execution_count": 44,
   "metadata": {
    "lines_to_next_cell": 2
   },
   "outputs": [
    {
     "data": {
      "text/plain": [
       "(582, 11)"
      ]
     },
     "execution_count": 44,
     "metadata": {},
     "output_type": "execute_result"
    }
   ],
   "source": [
    "data = data[data.SGOT <=3000] \n",
    "data.shape"
   ]
  },
  {
   "cell_type": "code",
   "execution_count": 45,
   "metadata": {
    "lines_to_next_cell": 2
   },
   "outputs": [
    {
     "data": {
      "text/plain": [
       "<matplotlib.axes._subplots.AxesSubplot at 0x670d44e648>"
      ]
     },
     "execution_count": 45,
     "metadata": {},
     "output_type": "execute_result"
    },
    {
     "data": {
      "image/png": "[encoded data removed]",
      "text/plain": [
       "<Figure size 432x288 with 1 Axes>"
      ]
     },
     "metadata": {
      "needs_background": "light"
     },
     "output_type": "display_data"
    }
   ],
   "source": [
    "sns.boxplot(data.SGOT)"
   ]
  },
  {
   "cell_type": "code",
   "execution_count": 46,
   "metadata": {
    "lines_to_next_cell": 2
   },
   "outputs": [
    {
     "data": {
      "text/plain": [
       "117    2946\n",
       "118    1600\n",
       "207    1500\n",
       "199    1050\n",
       "119    1050\n",
       "Name: SGOT, dtype: int64"
      ]
     },
     "execution_count": 46,
     "metadata": {},
     "output_type": "execute_result"
    }
   ],
   "source": [
    "data.SGOT.sort_values(ascending=False).head()"
   ]
  },
  {
   "cell_type": "code",
   "execution_count": 47,
   "metadata": {
    "lines_to_next_cell": 2
   },
   "outputs": [],
   "source": [
    "LabelEnconding= preprocessing.LabelEncoder()\n",
    "LabelEnconding.fit(['Male','Female'])\n",
    "data.loc[:,'Gender'] = LabelEnconding.transform(data['Gender'])"
   ]
  },
  {
   "cell_type": "markdown",
   "metadata": {},
   "source": [
    "### Removing duplicate values"
   ]
  },
  {
   "cell_type": "code",
   "execution_count": 48,
   "metadata": {
    "lines_to_next_cell": 2
   },
   "outputs": [
    {
     "name": "stdout",
     "output_type": "stream",
     "text": [
      "(569, 11)\n"
     ]
    }
   ],
   "source": [
    "data = data.drop_duplicates()\n",
    "print( data.shape ) \n",
    "#There were 13 duplicates"
   ]
  },
  {
   "cell_type": "code",
   "execution_count": 49,
   "metadata": {
    "lines_to_next_cell": 2
   },
   "outputs": [
    {
     "name": "stdout",
     "output_type": "stream",
     "text": [
      "     Age  Gender  Total_Bilirubin  Direct_Bilirubin  Alkphos  SGPT  SGOT  \\\n",
      "0     65       0              0.7               0.1      187    16    18   \n",
      "1     62       1             10.9               5.5      699    64   100   \n",
      "2     62       1              7.3               4.1      490    60    68   \n",
      "3     58       1              1.0               0.4      182    14    20   \n",
      "4     72       1              3.9               2.0      195    27    59   \n",
      "..   ...     ...              ...               ...      ...   ...   ...   \n",
      "578   60       1              0.5               0.1      500    20    34   \n",
      "579   40       1              0.6               0.1       98    35    31   \n",
      "580   52       1              0.8               0.2      245    48    49   \n",
      "581   31       1              1.3               0.5      184    29    32   \n",
      "582   38       1              1.0               0.3      216    21    24   \n",
      "\n",
      "     Total_Proteins  Albumin  A_G_Ratio  Output  \n",
      "0               6.8      3.3       0.90       1  \n",
      "1               7.5      3.2       0.74       1  \n",
      "2               7.0      3.3       0.89       1  \n",
      "3               6.8      3.4       1.00       1  \n",
      "4               7.3      2.4       0.40       1  \n",
      "..              ...      ...        ...     ...  \n",
      "578             5.9      1.6       0.37       2  \n",
      "579             6.0      3.2       1.10       1  \n",
      "580             6.4      3.2       1.00       1  \n",
      "581             6.8      3.4       1.00       1  \n",
      "582             7.3      4.4       1.50       2  \n",
      "\n",
      "[569 rows x 11 columns]\n",
      "0      1\n",
      "1      1\n",
      "2      1\n",
      "3      1\n",
      "4      1\n",
      "      ..\n",
      "578    2\n",
      "579    1\n",
      "580    1\n",
      "581    1\n",
      "582    2\n",
      "Name: Output, Length: 569, dtype: int64\n"
     ]
    }
   ],
   "source": [
    "X = data\n",
    "y = data['Output']\n",
    "print(X)\n",
    "print(y)"
   ]
  },
  {
   "cell_type": "markdown",
   "metadata": {},
   "source": [
    "### Splitting Data into Train-Test"
   ]
  },
  {
   "cell_type": "code",
   "execution_count": 50,
   "metadata": {},
   "outputs": [
    {
     "name": "stdout",
     "output_type": "stream",
     "text": [
      "     Age  Gender  Total_Bilirubin  Direct_Bilirubin  Alkphos  SGPT  SGOT  \\\n",
      "581   31       1              1.3               0.5      184    29    32   \n",
      "309   48       0              1.1               0.7      527   178   250   \n",
      "96    39       1              3.8               1.5      298   102   630   \n",
      "1     62       1             10.9               5.5      699    64   100   \n",
      "99    18       1              0.7               0.1      312   308   405   \n",
      "..   ...     ...              ...               ...      ...   ...   ...   \n",
      "383   60       0              1.4               0.7      159    10    12   \n",
      "334   13       0              0.7               0.2      350    17    24   \n",
      "541   42       1              0.8               0.2      198    29    19   \n",
      "132   18       0              0.8               0.2      199    34    31   \n",
      "279   48       0              1.0               1.4      144    18    14   \n",
      "\n",
      "     Total_Proteins  Albumin  A_G_Ratio  Output  \n",
      "581             6.8      3.4       1.00       1  \n",
      "309             8.0      4.2       1.10       1  \n",
      "96              7.1      3.3       0.80       1  \n",
      "1               7.5      3.2       0.74       1  \n",
      "99              6.9      3.7       1.10       1  \n",
      "..              ...      ...        ...     ...  \n",
      "383             4.9      2.5       1.00       2  \n",
      "334             7.4      4.0       1.10       1  \n",
      "541             6.6      3.0       0.80       2  \n",
      "132             6.5      3.5       1.16       2  \n",
      "279             8.3      4.2       1.00       1  \n",
      "\n",
      "[455 rows x 11 columns]\n",
      "     Age  Gender  Total_Bilirubin  Direct_Bilirubin  Alkphos  SGPT  SGOT  \\\n",
      "185   38       1              1.5               0.4      298    60   103   \n",
      "567   52       1              2.7               1.4      251    20    40   \n",
      "388   46       1              0.8               0.2      160    31    40   \n",
      "384   34       1              3.7               2.1      490   115    91   \n",
      "433   41       0              0.9               0.2      201    31    24   \n",
      "..   ...     ...              ...               ...      ...   ...   ...   \n",
      "202   38       0              0.8               0.2      145    19    23   \n",
      "443   42       0              0.7               0.2      152    35    81   \n",
      "413   48       1              0.7               0.2      208    15    30   \n",
      "337   75       1              2.5               1.2      375    85    68   \n",
      "276   35       1              0.9               0.2      190    25    20   \n",
      "\n",
      "     Total_Proteins  Albumin  A_G_Ratio  Output  \n",
      "185             6.0      3.0       1.00       2  \n",
      "567             6.0      1.7       0.39       1  \n",
      "388             7.3      3.8       1.10       1  \n",
      "384             6.5      2.8       0.70       1  \n",
      "433             7.6      3.8       1.00       2  \n",
      "..              ...      ...        ...     ...  \n",
      "202             6.1      3.1       1.03       2  \n",
      "443             6.2      3.2       1.06       1  \n",
      "413             4.6      2.1       0.80       2  \n",
      "337             6.4      2.9       0.80       1  \n",
      "276             6.4      3.6       1.20       2  \n",
      "\n",
      "[114 rows x 11 columns]\n",
      "581    1\n",
      "309    1\n",
      "96     1\n",
      "1      1\n",
      "99     1\n",
      "      ..\n",
      "383    2\n",
      "334    1\n",
      "541    2\n",
      "132    2\n",
      "279    1\n",
      "Name: Output, Length: 455, dtype: int64\n",
      "185    2\n",
      "567    1\n",
      "388    1\n",
      "384    1\n",
      "433    2\n",
      "      ..\n",
      "202    2\n",
      "443    1\n",
      "413    2\n",
      "337    1\n",
      "276    2\n",
      "Name: Output, Length: 114, dtype: int64\n"
     ]
    }
   ],
   "source": [
    "X_train, X_test, y_train, y_test = train_test_split(X, y, test_size=0.2,random_state = 10)\n",
    "print(X_train)\n",
    "print(X_test)\n",
    "print(y_train)\n",
    "print(y_test)"
   ]
  },
  {
   "cell_type": "markdown",
   "metadata": {},
   "source": [
    "## 1. Random Forest Classifier"
   ]
  },
  {
   "cell_type": "code",
   "execution_count": 51,
   "metadata": {
    "lines_to_next_cell": 2
   },
   "outputs": [],
   "source": [
    "from sklearn.ensemble import RandomForestClassifier\n",
    "from sklearn.metrics import accuracy_score,confusion_matrix,classification_report\n",
    "from sklearn.metrics import precision_score\n",
    "from sklearn.metrics import f1_score\n",
    "from sklearn.metrics import recall_score"
   ]
  },
  {
   "cell_type": "code",
   "execution_count": 52,
   "metadata": {
    "lines_to_next_cell": 2
   },
   "outputs": [
    {
     "name": "stdout",
     "output_type": "stream",
     "text": [
      "Random Forest Classifier:\n",
      "Accuracy: 1.0\n",
      "Precision: 1.0\n",
      "Recall: 1.0\n",
      "F-1 score: 1.0\n",
      "[[82  0]\n",
      " [ 0 32]]\n",
      "              precision    recall  f1-score   support\n",
      "\n",
      "           1       1.00      1.00      1.00        82\n",
      "           2       1.00      1.00      1.00        32\n",
      "\n",
      "    accuracy                           1.00       114\n",
      "   macro avg       1.00      1.00      1.00       114\n",
      "weighted avg       1.00      1.00      1.00       114\n",
      "\n"
     ]
    }
   ],
   "source": [
    "Model1= RandomForestClassifier(n_estimators = 20)\n",
    "Model1.fit(X_train, y_train)\n",
    "y_pred1 = Model1.predict(X_test)\n",
    "print(\"Random Forest Classifier:\")\n",
    "print(\"Accuracy:\", Model1.score(X_test, y_test))\n",
    "print(\"Precision:\", precision_score(y_pred1, Model1.predict(X_test)))\n",
    "print(\"Recall:\", recall_score(y_pred1, Model1.predict(X_test)))\n",
    "print(\"F-1 score:\", f1_score(y_pred1, Model1.predict(X_test)))\n",
    "print(confusion_matrix(y_test, y_pred1))\n",
    "print(classification_report(y_test,y_pred1))"
   ]
  },
  {
   "cell_type": "code",
   "execution_count": 53,
   "metadata": {
    "lines_to_next_cell": 2
   },
   "outputs": [
    {
     "data": {
      "text/plain": [
       "array([2, 1, 1, 1, 2, 1, 2, 1, 1, 2, 1, 1, 1, 1, 1, 1, 1, 1, 2, 1, 1, 1,\n",
       "       2, 1, 1, 1, 2, 1, 2, 1, 2, 1, 1, 2, 1, 1, 1, 1, 1, 1, 1, 1, 1, 1,\n",
       "       1, 1, 1, 1, 1, 1, 1, 2, 2, 1, 1, 1, 1, 1, 1, 2, 1, 1, 1, 1, 1, 2,\n",
       "       2, 1, 2, 2, 1, 1, 1, 1, 1, 2, 1, 1, 1, 2, 1, 1, 1, 1, 1, 1, 2, 1,\n",
       "       2, 1, 2, 1, 1, 1, 2, 1, 2, 2, 2, 1, 1, 1, 1, 1, 2, 2, 1, 1, 2, 2,\n",
       "       1, 2, 1, 2], dtype=int64)"
      ]
     },
     "execution_count": 53,
     "metadata": {},
     "output_type": "execute_result"
    }
   ],
   "source": [
    "y_pred1"
   ]
  },
  {
   "cell_type": "code",
   "execution_count": 54,
   "metadata": {},
   "outputs": [
    {
     "data": {
      "text/plain": [
       "185    2\n",
       "567    1\n",
       "388    1\n",
       "384    1\n",
       "433    2\n",
       "      ..\n",
       "202    2\n",
       "443    1\n",
       "413    2\n",
       "337    1\n",
       "276    2\n",
       "Name: Output, Length: 114, dtype: int64"
      ]
     },
     "execution_count": 54,
     "metadata": {},
     "output_type": "execute_result"
    }
   ],
   "source": [
    "y_test"
   ]
  },
  {
   "cell_type": "markdown",
   "metadata": {},
   "source": [
    "## 2. Logistic Regression Classifier"
   ]
  },
  {
   "cell_type": "code",
   "execution_count": 55,
   "metadata": {
    "lines_to_next_cell": 2
   },
   "outputs": [],
   "source": [
    "from sklearn.linear_model import LogisticRegression\n",
    "Model2 = LogisticRegression(C = 0.1)\n",
    "Model2.fit(X_train, y_train)\n",
    "y_pred2 = Model2.predict(X_test)"
   ]
  },
  {
   "cell_type": "code",
   "execution_count": 56,
   "metadata": {
    "lines_to_next_cell": 2
   },
   "outputs": [
    {
     "name": "stdout",
     "output_type": "stream",
     "text": [
      "Logistic Regression Classifier:\n",
      "Accuracy: 1.0\n",
      "Precision: 1.0\n",
      "Recall: 1.0\n",
      "F-1 score: 1.0\n",
      "[[82  0]\n",
      " [ 3 29]]\n",
      "              precision    recall  f1-score   support\n",
      "\n",
      "           1       0.96      1.00      0.98        82\n",
      "           2       1.00      0.91      0.95        32\n",
      "\n",
      "    accuracy                           0.97       114\n",
      "   macro avg       0.98      0.95      0.97       114\n",
      "weighted avg       0.97      0.97      0.97       114\n",
      "\n"
     ]
    }
   ],
   "source": [
    "print(\"Logistic Regression Classifier:\")\n",
    "print(\"Accuracy:\", Model2.score(X_test, y_pred2))\n",
    "print(\"Precision:\", precision_score(y_pred2, Model2.predict(X_test)))\n",
    "print(\"Recall:\", recall_score(y_pred2, Model2.predict(X_test)))\n",
    "print(\"F-1 score:\", f1_score(y_pred2, Model2.predict(X_test)))\n",
    "print(confusion_matrix(y_test, y_pred2))\n",
    "print(classification_report(y_test,y_pred2)) #--- Seeing 3 mispredictions through confudion_matrix"
   ]
  },
  {
   "cell_type": "code",
   "execution_count": 57,
   "metadata": {
    "lines_to_next_cell": 2
   },
   "outputs": [],
   "source": [
    "#Metrics after Featuring scaling \n",
    "scaler= MinMaxScaler()\n",
    "X_train2 = scaler.fit_transform(X_train)\n",
    "X_test2 = scaler.transform(X_test)\n",
    "y_predict = Model2.predict(X_test2) # -- on scaled data"
   ]
  },
  {
   "cell_type": "code",
   "execution_count": 58,
   "metadata": {},
   "outputs": [
    {
     "name": "stdout",
     "output_type": "stream",
     "text": [
      "Logistic Regression Classifier:\n",
      "Accuracy: 1.0\n",
      "Precision: 1.0\n",
      "Recall: 1.0\n",
      "F-1 score: 1.0\n",
      "[[82  0]\n",
      " [ 0 32]]\n",
      "              precision    recall  f1-score   support\n",
      "\n",
      "           1       1.00      1.00      1.00        82\n",
      "           2       1.00      1.00      1.00        32\n",
      "\n",
      "    accuracy                           1.00       114\n",
      "   macro avg       1.00      1.00      1.00       114\n",
      "weighted avg       1.00      1.00      1.00       114\n",
      "\n"
     ]
    }
   ],
   "source": [
    "Model2 = LogisticRegression(C = 0.1).fit(X_train2, y_train)\n",
    "print(\"Logistic Regression Classifier:\")\n",
    "print(\"Accuracy:\", Model2.score(X_test2, y_predict))\n",
    "print(\"Precision:\", precision_score(y_predict, Model2.predict(X_test2)))\n",
    "print(\"Recall:\", recall_score(y_predict, Model2.predict(X_test2)))\n",
    "print(\"F-1 score:\", f1_score(y_predict, Model2.predict(X_test2)))\n",
    "print(confusion_matrix(y_test, y_predict))\n",
    "print(classification_report(y_test,y_predict))"
   ]
  },
  {
   "cell_type": "markdown",
   "metadata": {
    "lines_to_next_cell": 2
   },
   "source": [
    "## 3. Support Vector Classifier"
   ]
  },
  {
   "cell_type": "code",
   "execution_count": 59,
   "metadata": {
    "lines_to_next_cell": 2
   },
   "outputs": [],
   "source": [
    "from sklearn.svm import SVC\n",
    "Model3= SVC(C = 0.1, kernel = 'rbf')\n",
    "Model3.fit(X_train, y_train)\n",
    "y_pred3 = Model3.predict(X_test)"
   ]
  },
  {
   "cell_type": "code",
   "execution_count": 60,
   "metadata": {
    "lines_to_next_cell": 2
   },
   "outputs": [
    {
     "name": "stdout",
     "output_type": "stream",
     "text": [
      "SVM Classifier:\n",
      "Accuracy: 1.0\n",
      "Precision: 1.0\n",
      "Recall: 1.0\n",
      "F-1 score: 1.0\n",
      "[[82  0]\n",
      " [32  0]]\n",
      "              precision    recall  f1-score   support\n",
      "\n",
      "           1       0.72      1.00      0.84        82\n",
      "           2       0.00      0.00      0.00        32\n",
      "\n",
      "    accuracy                           0.72       114\n",
      "   macro avg       0.36      0.50      0.42       114\n",
      "weighted avg       0.52      0.72      0.60       114\n",
      "\n"
     ]
    }
   ],
   "source": [
    "print(\"SVM Classifier:\")\n",
    "print(\"Accuracy:\", Model3.score(X_test, y_pred3))\n",
    "print(\"Precision:\", precision_score(y_pred3, Model3.predict(X_test)))\n",
    "print(\"Recall:\", recall_score(y_pred3, Model3.predict(X_test)))\n",
    "print(\"F-1 score:\", f1_score(y_pred3, Model3.predict(X_test)))\n",
    "print(confusion_matrix(y_test, y_pred3))\n",
    "print(classification_report(y_test,y_pred3))\n",
    "\n",
    "#Result - On Unscaled data getting all 32 mispredictions"
   ]
  },
  {
   "cell_type": "code",
   "execution_count": 61,
   "metadata": {},
   "outputs": [
    {
     "name": "stdout",
     "output_type": "stream",
     "text": [
      "SVM Classifier:\n",
      "Accuracy: 1.0\n",
      "Precision: 1.0\n",
      "Recall: 1.0\n",
      "F-1 score: 1.0\n",
      "[[82  0]\n",
      " [ 0 32]]\n",
      "              precision    recall  f1-score   support\n",
      "\n",
      "           1       1.00      1.00      1.00        82\n",
      "           2       1.00      1.00      1.00        32\n",
      "\n",
      "    accuracy                           1.00       114\n",
      "   macro avg       1.00      1.00      1.00       114\n",
      "weighted avg       1.00      1.00      1.00       114\n",
      "\n"
     ]
    }
   ],
   "source": [
    "Model3 = SVC(C = 0.1, kernel = 'rbf').fit(X_train2, y_train)\n",
    "y_predict3 = Model3.predict(X_test2) #-- on scaled data\n",
    "print(\"SVM Classifier:\")\n",
    "print(\"Accuracy:\", Model3.score(X_test2, y_predict3))\n",
    "print(\"Precision:\", precision_score(y_predict3, Model3.predict(X_test2)))\n",
    "print(\"Recall:\", recall_score(y_predict3, Model3.predict(X_test2)))\n",
    "print(\"F-1 score:\", f1_score(y_predict3, Model3.predict(X_test2)))\n",
    "print(confusion_matrix(y_test, y_predict3))\n",
    "print(classification_report(y_test,y_predict3))"
   ]
  },
  {
   "cell_type": "markdown",
   "metadata": {},
   "source": [
    "## 4. Naives Bayes"
   ]
  },
  {
   "cell_type": "code",
   "execution_count": 62,
   "metadata": {
    "lines_to_next_cell": 2
   },
   "outputs": [],
   "source": [
    "from sklearn.naive_bayes import GaussianNB\n",
    "Model4 = GaussianNB()\n",
    "Model4.fit(X_train,y_train)\n",
    "y_pred4 = Model4.predict(X_test)"
   ]
  },
  {
   "cell_type": "code",
   "execution_count": 63,
   "metadata": {
    "lines_to_next_cell": 2
   },
   "outputs": [
    {
     "name": "stdout",
     "output_type": "stream",
     "text": [
      "Accuracy: 1.0\n",
      "Recall: 1.0\n",
      "F-1 score: 1.0\n",
      "[[82  0]\n",
      " [ 0 32]]\n",
      "              precision    recall  f1-score   support\n",
      "\n",
      "           1       1.00      1.00      1.00        82\n",
      "           2       1.00      1.00      1.00        32\n",
      "\n",
      "    accuracy                           1.00       114\n",
      "   macro avg       1.00      1.00      1.00       114\n",
      "weighted avg       1.00      1.00      1.00       114\n",
      "\n"
     ]
    }
   ],
   "source": [
    "print('Accuracy:', accuracy_score(y_test, y_pred4))\n",
    "print(\"Recall:\", recall_score(y_pred4, Model4.predict(X_test)))\n",
    "print(\"F-1 score:\", f1_score(y_pred4, Model4.predict(X_test)))\n",
    "print(confusion_matrix(y_test, y_pred4))\n",
    "print(classification_report(y_test,y_pred4))"
   ]
  },
  {
   "cell_type": "markdown",
   "metadata": {},
   "source": [
    "## 5. Neural Networks"
   ]
  },
  {
   "cell_type": "code",
   "execution_count": 64,
   "metadata": {
    "collapsed": true
   },
   "outputs": [
    {
     "ename": "ImportError",
     "evalue": "Keras requires TensorFlow 2.2 or higher. Install TensorFlow via `pip install tensorflow`",
     "output_type": "error",
     "traceback": [
      "\u001b[1;31m---------------------------------------------------------------------------\u001b[0m",
      "\u001b[1;31mModuleNotFoundError\u001b[0m                       Traceback (most recent call last)",
      "\u001b[1;32m~\\anaconda3\\lib\\site-packages\\keras\\__init__.py\u001b[0m in \u001b[0;36m<module>\u001b[1;34m\u001b[0m\n\u001b[0;32m      2\u001b[0m \u001b[1;32mtry\u001b[0m\u001b[1;33m:\u001b[0m\u001b[1;33m\u001b[0m\u001b[1;33m\u001b[0m\u001b[0m\n\u001b[1;32m----> 3\u001b[1;33m     \u001b[1;32mfrom\u001b[0m \u001b[0mtensorflow\u001b[0m\u001b[1;33m.\u001b[0m\u001b[0mkeras\u001b[0m\u001b[1;33m.\u001b[0m\u001b[0mlayers\u001b[0m\u001b[1;33m.\u001b[0m\u001b[0mexperimental\u001b[0m\u001b[1;33m.\u001b[0m\u001b[0mpreprocessing\u001b[0m \u001b[1;32mimport\u001b[0m \u001b[0mRandomRotation\u001b[0m\u001b[1;33m\u001b[0m\u001b[1;33m\u001b[0m\u001b[0m\n\u001b[0m\u001b[0;32m      4\u001b[0m \u001b[1;32mexcept\u001b[0m \u001b[0mImportError\u001b[0m\u001b[1;33m:\u001b[0m\u001b[1;33m\u001b[0m\u001b[1;33m\u001b[0m\u001b[0m\n",
      "\u001b[1;31mModuleNotFoundError\u001b[0m: No module named 'tensorflow'",
      "\nDuring handling of the above exception, another exception occurred:\n",
      "\u001b[1;31mImportError\u001b[0m                               Traceback (most recent call last)",
      "\u001b[1;32m<ipython-input-64-caed3a8bcbd2>\u001b[0m in \u001b[0;36m<module>\u001b[1;34m\u001b[0m\n\u001b[1;32m----> 1\u001b[1;33m \u001b[1;32mimport\u001b[0m \u001b[0mkeras\u001b[0m\u001b[1;33m\u001b[0m\u001b[1;33m\u001b[0m\u001b[0m\n\u001b[0m\u001b[0;32m      2\u001b[0m \u001b[1;32mfrom\u001b[0m \u001b[0mkeras\u001b[0m\u001b[1;33m.\u001b[0m\u001b[0mmodels\u001b[0m \u001b[1;32mimport\u001b[0m \u001b[0mSequential\u001b[0m\u001b[1;33m\u001b[0m\u001b[1;33m\u001b[0m\u001b[0m\n\u001b[0;32m      3\u001b[0m \u001b[1;32mfrom\u001b[0m \u001b[0mkeras\u001b[0m\u001b[1;33m.\u001b[0m\u001b[0mlayers\u001b[0m \u001b[1;32mimport\u001b[0m \u001b[0mDense\u001b[0m\u001b[1;33m\u001b[0m\u001b[1;33m\u001b[0m\u001b[0m\n\u001b[0;32m      4\u001b[0m \u001b[1;33m\u001b[0m\u001b[0m\n\u001b[0;32m      5\u001b[0m \u001b[0mmodel\u001b[0m \u001b[1;33m=\u001b[0m \u001b[0mSequential\u001b[0m\u001b[1;33m(\u001b[0m\u001b[1;33m)\u001b[0m\u001b[1;33m\u001b[0m\u001b[1;33m\u001b[0m\u001b[0m\n",
      "\u001b[1;32m~\\anaconda3\\lib\\site-packages\\keras\\__init__.py\u001b[0m in \u001b[0;36m<module>\u001b[1;34m\u001b[0m\n\u001b[0;32m      4\u001b[0m \u001b[1;32mexcept\u001b[0m \u001b[0mImportError\u001b[0m\u001b[1;33m:\u001b[0m\u001b[1;33m\u001b[0m\u001b[1;33m\u001b[0m\u001b[0m\n\u001b[0;32m      5\u001b[0m     raise ImportError(\n\u001b[1;32m----> 6\u001b[1;33m         \u001b[1;34m'Keras requires TensorFlow 2.2 or higher. '\u001b[0m\u001b[1;33m\u001b[0m\u001b[1;33m\u001b[0m\u001b[0m\n\u001b[0m\u001b[0;32m      7\u001b[0m         'Install TensorFlow via `pip install tensorflow`')\n\u001b[0;32m      8\u001b[0m \u001b[1;33m\u001b[0m\u001b[0m\n",
      "\u001b[1;31mImportError\u001b[0m: Keras requires TensorFlow 2.2 or higher. Install TensorFlow via `pip install tensorflow`"
     ]
    }
   ],
   "source": [
    "import keras\n",
    "from keras.models import Sequential\n",
    "from keras.layers import Dense\n",
    "\n",
    "model = Sequential()\n",
    "model.add(Dense(20, input_dim=11, activation='relu'))\n",
    "model.add(keras.layers.BatchNormalization())\n",
    "model.add(Dense(50, activation='relu'))\n",
    "model.add(keras.layers.BatchNormalization())\n",
    "model.add(Dense(10, activation='relu'))\n",
    "model.add(Dense(1, activation='sigmoid'))\n",
    "\n",
    "model.compile(loss='binary_crossentropy', optimizer='adam', metrics=['accuracy'])\n",
    "\n",
    "model_train = model.fit(X,y,validation_split=0.2, epochs=32)\n",
    "model.evaluate(X,y)"
   ]
  },
  {
   "cell_type": "code",
   "execution_count": 65,
   "metadata": {
    "lines_to_next_cell": 2
   },
   "outputs": [
    {
     "name": "stdout",
     "output_type": "stream",
     "text": [
      "ROC AUC score of Test data : 1.000\n"
     ]
    }
   ],
   "source": [
    "from sklearn.metrics import roc_auc_score\n",
    "\n",
    "test_roc_auc = roc_auc_score(y_test,y_pred4)\n",
    "\n",
    "print('ROC AUC score of Test data : {:.3f}'.format(test_roc_auc))"
   ]
  },
  {
   "cell_type": "code",
   "execution_count": 66,
   "metadata": {},
   "outputs": [
    {
     "data": {
      "text/plain": [
       "<matplotlib.axes._subplots.AxesSubplot at 0x670b71e708>"
      ]
     },
     "execution_count": 66,
     "metadata": {},
     "output_type": "execute_result"
    },
    {
     "data": {
      "image/png": "[encoded data removed]",
      "text/plain": [
       "<Figure size 432x288 with 2 Axes>"
      ]
     },
     "metadata": {
      "needs_background": "light"
     },
     "output_type": "display_data"
    }
   ],
   "source": [
    "sns.heatmap(confusion_matrix(y_test,y_pred4),annot=True,fmt=\".2f\")\n"
   ]
  },
  {
   "cell_type": "markdown",
   "metadata": {},
   "source": [
    "### CONCLUSION: \n",
    "Random Forest and Naive Bayes works good on unscaled data but logistic regression and SVM works best after featuring scaling.\n"
   ]
  }
 ],
 "metadata": {
  "jupytext": {
   "cell_metadata_filter": "-all",
   "encoding": "# coding: utf-8",
   "executable": "/usr/bin/env python",
   "main_language": "python",
   "notebook_metadata_filter": "-all"
  },
  "kernelspec": {
   "display_name": "Python 3",
   "language": "python",
   "name": "python3"
  },
  "language_info": {
   "codemirror_mode": {
    "name": "ipython",
    "version": 3
   },
   "file_extension": ".py",
   "mimetype": "text/x-python",
   "name": "python",
   "nbconvert_exporter": "python",
   "pygments_lexer": "ipython3",
   "version": "3.7.4"
  }
 },
 "nbformat": 4,
 "nbformat_minor": 2
}
