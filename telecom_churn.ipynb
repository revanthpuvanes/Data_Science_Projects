{
 "cells": [
  {
   "cell_type": "code",
   "execution_count": 1,
   "metadata": {},
   "outputs": [],
   "source": [
    "import pandas as pd\n",
    "import numpy as np\n",
    "import seaborn as sb\n",
    "import scipy.stats\n",
    "import matplotlib.pyplot as plt\n",
    "from matplotlib import rcParams\n",
    "from sklearn.metrics import accuracy_score,classification_report,roc_auc_score,roc_curve\n",
    "from collections import Counter\n",
    "import warnings\n",
    "warnings.filterwarnings(\"ignore\")"
   ]
  },
  {
   "cell_type": "markdown",
   "metadata": {},
   "source": [
    "### already exported from sql server and saved as seperate csv file"
   ]
  },
  {
   "cell_type": "code",
   "execution_count": 2,
   "metadata": {},
   "outputs": [
    {
     "data": {
      "text/html": [
       "<div>\n",
       "<style scoped>\n",
       "    .dataframe tbody tr th:only-of-type {\n",
       "        vertical-align: middle;\n",
       "    }\n",
       "\n",
       "    .dataframe tbody tr th {\n",
       "        vertical-align: top;\n",
       "    }\n",
       "\n",
       "    .dataframe thead th {\n",
       "        text-align: right;\n",
       "    }\n",
       "</style>\n",
       "<table border=\"1\" class=\"dataframe\">\n",
       "  <thead>\n",
       "    <tr style=\"text-align: right;\">\n",
       "      <th></th>\n",
       "      <th>state</th>\n",
       "      <th>account_length</th>\n",
       "      <th>area_code</th>\n",
       "      <th>phone</th>\n",
       "      <th>international_plan</th>\n",
       "      <th>vmail_plan</th>\n",
       "      <th>vmail_message</th>\n",
       "      <th>day_mins</th>\n",
       "      <th>day_calls</th>\n",
       "      <th>day_charge</th>\n",
       "      <th>...</th>\n",
       "      <th>eve_calls</th>\n",
       "      <th>eve_charge</th>\n",
       "      <th>night_mins</th>\n",
       "      <th>night_calls</th>\n",
       "      <th>night_charge</th>\n",
       "      <th>inter_min</th>\n",
       "      <th>inter_calls</th>\n",
       "      <th>inter_charge</th>\n",
       "      <th>custservice_calls</th>\n",
       "      <th>churns</th>\n",
       "    </tr>\n",
       "  </thead>\n",
       "  <tbody>\n",
       "    <tr>\n",
       "      <th>0</th>\n",
       "      <td>KS</td>\n",
       "      <td>128</td>\n",
       "      <td>415</td>\n",
       "      <td>382-4657</td>\n",
       "      <td>no</td>\n",
       "      <td>yes</td>\n",
       "      <td>25</td>\n",
       "      <td>265.1</td>\n",
       "      <td>110</td>\n",
       "      <td>45.07</td>\n",
       "      <td>...</td>\n",
       "      <td>99</td>\n",
       "      <td>16.78</td>\n",
       "      <td>244.7</td>\n",
       "      <td>91</td>\n",
       "      <td>11.01</td>\n",
       "      <td>10.0</td>\n",
       "      <td>3</td>\n",
       "      <td>2.70</td>\n",
       "      <td>1</td>\n",
       "      <td>False.</td>\n",
       "    </tr>\n",
       "    <tr>\n",
       "      <th>1</th>\n",
       "      <td>OH</td>\n",
       "      <td>107</td>\n",
       "      <td>415</td>\n",
       "      <td>371-7191</td>\n",
       "      <td>no</td>\n",
       "      <td>yes</td>\n",
       "      <td>26</td>\n",
       "      <td>161.6</td>\n",
       "      <td>123</td>\n",
       "      <td>27.47</td>\n",
       "      <td>...</td>\n",
       "      <td>103</td>\n",
       "      <td>16.62</td>\n",
       "      <td>254.4</td>\n",
       "      <td>103</td>\n",
       "      <td>11.45</td>\n",
       "      <td>13.7</td>\n",
       "      <td>3</td>\n",
       "      <td>3.70</td>\n",
       "      <td>1</td>\n",
       "      <td>False.</td>\n",
       "    </tr>\n",
       "    <tr>\n",
       "      <th>2</th>\n",
       "      <td>NJ</td>\n",
       "      <td>137</td>\n",
       "      <td>415</td>\n",
       "      <td>358-1921</td>\n",
       "      <td>no</td>\n",
       "      <td>no</td>\n",
       "      <td>0</td>\n",
       "      <td>243.4</td>\n",
       "      <td>114</td>\n",
       "      <td>41.38</td>\n",
       "      <td>...</td>\n",
       "      <td>110</td>\n",
       "      <td>10.30</td>\n",
       "      <td>162.6</td>\n",
       "      <td>104</td>\n",
       "      <td>7.32</td>\n",
       "      <td>12.2</td>\n",
       "      <td>5</td>\n",
       "      <td>3.29</td>\n",
       "      <td>0</td>\n",
       "      <td>False.</td>\n",
       "    </tr>\n",
       "    <tr>\n",
       "      <th>3</th>\n",
       "      <td>OH</td>\n",
       "      <td>84</td>\n",
       "      <td>408</td>\n",
       "      <td>375-9999</td>\n",
       "      <td>yes</td>\n",
       "      <td>no</td>\n",
       "      <td>0</td>\n",
       "      <td>299.4</td>\n",
       "      <td>71</td>\n",
       "      <td>50.90</td>\n",
       "      <td>...</td>\n",
       "      <td>88</td>\n",
       "      <td>5.26</td>\n",
       "      <td>196.9</td>\n",
       "      <td>89</td>\n",
       "      <td>8.86</td>\n",
       "      <td>6.6</td>\n",
       "      <td>7</td>\n",
       "      <td>1.78</td>\n",
       "      <td>2</td>\n",
       "      <td>False.</td>\n",
       "    </tr>\n",
       "    <tr>\n",
       "      <th>4</th>\n",
       "      <td>OK</td>\n",
       "      <td>75</td>\n",
       "      <td>415</td>\n",
       "      <td>330-6626</td>\n",
       "      <td>yes</td>\n",
       "      <td>no</td>\n",
       "      <td>0</td>\n",
       "      <td>166.7</td>\n",
       "      <td>113</td>\n",
       "      <td>28.34</td>\n",
       "      <td>...</td>\n",
       "      <td>122</td>\n",
       "      <td>12.61</td>\n",
       "      <td>186.9</td>\n",
       "      <td>121</td>\n",
       "      <td>8.41</td>\n",
       "      <td>10.1</td>\n",
       "      <td>3</td>\n",
       "      <td>2.73</td>\n",
       "      <td>3</td>\n",
       "      <td>False.</td>\n",
       "    </tr>\n",
       "  </tbody>\n",
       "</table>\n",
       "<p>5 rows × 21 columns</p>\n",
       "</div>"
      ],
      "text/plain": [
       "  state  account_length  area_code      phone international_plan vmail_plan  \\\n",
       "0    KS             128        415   382-4657                 no        yes   \n",
       "1    OH             107        415   371-7191                 no        yes   \n",
       "2    NJ             137        415   358-1921                 no         no   \n",
       "3    OH              84        408   375-9999                yes         no   \n",
       "4    OK              75        415   330-6626                yes         no   \n",
       "\n",
       "   vmail_message  day_mins  day_calls  day_charge  ...  eve_calls  eve_charge  \\\n",
       "0             25     265.1        110       45.07  ...         99       16.78   \n",
       "1             26     161.6        123       27.47  ...        103       16.62   \n",
       "2              0     243.4        114       41.38  ...        110       10.30   \n",
       "3              0     299.4         71       50.90  ...         88        5.26   \n",
       "4              0     166.7        113       28.34  ...        122       12.61   \n",
       "\n",
       "   night_mins  night_calls  night_charge  inter_min  inter_calls  \\\n",
       "0       244.7           91         11.01       10.0            3   \n",
       "1       254.4          103         11.45       13.7            3   \n",
       "2       162.6          104          7.32       12.2            5   \n",
       "3       196.9           89          8.86        6.6            7   \n",
       "4       186.9          121          8.41       10.1            3   \n",
       "\n",
       "   inter_charge  custservice_calls   churns  \n",
       "0          2.70                  1   False.  \n",
       "1          3.70                  1   False.  \n",
       "2          3.29                  0   False.  \n",
       "3          1.78                  2   False.  \n",
       "4          2.73                  3   False.  \n",
       "\n",
       "[5 rows x 21 columns]"
      ]
     },
     "execution_count": 2,
     "metadata": {},
     "output_type": "execute_result"
    }
   ],
   "source": [
    "data = pd.read_csv('telecom.csv')\n",
    "data.head()"
   ]
  },
  {
   "cell_type": "code",
   "execution_count": 82,
   "metadata": {
    "scrolled": true
   },
   "outputs": [
    {
     "data": {
      "text/plain": [
       "(4617, 21)"
      ]
     },
     "execution_count": 82,
     "metadata": {},
     "output_type": "execute_result"
    }
   ],
   "source": [
    "data.shape"
   ]
  },
  {
   "cell_type": "code",
   "execution_count": 3,
   "metadata": {
    "scrolled": true
   },
   "outputs": [
    {
     "name": "stdout",
     "output_type": "stream",
     "text": [
      "<class 'pandas.core.frame.DataFrame'>\n",
      "RangeIndex: 4617 entries, 0 to 4616\n",
      "Data columns (total 21 columns):\n",
      " #   Column              Non-Null Count  Dtype  \n",
      "---  ------              --------------  -----  \n",
      " 0   state               4617 non-null   object \n",
      " 1   account_length      4617 non-null   int64  \n",
      " 2   area_code           4617 non-null   int64  \n",
      " 3   phone               4617 non-null   object \n",
      " 4   international_plan  4617 non-null   object \n",
      " 5   vmail_plan          4617 non-null   object \n",
      " 6   vmail_message       4617 non-null   int64  \n",
      " 7   day_mins            4617 non-null   float64\n",
      " 8   day_calls           4617 non-null   int64  \n",
      " 9   day_charge          4617 non-null   float64\n",
      " 10  eve_mins            4617 non-null   float64\n",
      " 11  eve_calls           4617 non-null   int64  \n",
      " 12  eve_charge          4617 non-null   float64\n",
      " 13  night_mins          4617 non-null   float64\n",
      " 14  night_calls         4617 non-null   int64  \n",
      " 15  night_charge        4617 non-null   float64\n",
      " 16  inter_min           4617 non-null   float64\n",
      " 17  inter_calls         4617 non-null   int64  \n",
      " 18  inter_charge        4617 non-null   float64\n",
      " 19  custservice_calls   4617 non-null   int64  \n",
      " 20  churns              4617 non-null   object \n",
      "dtypes: float64(8), int64(8), object(5)\n",
      "memory usage: 757.6+ KB\n"
     ]
    }
   ],
   "source": [
    "data.info()"
   ]
  },
  {
   "cell_type": "code",
   "execution_count": 4,
   "metadata": {},
   "outputs": [],
   "source": [
    "#int_cols = ['account_length','area_code','vmail_message','day_calls','eve_calls',\n",
    "            #'night_calls','inter_calls','custservice_calls']\n",
    "##int_cols = data[int_cols].apply(pd.to_numeric)"
   ]
  },
  {
   "cell_type": "code",
   "execution_count": 5,
   "metadata": {},
   "outputs": [],
   "source": [
    "#float_cols = ['day_mins','day_charge','eve_mins','eve_charge','night_mins',\n",
    "              #'night_charge','inter_min','inter_charge']\n",
    "##float_cols = data[float_cols].apply(pd.to_numeric)"
   ]
  },
  {
   "cell_type": "code",
   "execution_count": 6,
   "metadata": {},
   "outputs": [
    {
     "data": {
      "text/plain": [
       "state                  object\n",
       "account_length          int64\n",
       "area_code               int64\n",
       "phone                  object\n",
       "international_plan     object\n",
       "vmail_plan             object\n",
       "vmail_message           int64\n",
       "day_mins              float64\n",
       "day_calls               int64\n",
       "day_charge            float64\n",
       "eve_mins              float64\n",
       "eve_calls               int64\n",
       "eve_charge            float64\n",
       "night_mins            float64\n",
       "night_calls             int64\n",
       "night_charge          float64\n",
       "inter_min             float64\n",
       "inter_calls             int64\n",
       "inter_charge          float64\n",
       "custservice_calls       int64\n",
       "churns                 object\n",
       "dtype: object"
      ]
     },
     "execution_count": 6,
     "metadata": {},
     "output_type": "execute_result"
    }
   ],
   "source": [
    "data.dtypes"
   ]
  },
  {
   "cell_type": "code",
   "execution_count": 7,
   "metadata": {},
   "outputs": [
    {
     "data": {
      "text/html": [
       "<div>\n",
       "<style scoped>\n",
       "    .dataframe tbody tr th:only-of-type {\n",
       "        vertical-align: middle;\n",
       "    }\n",
       "\n",
       "    .dataframe tbody tr th {\n",
       "        vertical-align: top;\n",
       "    }\n",
       "\n",
       "    .dataframe thead th {\n",
       "        text-align: right;\n",
       "    }\n",
       "</style>\n",
       "<table border=\"1\" class=\"dataframe\">\n",
       "  <thead>\n",
       "    <tr style=\"text-align: right;\">\n",
       "      <th></th>\n",
       "      <th>account_length</th>\n",
       "      <th>area_code</th>\n",
       "      <th>vmail_message</th>\n",
       "      <th>day_mins</th>\n",
       "      <th>day_calls</th>\n",
       "      <th>day_charge</th>\n",
       "      <th>eve_mins</th>\n",
       "      <th>eve_calls</th>\n",
       "      <th>eve_charge</th>\n",
       "      <th>night_mins</th>\n",
       "      <th>night_calls</th>\n",
       "      <th>night_charge</th>\n",
       "      <th>inter_min</th>\n",
       "      <th>inter_calls</th>\n",
       "      <th>inter_charge</th>\n",
       "      <th>custservice_calls</th>\n",
       "    </tr>\n",
       "  </thead>\n",
       "  <tbody>\n",
       "    <tr>\n",
       "      <th>account_length</th>\n",
       "      <td>1.000000</td>\n",
       "      <td>-0.020394</td>\n",
       "      <td>-0.012983</td>\n",
       "      <td>0.002002</td>\n",
       "      <td>0.032783</td>\n",
       "      <td>0.001999</td>\n",
       "      <td>-0.006778</td>\n",
       "      <td>0.015598</td>\n",
       "      <td>-0.006775</td>\n",
       "      <td>-0.002077</td>\n",
       "      <td>-0.009482</td>\n",
       "      <td>-0.002095</td>\n",
       "      <td>0.003483</td>\n",
       "      <td>0.023485</td>\n",
       "      <td>0.003501</td>\n",
       "      <td>0.002620</td>\n",
       "    </tr>\n",
       "    <tr>\n",
       "      <th>area_code</th>\n",
       "      <td>-0.020394</td>\n",
       "      <td>1.000000</td>\n",
       "      <td>-0.002597</td>\n",
       "      <td>-0.018900</td>\n",
       "      <td>-0.013179</td>\n",
       "      <td>-0.018903</td>\n",
       "      <td>0.011513</td>\n",
       "      <td>-0.011528</td>\n",
       "      <td>0.011533</td>\n",
       "      <td>0.002794</td>\n",
       "      <td>0.015316</td>\n",
       "      <td>0.002782</td>\n",
       "      <td>-0.007292</td>\n",
       "      <td>-0.011531</td>\n",
       "      <td>-0.007386</td>\n",
       "      <td>0.021046</td>\n",
       "    </tr>\n",
       "    <tr>\n",
       "      <th>vmail_message</th>\n",
       "      <td>-0.012983</td>\n",
       "      <td>-0.002597</td>\n",
       "      <td>1.000000</td>\n",
       "      <td>0.009028</td>\n",
       "      <td>-0.003846</td>\n",
       "      <td>0.009025</td>\n",
       "      <td>0.017872</td>\n",
       "      <td>-0.006508</td>\n",
       "      <td>0.017878</td>\n",
       "      <td>0.004672</td>\n",
       "      <td>0.000889</td>\n",
       "      <td>0.004665</td>\n",
       "      <td>0.005167</td>\n",
       "      <td>0.007423</td>\n",
       "      <td>0.005202</td>\n",
       "      <td>-0.006951</td>\n",
       "    </tr>\n",
       "    <tr>\n",
       "      <th>day_mins</th>\n",
       "      <td>0.002002</td>\n",
       "      <td>-0.018900</td>\n",
       "      <td>0.009028</td>\n",
       "      <td>1.000000</td>\n",
       "      <td>-0.002823</td>\n",
       "      <td>1.000000</td>\n",
       "      <td>-0.010260</td>\n",
       "      <td>0.012990</td>\n",
       "      <td>-0.010268</td>\n",
       "      <td>0.009604</td>\n",
       "      <td>0.005165</td>\n",
       "      <td>0.009591</td>\n",
       "      <td>-0.012314</td>\n",
       "      <td>0.000166</td>\n",
       "      <td>-0.012261</td>\n",
       "      <td>-0.008149</td>\n",
       "    </tr>\n",
       "    <tr>\n",
       "      <th>day_calls</th>\n",
       "      <td>0.032783</td>\n",
       "      <td>-0.013179</td>\n",
       "      <td>-0.003846</td>\n",
       "      <td>-0.002823</td>\n",
       "      <td>1.000000</td>\n",
       "      <td>-0.002821</td>\n",
       "      <td>-0.006430</td>\n",
       "      <td>0.003923</td>\n",
       "      <td>-0.006429</td>\n",
       "      <td>0.010730</td>\n",
       "      <td>-0.013299</td>\n",
       "      <td>0.010724</td>\n",
       "      <td>0.012951</td>\n",
       "      <td>0.010889</td>\n",
       "      <td>0.013055</td>\n",
       "      <td>-0.008747</td>\n",
       "    </tr>\n",
       "    <tr>\n",
       "      <th>day_charge</th>\n",
       "      <td>0.001999</td>\n",
       "      <td>-0.018903</td>\n",
       "      <td>0.009025</td>\n",
       "      <td>1.000000</td>\n",
       "      <td>-0.002821</td>\n",
       "      <td>1.000000</td>\n",
       "      <td>-0.010255</td>\n",
       "      <td>0.012992</td>\n",
       "      <td>-0.010262</td>\n",
       "      <td>0.009606</td>\n",
       "      <td>0.005164</td>\n",
       "      <td>0.009593</td>\n",
       "      <td>-0.012315</td>\n",
       "      <td>0.000163</td>\n",
       "      <td>-0.012262</td>\n",
       "      <td>-0.008155</td>\n",
       "    </tr>\n",
       "    <tr>\n",
       "      <th>eve_mins</th>\n",
       "      <td>-0.006778</td>\n",
       "      <td>0.011513</td>\n",
       "      <td>0.017872</td>\n",
       "      <td>-0.010260</td>\n",
       "      <td>-0.006430</td>\n",
       "      <td>-0.010255</td>\n",
       "      <td>1.000000</td>\n",
       "      <td>0.001135</td>\n",
       "      <td>1.000000</td>\n",
       "      <td>-0.018830</td>\n",
       "      <td>0.014226</td>\n",
       "      <td>-0.018837</td>\n",
       "      <td>0.000165</td>\n",
       "      <td>0.005749</td>\n",
       "      <td>0.000172</td>\n",
       "      <td>-0.015598</td>\n",
       "    </tr>\n",
       "    <tr>\n",
       "      <th>eve_calls</th>\n",
       "      <td>0.015598</td>\n",
       "      <td>-0.011528</td>\n",
       "      <td>-0.006508</td>\n",
       "      <td>0.012990</td>\n",
       "      <td>0.003923</td>\n",
       "      <td>0.012992</td>\n",
       "      <td>0.001135</td>\n",
       "      <td>1.000000</td>\n",
       "      <td>0.001151</td>\n",
       "      <td>0.002610</td>\n",
       "      <td>-0.015463</td>\n",
       "      <td>0.002624</td>\n",
       "      <td>-0.002798</td>\n",
       "      <td>0.005198</td>\n",
       "      <td>-0.002831</td>\n",
       "      <td>0.007730</td>\n",
       "    </tr>\n",
       "    <tr>\n",
       "      <th>eve_charge</th>\n",
       "      <td>-0.006775</td>\n",
       "      <td>0.011533</td>\n",
       "      <td>0.017878</td>\n",
       "      <td>-0.010268</td>\n",
       "      <td>-0.006429</td>\n",
       "      <td>-0.010262</td>\n",
       "      <td>1.000000</td>\n",
       "      <td>0.001151</td>\n",
       "      <td>1.000000</td>\n",
       "      <td>-0.018839</td>\n",
       "      <td>0.014231</td>\n",
       "      <td>-0.018846</td>\n",
       "      <td>0.000163</td>\n",
       "      <td>0.005751</td>\n",
       "      <td>0.000170</td>\n",
       "      <td>-0.015611</td>\n",
       "    </tr>\n",
       "    <tr>\n",
       "      <th>night_mins</th>\n",
       "      <td>-0.002077</td>\n",
       "      <td>0.002794</td>\n",
       "      <td>0.004672</td>\n",
       "      <td>0.009604</td>\n",
       "      <td>0.010730</td>\n",
       "      <td>0.009606</td>\n",
       "      <td>-0.018830</td>\n",
       "      <td>0.002610</td>\n",
       "      <td>-0.018839</td>\n",
       "      <td>1.000000</td>\n",
       "      <td>0.025742</td>\n",
       "      <td>0.999999</td>\n",
       "      <td>-0.004549</td>\n",
       "      <td>-0.014651</td>\n",
       "      <td>-0.004500</td>\n",
       "      <td>-0.013871</td>\n",
       "    </tr>\n",
       "    <tr>\n",
       "      <th>night_calls</th>\n",
       "      <td>-0.009482</td>\n",
       "      <td>0.015316</td>\n",
       "      <td>0.000889</td>\n",
       "      <td>0.005165</td>\n",
       "      <td>-0.013299</td>\n",
       "      <td>0.005164</td>\n",
       "      <td>0.014226</td>\n",
       "      <td>-0.015463</td>\n",
       "      <td>0.014231</td>\n",
       "      <td>0.025742</td>\n",
       "      <td>1.000000</td>\n",
       "      <td>0.025722</td>\n",
       "      <td>-0.006431</td>\n",
       "      <td>0.003294</td>\n",
       "      <td>-0.006439</td>\n",
       "      <td>-0.010258</td>\n",
       "    </tr>\n",
       "    <tr>\n",
       "      <th>night_charge</th>\n",
       "      <td>-0.002095</td>\n",
       "      <td>0.002782</td>\n",
       "      <td>0.004665</td>\n",
       "      <td>0.009591</td>\n",
       "      <td>0.010724</td>\n",
       "      <td>0.009593</td>\n",
       "      <td>-0.018837</td>\n",
       "      <td>0.002624</td>\n",
       "      <td>-0.018846</td>\n",
       "      <td>0.999999</td>\n",
       "      <td>0.025722</td>\n",
       "      <td>1.000000</td>\n",
       "      <td>-0.004546</td>\n",
       "      <td>-0.014624</td>\n",
       "      <td>-0.004497</td>\n",
       "      <td>-0.013868</td>\n",
       "    </tr>\n",
       "    <tr>\n",
       "      <th>inter_min</th>\n",
       "      <td>0.003483</td>\n",
       "      <td>-0.007292</td>\n",
       "      <td>0.005167</td>\n",
       "      <td>-0.012314</td>\n",
       "      <td>0.012951</td>\n",
       "      <td>-0.012315</td>\n",
       "      <td>0.000165</td>\n",
       "      <td>-0.002798</td>\n",
       "      <td>0.000163</td>\n",
       "      <td>-0.004549</td>\n",
       "      <td>-0.006431</td>\n",
       "      <td>-0.004546</td>\n",
       "      <td>1.000000</td>\n",
       "      <td>0.021431</td>\n",
       "      <td>0.999993</td>\n",
       "      <td>-0.016079</td>\n",
       "    </tr>\n",
       "    <tr>\n",
       "      <th>inter_calls</th>\n",
       "      <td>0.023485</td>\n",
       "      <td>-0.011531</td>\n",
       "      <td>0.007423</td>\n",
       "      <td>0.000166</td>\n",
       "      <td>0.010889</td>\n",
       "      <td>0.000163</td>\n",
       "      <td>0.005749</td>\n",
       "      <td>0.005198</td>\n",
       "      <td>0.005751</td>\n",
       "      <td>-0.014651</td>\n",
       "      <td>0.003294</td>\n",
       "      <td>-0.014624</td>\n",
       "      <td>0.021431</td>\n",
       "      <td>1.000000</td>\n",
       "      <td>0.021548</td>\n",
       "      <td>-0.016778</td>\n",
       "    </tr>\n",
       "    <tr>\n",
       "      <th>inter_charge</th>\n",
       "      <td>0.003501</td>\n",
       "      <td>-0.007386</td>\n",
       "      <td>0.005202</td>\n",
       "      <td>-0.012261</td>\n",
       "      <td>0.013055</td>\n",
       "      <td>-0.012262</td>\n",
       "      <td>0.000172</td>\n",
       "      <td>-0.002831</td>\n",
       "      <td>0.000170</td>\n",
       "      <td>-0.004500</td>\n",
       "      <td>-0.006439</td>\n",
       "      <td>-0.004497</td>\n",
       "      <td>0.999993</td>\n",
       "      <td>0.021548</td>\n",
       "      <td>1.000000</td>\n",
       "      <td>-0.016148</td>\n",
       "    </tr>\n",
       "    <tr>\n",
       "      <th>custservice_calls</th>\n",
       "      <td>0.002620</td>\n",
       "      <td>0.021046</td>\n",
       "      <td>-0.006951</td>\n",
       "      <td>-0.008149</td>\n",
       "      <td>-0.008747</td>\n",
       "      <td>-0.008155</td>\n",
       "      <td>-0.015598</td>\n",
       "      <td>0.007730</td>\n",
       "      <td>-0.015611</td>\n",
       "      <td>-0.013871</td>\n",
       "      <td>-0.010258</td>\n",
       "      <td>-0.013868</td>\n",
       "      <td>-0.016079</td>\n",
       "      <td>-0.016778</td>\n",
       "      <td>-0.016148</td>\n",
       "      <td>1.000000</td>\n",
       "    </tr>\n",
       "  </tbody>\n",
       "</table>\n",
       "</div>"
      ],
      "text/plain": [
       "                   account_length  area_code  vmail_message  day_mins  \\\n",
       "account_length           1.000000  -0.020394      -0.012983  0.002002   \n",
       "area_code               -0.020394   1.000000      -0.002597 -0.018900   \n",
       "vmail_message           -0.012983  -0.002597       1.000000  0.009028   \n",
       "day_mins                 0.002002  -0.018900       0.009028  1.000000   \n",
       "day_calls                0.032783  -0.013179      -0.003846 -0.002823   \n",
       "day_charge               0.001999  -0.018903       0.009025  1.000000   \n",
       "eve_mins                -0.006778   0.011513       0.017872 -0.010260   \n",
       "eve_calls                0.015598  -0.011528      -0.006508  0.012990   \n",
       "eve_charge              -0.006775   0.011533       0.017878 -0.010268   \n",
       "night_mins              -0.002077   0.002794       0.004672  0.009604   \n",
       "night_calls             -0.009482   0.015316       0.000889  0.005165   \n",
       "night_charge            -0.002095   0.002782       0.004665  0.009591   \n",
       "inter_min                0.003483  -0.007292       0.005167 -0.012314   \n",
       "inter_calls              0.023485  -0.011531       0.007423  0.000166   \n",
       "inter_charge             0.003501  -0.007386       0.005202 -0.012261   \n",
       "custservice_calls        0.002620   0.021046      -0.006951 -0.008149   \n",
       "\n",
       "                   day_calls  day_charge  eve_mins  eve_calls  eve_charge  \\\n",
       "account_length      0.032783    0.001999 -0.006778   0.015598   -0.006775   \n",
       "area_code          -0.013179   -0.018903  0.011513  -0.011528    0.011533   \n",
       "vmail_message      -0.003846    0.009025  0.017872  -0.006508    0.017878   \n",
       "day_mins           -0.002823    1.000000 -0.010260   0.012990   -0.010268   \n",
       "day_calls           1.000000   -0.002821 -0.006430   0.003923   -0.006429   \n",
       "day_charge         -0.002821    1.000000 -0.010255   0.012992   -0.010262   \n",
       "eve_mins           -0.006430   -0.010255  1.000000   0.001135    1.000000   \n",
       "eve_calls           0.003923    0.012992  0.001135   1.000000    0.001151   \n",
       "eve_charge         -0.006429   -0.010262  1.000000   0.001151    1.000000   \n",
       "night_mins          0.010730    0.009606 -0.018830   0.002610   -0.018839   \n",
       "night_calls        -0.013299    0.005164  0.014226  -0.015463    0.014231   \n",
       "night_charge        0.010724    0.009593 -0.018837   0.002624   -0.018846   \n",
       "inter_min           0.012951   -0.012315  0.000165  -0.002798    0.000163   \n",
       "inter_calls         0.010889    0.000163  0.005749   0.005198    0.005751   \n",
       "inter_charge        0.013055   -0.012262  0.000172  -0.002831    0.000170   \n",
       "custservice_calls  -0.008747   -0.008155 -0.015598   0.007730   -0.015611   \n",
       "\n",
       "                   night_mins  night_calls  night_charge  inter_min  \\\n",
       "account_length      -0.002077    -0.009482     -0.002095   0.003483   \n",
       "area_code            0.002794     0.015316      0.002782  -0.007292   \n",
       "vmail_message        0.004672     0.000889      0.004665   0.005167   \n",
       "day_mins             0.009604     0.005165      0.009591  -0.012314   \n",
       "day_calls            0.010730    -0.013299      0.010724   0.012951   \n",
       "day_charge           0.009606     0.005164      0.009593  -0.012315   \n",
       "eve_mins            -0.018830     0.014226     -0.018837   0.000165   \n",
       "eve_calls            0.002610    -0.015463      0.002624  -0.002798   \n",
       "eve_charge          -0.018839     0.014231     -0.018846   0.000163   \n",
       "night_mins           1.000000     0.025742      0.999999  -0.004549   \n",
       "night_calls          0.025742     1.000000      0.025722  -0.006431   \n",
       "night_charge         0.999999     0.025722      1.000000  -0.004546   \n",
       "inter_min           -0.004549    -0.006431     -0.004546   1.000000   \n",
       "inter_calls         -0.014651     0.003294     -0.014624   0.021431   \n",
       "inter_charge        -0.004500    -0.006439     -0.004497   0.999993   \n",
       "custservice_calls   -0.013871    -0.010258     -0.013868  -0.016079   \n",
       "\n",
       "                   inter_calls  inter_charge  custservice_calls  \n",
       "account_length        0.023485      0.003501           0.002620  \n",
       "area_code            -0.011531     -0.007386           0.021046  \n",
       "vmail_message         0.007423      0.005202          -0.006951  \n",
       "day_mins              0.000166     -0.012261          -0.008149  \n",
       "day_calls             0.010889      0.013055          -0.008747  \n",
       "day_charge            0.000163     -0.012262          -0.008155  \n",
       "eve_mins              0.005749      0.000172          -0.015598  \n",
       "eve_calls             0.005198     -0.002831           0.007730  \n",
       "eve_charge            0.005751      0.000170          -0.015611  \n",
       "night_mins           -0.014651     -0.004500          -0.013871  \n",
       "night_calls           0.003294     -0.006439          -0.010258  \n",
       "night_charge         -0.014624     -0.004497          -0.013868  \n",
       "inter_min             0.021431      0.999993          -0.016079  \n",
       "inter_calls           1.000000      0.021548          -0.016778  \n",
       "inter_charge          0.021548      1.000000          -0.016148  \n",
       "custservice_calls    -0.016778     -0.016148           1.000000  "
      ]
     },
     "execution_count": 7,
     "metadata": {},
     "output_type": "execute_result"
    }
   ],
   "source": [
    "data.corr()"
   ]
  },
  {
   "cell_type": "code",
   "execution_count": 8,
   "metadata": {},
   "outputs": [
    {
     "name": "stdout",
     "output_type": "stream",
     "text": [
      "Index(['state', 'account_length', 'area_code', 'phone', 'international_plan',\n",
      "       'vmail_plan', 'vmail_message', 'day_mins', 'day_calls', 'day_charge',\n",
      "       'eve_mins', 'eve_calls', 'eve_charge', 'night_mins', 'night_calls',\n",
      "       'night_charge', 'inter_min', 'inter_calls', 'inter_charge',\n",
      "       'custservice_calls', 'churns'],\n",
      "      dtype='object')\n"
     ]
    }
   ],
   "source": [
    "print(data.columns)"
   ]
  },
  {
   "cell_type": "code",
   "execution_count": 9,
   "metadata": {},
   "outputs": [
    {
     "name": "stdout",
     "output_type": "stream",
     "text": [
      "1 column is state\n",
      "2 column is account_length\n",
      "3 column is area_code\n",
      "4 column is phone\n",
      "5 column is international_plan\n",
      "6 column is vmail_plan\n",
      "7 column is vmail_message\n",
      "8 column is day_mins\n",
      "9 column is day_calls\n",
      "10 column is day_charge\n",
      "11 column is eve_mins\n",
      "12 column is eve_calls\n",
      "13 column is eve_charge\n",
      "14 column is night_mins\n",
      "15 column is night_calls\n",
      "16 column is night_charge\n",
      "17 column is inter_min\n",
      "18 column is inter_calls\n",
      "19 column is inter_charge\n",
      "20 column is custservice_calls\n",
      "21 column is churns\n"
     ]
    }
   ],
   "source": [
    "for i,col in enumerate(data.columns):\n",
    "    print(i+1,'column is',col)"
   ]
  },
  {
   "cell_type": "code",
   "execution_count": 10,
   "metadata": {
    "scrolled": true
   },
   "outputs": [
    {
     "data": {
      "text/plain": [
       "Counter({' False.': 3961, ' True.': 656})"
      ]
     },
     "execution_count": 10,
     "metadata": {},
     "output_type": "execute_result"
    }
   ],
   "source": [
    "Counter(data.churns)"
   ]
  },
  {
   "cell_type": "code",
   "execution_count": 11,
   "metadata": {},
   "outputs": [
    {
     "data": {
      "text/plain": [
       "Counter({' no': 4171, ' yes': 446})"
      ]
     },
     "execution_count": 11,
     "metadata": {},
     "output_type": "execute_result"
    }
   ],
   "source": [
    "Counter(data.international_plan)"
   ]
  },
  {
   "cell_type": "code",
   "execution_count": 12,
   "metadata": {},
   "outputs": [
    {
     "data": {
      "text/plain": [
       " no     3381\n",
       " yes    1236\n",
       "Name: vmail_plan, dtype: int64"
      ]
     },
     "execution_count": 12,
     "metadata": {},
     "output_type": "execute_result"
    }
   ],
   "source": [
    "data['vmail_plan'].value_counts()"
   ]
  },
  {
   "cell_type": "code",
   "execution_count": 13,
   "metadata": {
    "scrolled": true
   },
   "outputs": [
    {
     "data": {
      "text/plain": [
       "415    2299\n",
       "408    1161\n",
       "510    1157\n",
       "Name: area_code, dtype: int64"
      ]
     },
     "execution_count": 13,
     "metadata": {},
     "output_type": "execute_result"
    }
   ],
   "source": [
    "data['area_code'].value_counts()"
   ]
  },
  {
   "cell_type": "code",
   "execution_count": 14,
   "metadata": {
    "scrolled": false
   },
   "outputs": [
    {
     "data": {
      "text/plain": [
       " False.    3961\n",
       " True.      656\n",
       "Name: churns, dtype: int64"
      ]
     },
     "execution_count": 14,
     "metadata": {},
     "output_type": "execute_result"
    }
   ],
   "source": [
    "data['churns'].value_counts()"
   ]
  },
  {
   "cell_type": "code",
   "execution_count": 15,
   "metadata": {},
   "outputs": [
    {
     "data": {
      "text/plain": [
       "array([' False.', ' True.'], dtype=object)"
      ]
     },
     "execution_count": 15,
     "metadata": {},
     "output_type": "execute_result"
    }
   ],
   "source": [
    "data['churns'].unique()"
   ]
  },
  {
   "cell_type": "code",
   "execution_count": 16,
   "metadata": {},
   "outputs": [
    {
     "data": {
      "text/plain": [
       "51"
      ]
     },
     "execution_count": 16,
     "metadata": {},
     "output_type": "execute_result"
    }
   ],
   "source": [
    "np.count_nonzero(data['state'].unique())"
   ]
  },
  {
   "cell_type": "code",
   "execution_count": 17,
   "metadata": {},
   "outputs": [],
   "source": [
    "#int_cols.describe()"
   ]
  },
  {
   "cell_type": "code",
   "execution_count": 18,
   "metadata": {},
   "outputs": [],
   "source": [
    "#float_cols.describe()"
   ]
  },
  {
   "cell_type": "code",
   "execution_count": 19,
   "metadata": {},
   "outputs": [],
   "source": [
    "selected_cols = ['state','area_code','international_plan','vmail_plan','vmail_message','day_mins',\n",
    "                'day_calls','day_charge','eve_mins','eve_calls','eve_charge','night_mins','night_calls','night_charge',\n",
    "                'inter_min','inter_calls','inter_charge','custservice_calls','churns']"
   ]
  },
  {
   "cell_type": "code",
   "execution_count": 20,
   "metadata": {},
   "outputs": [],
   "source": [
    "df = data[selected_cols]"
   ]
  },
  {
   "cell_type": "code",
   "execution_count": 21,
   "metadata": {},
   "outputs": [
    {
     "data": {
      "text/html": [
       "<div>\n",
       "<style scoped>\n",
       "    .dataframe tbody tr th:only-of-type {\n",
       "        vertical-align: middle;\n",
       "    }\n",
       "\n",
       "    .dataframe tbody tr th {\n",
       "        vertical-align: top;\n",
       "    }\n",
       "\n",
       "    .dataframe thead th {\n",
       "        text-align: right;\n",
       "    }\n",
       "</style>\n",
       "<table border=\"1\" class=\"dataframe\">\n",
       "  <thead>\n",
       "    <tr style=\"text-align: right;\">\n",
       "      <th></th>\n",
       "      <th>state</th>\n",
       "      <th>area_code</th>\n",
       "      <th>international_plan</th>\n",
       "      <th>vmail_plan</th>\n",
       "      <th>vmail_message</th>\n",
       "      <th>day_mins</th>\n",
       "      <th>day_calls</th>\n",
       "      <th>day_charge</th>\n",
       "      <th>eve_mins</th>\n",
       "      <th>eve_calls</th>\n",
       "      <th>eve_charge</th>\n",
       "      <th>night_mins</th>\n",
       "      <th>night_calls</th>\n",
       "      <th>night_charge</th>\n",
       "      <th>inter_min</th>\n",
       "      <th>inter_calls</th>\n",
       "      <th>inter_charge</th>\n",
       "      <th>custservice_calls</th>\n",
       "      <th>churns</th>\n",
       "    </tr>\n",
       "  </thead>\n",
       "  <tbody>\n",
       "    <tr>\n",
       "      <th>0</th>\n",
       "      <td>KS</td>\n",
       "      <td>415</td>\n",
       "      <td>no</td>\n",
       "      <td>yes</td>\n",
       "      <td>25</td>\n",
       "      <td>265.1</td>\n",
       "      <td>110</td>\n",
       "      <td>45.07</td>\n",
       "      <td>197.4</td>\n",
       "      <td>99</td>\n",
       "      <td>16.78</td>\n",
       "      <td>244.7</td>\n",
       "      <td>91</td>\n",
       "      <td>11.01</td>\n",
       "      <td>10.0</td>\n",
       "      <td>3</td>\n",
       "      <td>2.70</td>\n",
       "      <td>1</td>\n",
       "      <td>False.</td>\n",
       "    </tr>\n",
       "    <tr>\n",
       "      <th>1</th>\n",
       "      <td>OH</td>\n",
       "      <td>415</td>\n",
       "      <td>no</td>\n",
       "      <td>yes</td>\n",
       "      <td>26</td>\n",
       "      <td>161.6</td>\n",
       "      <td>123</td>\n",
       "      <td>27.47</td>\n",
       "      <td>195.5</td>\n",
       "      <td>103</td>\n",
       "      <td>16.62</td>\n",
       "      <td>254.4</td>\n",
       "      <td>103</td>\n",
       "      <td>11.45</td>\n",
       "      <td>13.7</td>\n",
       "      <td>3</td>\n",
       "      <td>3.70</td>\n",
       "      <td>1</td>\n",
       "      <td>False.</td>\n",
       "    </tr>\n",
       "    <tr>\n",
       "      <th>2</th>\n",
       "      <td>NJ</td>\n",
       "      <td>415</td>\n",
       "      <td>no</td>\n",
       "      <td>no</td>\n",
       "      <td>0</td>\n",
       "      <td>243.4</td>\n",
       "      <td>114</td>\n",
       "      <td>41.38</td>\n",
       "      <td>121.2</td>\n",
       "      <td>110</td>\n",
       "      <td>10.30</td>\n",
       "      <td>162.6</td>\n",
       "      <td>104</td>\n",
       "      <td>7.32</td>\n",
       "      <td>12.2</td>\n",
       "      <td>5</td>\n",
       "      <td>3.29</td>\n",
       "      <td>0</td>\n",
       "      <td>False.</td>\n",
       "    </tr>\n",
       "    <tr>\n",
       "      <th>3</th>\n",
       "      <td>OH</td>\n",
       "      <td>408</td>\n",
       "      <td>yes</td>\n",
       "      <td>no</td>\n",
       "      <td>0</td>\n",
       "      <td>299.4</td>\n",
       "      <td>71</td>\n",
       "      <td>50.90</td>\n",
       "      <td>61.9</td>\n",
       "      <td>88</td>\n",
       "      <td>5.26</td>\n",
       "      <td>196.9</td>\n",
       "      <td>89</td>\n",
       "      <td>8.86</td>\n",
       "      <td>6.6</td>\n",
       "      <td>7</td>\n",
       "      <td>1.78</td>\n",
       "      <td>2</td>\n",
       "      <td>False.</td>\n",
       "    </tr>\n",
       "    <tr>\n",
       "      <th>4</th>\n",
       "      <td>OK</td>\n",
       "      <td>415</td>\n",
       "      <td>yes</td>\n",
       "      <td>no</td>\n",
       "      <td>0</td>\n",
       "      <td>166.7</td>\n",
       "      <td>113</td>\n",
       "      <td>28.34</td>\n",
       "      <td>148.3</td>\n",
       "      <td>122</td>\n",
       "      <td>12.61</td>\n",
       "      <td>186.9</td>\n",
       "      <td>121</td>\n",
       "      <td>8.41</td>\n",
       "      <td>10.1</td>\n",
       "      <td>3</td>\n",
       "      <td>2.73</td>\n",
       "      <td>3</td>\n",
       "      <td>False.</td>\n",
       "    </tr>\n",
       "  </tbody>\n",
       "</table>\n",
       "</div>"
      ],
      "text/plain": [
       "  state  area_code international_plan vmail_plan  vmail_message  day_mins  \\\n",
       "0    KS        415                 no        yes             25     265.1   \n",
       "1    OH        415                 no        yes             26     161.6   \n",
       "2    NJ        415                 no         no              0     243.4   \n",
       "3    OH        408                yes         no              0     299.4   \n",
       "4    OK        415                yes         no              0     166.7   \n",
       "\n",
       "   day_calls  day_charge  eve_mins  eve_calls  eve_charge  night_mins  \\\n",
       "0        110       45.07     197.4         99       16.78       244.7   \n",
       "1        123       27.47     195.5        103       16.62       254.4   \n",
       "2        114       41.38     121.2        110       10.30       162.6   \n",
       "3         71       50.90      61.9         88        5.26       196.9   \n",
       "4        113       28.34     148.3        122       12.61       186.9   \n",
       "\n",
       "   night_calls  night_charge  inter_min  inter_calls  inter_charge  \\\n",
       "0           91         11.01       10.0            3          2.70   \n",
       "1          103         11.45       13.7            3          3.70   \n",
       "2          104          7.32       12.2            5          3.29   \n",
       "3           89          8.86        6.6            7          1.78   \n",
       "4          121          8.41       10.1            3          2.73   \n",
       "\n",
       "   custservice_calls   churns  \n",
       "0                  1   False.  \n",
       "1                  1   False.  \n",
       "2                  0   False.  \n",
       "3                  2   False.  \n",
       "4                  3   False.  "
      ]
     },
     "execution_count": 21,
     "metadata": {},
     "output_type": "execute_result"
    }
   ],
   "source": [
    "df.head()"
   ]
  },
  {
   "cell_type": "markdown",
   "metadata": {},
   "source": [
    "## EDA"
   ]
  },
  {
   "cell_type": "code",
   "execution_count": 81,
   "metadata": {
    "scrolled": true
   },
   "outputs": [
    {
     "data": {
      "text/plain": [
       "<matplotlib.axes._subplots.AxesSubplot at 0xabacc45408>"
      ]
     },
     "execution_count": 81,
     "metadata": {},
     "output_type": "execute_result"
    },
    {
     "data": {
      "image/png": "[encoded data removed]",
      "text/plain": [
       "<Figure size 1080x360 with 1 Axes>"
      ]
     },
     "metadata": {
      "needs_background": "light"
     },
     "output_type": "display_data"
    }
   ],
   "source": [
    "rcParams['figure.figsize'] = 15,5\n",
    "rcParams['figure.facecolor'] = 'none'\n",
    "df[['day_calls','vmail_message','eve_calls','night_calls','inter_calls','custservice_calls']].plot.hist()"
   ]
  },
  {
   "cell_type": "code",
   "execution_count": 23,
   "metadata": {},
   "outputs": [
    {
     "data": {
      "image/png": "[encoded data removed]",
      "text/plain": [
       "<Figure size 504x504 with 1 Axes>"
      ]
     },
     "metadata": {},
     "output_type": "display_data"
    }
   ],
   "source": [
    "labels = df['churns'].value_counts().index\n",
    "values = df['churns'].value_counts().values\n",
    "colors = ['yellow','red']\n",
    "explode = [0,0.1]\n",
    "plt.figure(figsize=(7,7))\n",
    "plt.pie(values,labels=labels,colors=colors,explode=explode,autopct='%1.1f')\n",
    "plt.title(\"churn classification\")\n",
    "plt.show()"
   ]
  },
  {
   "cell_type": "code",
   "execution_count": 24,
   "metadata": {
    "scrolled": true
   },
   "outputs": [
    {
     "data": {
      "image/png": "[encoded data removed]",
      "text/plain": [
       "<Figure size 1080x360 with 1 Axes>"
      ]
     },
     "metadata": {},
     "output_type": "display_data"
    }
   ],
   "source": [
    "sb.set(style='whitegrid')\n",
    "sb.barplot(x = df['churns'].value_counts().index, y = df['churns'].value_counts().values,\n",
    "                hue = ['True','False'],palette=\"Blues_d\")\n",
    "plt.xlabel('values')\n",
    "plt.ylabel('counts')\n",
    "plt.title('Churn Classification')\n",
    "plt.show()"
   ]
  },
  {
   "cell_type": "code",
   "execution_count": 25,
   "metadata": {},
   "outputs": [
    {
     "data": {
      "text/plain": [
       "<matplotlib.axes._subplots.AxesSubplot at 0xaba2ec87c8>"
      ]
     },
     "execution_count": 25,
     "metadata": {},
     "output_type": "execute_result"
    },
    {
     "data": {
      "image/png": "[encoded data removed]",
      "text/plain": [
       "<Figure size 1080x360 with 2 Axes>"
      ]
     },
     "metadata": {},
     "output_type": "display_data"
    }
   ],
   "source": [
    "sb.heatmap(df.corr())"
   ]
  },
  {
   "cell_type": "code",
   "execution_count": 26,
   "metadata": {},
   "outputs": [
    {
     "name": "stdout",
     "output_type": "stream",
     "text": [
      "churns   False.   True.\n",
      "state                  \n",
      "AK           64       5\n",
      "AL          104      10\n",
      "AR           62      15\n",
      "AZ           74       7\n",
      "CA           31      13\n",
      "CO           81      10\n",
      "CT           78      14\n",
      "DC           73       9\n",
      "DE           75      14\n",
      "FL           73      12\n",
      "GA           67      10\n",
      "HI           74       5\n",
      "IA           59       6\n",
      "ID           97      13\n",
      "IL           72       7\n",
      "IN           76      13\n",
      "KS           78      18\n",
      "KY           77      13\n",
      "LA           66       7\n",
      "MA           83      14\n",
      "MD           72      20\n",
      "ME           77      18\n",
      "MI           81      17\n",
      "MN           94      18\n",
      "MO           73      11\n",
      "MS           75      16\n",
      "MT           73      19\n",
      "NC           71      12\n",
      "ND           73       7\n",
      "NE           73       6\n",
      "NH           80      11\n",
      "NJ           81      25\n",
      "NM           76       8\n",
      "NV           72      17\n",
      "NY           91      18\n",
      "OH           95      15\n",
      "OK           65      15\n",
      "OR           90      17\n",
      "PA           60       8\n",
      "RI           83       7\n",
      "SC           67      16\n",
      "SD           64      12\n",
      "TN           71      12\n",
      "TX           81      24\n",
      "UT           88      16\n",
      "VA          103       6\n",
      "VT           85      10\n",
      "WA           68      21\n",
      "WI           91       8\n",
      "WV          128      21\n",
      "WY           96      10\n"
     ]
    },
    {
     "data": {
      "text/plain": [
       "<matplotlib.axes._subplots.AxesSubplot at 0xaba2f3f508>"
      ]
     },
     "execution_count": 26,
     "metadata": {},
     "output_type": "execute_result"
    },
    {
     "data": {
      "image/png": "[encoded data removed]",
      "text/plain": [
       "<Figure size 1800x720 with 1 Axes>"
      ]
     },
     "metadata": {},
     "output_type": "display_data"
    }
   ],
   "source": [
    "statewise = pd.crosstab(df.state,df.churns,normalize=False)\n",
    "print(statewise)\n",
    "rcParams['figure.figsize'] = 25,10\n",
    "statewise.plot(kind='bar',title='State vs Churn')"
   ]
  },
  {
   "cell_type": "code",
   "execution_count": 27,
   "metadata": {},
   "outputs": [
    {
     "name": "stdout",
     "output_type": "stream",
     "text": [
      "churns      False.   True.\n",
      "area_code                 \n",
      "408            996     165\n",
      "415           1981     318\n",
      "510            984     173\n"
     ]
    },
    {
     "data": {
      "text/plain": [
       "<matplotlib.axes._subplots.AxesSubplot at 0xaba2e8c448>"
      ]
     },
     "execution_count": 27,
     "metadata": {},
     "output_type": "execute_result"
    },
    {
     "data": {
      "image/png": "[encoded data removed]",
      "text/plain": [
       "<Figure size 1800x720 with 2 Axes>"
      ]
     },
     "metadata": {},
     "output_type": "display_data"
    },
    {
     "data": {
      "image/png": "[encoded data removed]",
      "text/plain": [
       "<Figure size 1800x720 with 1 Axes>"
      ]
     },
     "metadata": {},
     "output_type": "display_data"
    }
   ],
   "source": [
    "areawise = pd.crosstab(df.area_code,df.churns)\n",
    "print(areawise)\n",
    "colors = ['red','orange','blue']\n",
    "areawise.plot(kind='pie',subplots=True,colors=colors,title='Area code vs churn')\n",
    "areawise.plot(kind='barh')"
   ]
  },
  {
   "cell_type": "code",
   "execution_count": 28,
   "metadata": {},
   "outputs": [
    {
     "name": "stdout",
     "output_type": "stream",
     "text": [
      "churns             False.     True.\n",
      "state area_code                    \n",
      "AK    408        0.003249  0.000000\n",
      "      415        0.006931  0.000866\n",
      "      510        0.003682  0.000217\n",
      "AL    408        0.006281  0.000866\n",
      "      415        0.012346  0.000866\n",
      "...                   ...       ...\n",
      "WV    415        0.013645  0.001733\n",
      "      510        0.007581  0.001949\n",
      "WY    408        0.005198  0.000000\n",
      "      415        0.011263  0.001083\n",
      "      510        0.004332  0.001083\n",
      "\n",
      "[153 rows x 2 columns]\n"
     ]
    },
    {
     "data": {
      "text/plain": [
       "<matplotlib.axes._subplots.AxesSubplot at 0xaba3308ec8>"
      ]
     },
     "execution_count": 28,
     "metadata": {},
     "output_type": "execute_result"
    },
    {
     "data": {
      "image/png": "[encoded data removed]",
      "text/plain": [
       "<Figure size 1440x4320 with 1 Axes>"
      ]
     },
     "metadata": {},
     "output_type": "display_data"
    }
   ],
   "source": [
    "rcParams['figure.figsize']=20,60\n",
    "cd = pd.crosstab([df.state,df.area_code],df.churns,normalize=True)\n",
    "print(cd)\n",
    "cd.plot(kind='barh',stacked=False,grid=True,title='state vs area vs churn')"
   ]
  },
  {
   "cell_type": "code",
   "execution_count": 29,
   "metadata": {},
   "outputs": [
    {
     "name": "stdout",
     "output_type": "stream",
     "text": [
      "churns               False.   True.\n",
      "international_plan                 \n",
      " no                    3701     470\n",
      " yes                    260     186\n"
     ]
    },
    {
     "data": {
      "text/plain": [
       "<matplotlib.axes._subplots.AxesSubplot at 0xaba42b0588>"
      ]
     },
     "execution_count": 29,
     "metadata": {},
     "output_type": "execute_result"
    },
    {
     "data": {
      "image/png": "[encoded data removed]",
      "text/plain": [
       "<Figure size 720x360 with 1 Axes>"
      ]
     },
     "metadata": {},
     "output_type": "display_data"
    }
   ],
   "source": [
    "rcParams['figure.figsize']=10,5\n",
    "i_plan = pd.crosstab(df.international_plan,df.churns,normalize=False)\n",
    "print(i_plan)\n",
    "i_plan.plot(kind='bar',title='International plan vs Churns')"
   ]
  },
  {
   "cell_type": "code",
   "execution_count": 30,
   "metadata": {},
   "outputs": [
    {
     "name": "stdout",
     "output_type": "stream",
     "text": [
      "churns       False.   True.\n",
      "vmail_plan                 \n",
      " no            2822     559\n",
      " yes           1139      97\n"
     ]
    },
    {
     "data": {
      "text/plain": [
       "<matplotlib.axes._subplots.AxesSubplot at 0xaba4348708>"
      ]
     },
     "execution_count": 30,
     "metadata": {},
     "output_type": "execute_result"
    },
    {
     "data": {
      "image/png": "[encoded data removed]",
      "text/plain": [
       "<Figure size 720x360 with 1 Axes>"
      ]
     },
     "metadata": {},
     "output_type": "display_data"
    }
   ],
   "source": [
    "rcParams['figure.figsize']=10,5\n",
    "v_plan = pd.crosstab(df.vmail_plan,df.churns)\n",
    "print(v_plan)\n",
    "v_plan.plot(kind='bar',title='voice mail plan vs churns')"
   ]
  },
  {
   "cell_type": "code",
   "execution_count": 31,
   "metadata": {},
   "outputs": [
    {
     "name": "stdout",
     "output_type": "stream",
     "text": [
      "churns              False.   True.\n",
      "custservice_calls                 \n",
      "0                      835     116\n",
      "1                     1475     176\n",
      "2                      919     112\n",
      "3                      551      65\n",
      "4                      130     104\n",
      "5                       34      55\n",
      "6                       10      18\n",
      "7                        6       7\n",
      "8                        1       1\n",
      "9                        0       2\n"
     ]
    },
    {
     "data": {
      "text/plain": [
       "<matplotlib.axes._subplots.AxesSubplot at 0xaba43b95c8>"
      ]
     },
     "execution_count": 31,
     "metadata": {},
     "output_type": "execute_result"
    },
    {
     "data": {
      "image/png": "[encoded data removed]",
      "text/plain": [
       "<Figure size 720x360 with 1 Axes>"
      ]
     },
     "metadata": {},
     "output_type": "display_data"
    }
   ],
   "source": [
    "rcParams['figure.figsize']=10,5\n",
    "cust_ser = pd.crosstab(df.custservice_calls,df.churns)\n",
    "print(cust_ser)\n",
    "cust_ser.plot(kind='bar',title='Customer service calls vs Churns')"
   ]
  },
  {
   "cell_type": "markdown",
   "metadata": {},
   "source": [
    "## Modeling"
   ]
  },
  {
   "cell_type": "code",
   "execution_count": 32,
   "metadata": {},
   "outputs": [
    {
     "data": {
      "text/html": [
       "<div>\n",
       "<style scoped>\n",
       "    .dataframe tbody tr th:only-of-type {\n",
       "        vertical-align: middle;\n",
       "    }\n",
       "\n",
       "    .dataframe tbody tr th {\n",
       "        vertical-align: top;\n",
       "    }\n",
       "\n",
       "    .dataframe thead th {\n",
       "        text-align: right;\n",
       "    }\n",
       "</style>\n",
       "<table border=\"1\" class=\"dataframe\">\n",
       "  <thead>\n",
       "    <tr style=\"text-align: right;\">\n",
       "      <th></th>\n",
       "      <th>state</th>\n",
       "      <th>area_code</th>\n",
       "      <th>international_plan</th>\n",
       "      <th>vmail_plan</th>\n",
       "      <th>vmail_message</th>\n",
       "      <th>day_mins</th>\n",
       "      <th>day_calls</th>\n",
       "      <th>day_charge</th>\n",
       "      <th>eve_mins</th>\n",
       "      <th>eve_calls</th>\n",
       "      <th>eve_charge</th>\n",
       "      <th>night_mins</th>\n",
       "      <th>night_calls</th>\n",
       "      <th>night_charge</th>\n",
       "      <th>inter_min</th>\n",
       "      <th>inter_calls</th>\n",
       "      <th>inter_charge</th>\n",
       "      <th>custservice_calls</th>\n",
       "      <th>churns</th>\n",
       "    </tr>\n",
       "  </thead>\n",
       "  <tbody>\n",
       "    <tr>\n",
       "      <th>0</th>\n",
       "      <td>KS</td>\n",
       "      <td>415</td>\n",
       "      <td>no</td>\n",
       "      <td>yes</td>\n",
       "      <td>25</td>\n",
       "      <td>265.1</td>\n",
       "      <td>110</td>\n",
       "      <td>45.07</td>\n",
       "      <td>197.4</td>\n",
       "      <td>99</td>\n",
       "      <td>16.78</td>\n",
       "      <td>244.7</td>\n",
       "      <td>91</td>\n",
       "      <td>11.01</td>\n",
       "      <td>10.0</td>\n",
       "      <td>3</td>\n",
       "      <td>2.70</td>\n",
       "      <td>1</td>\n",
       "      <td>False.</td>\n",
       "    </tr>\n",
       "    <tr>\n",
       "      <th>1</th>\n",
       "      <td>OH</td>\n",
       "      <td>415</td>\n",
       "      <td>no</td>\n",
       "      <td>yes</td>\n",
       "      <td>26</td>\n",
       "      <td>161.6</td>\n",
       "      <td>123</td>\n",
       "      <td>27.47</td>\n",
       "      <td>195.5</td>\n",
       "      <td>103</td>\n",
       "      <td>16.62</td>\n",
       "      <td>254.4</td>\n",
       "      <td>103</td>\n",
       "      <td>11.45</td>\n",
       "      <td>13.7</td>\n",
       "      <td>3</td>\n",
       "      <td>3.70</td>\n",
       "      <td>1</td>\n",
       "      <td>False.</td>\n",
       "    </tr>\n",
       "    <tr>\n",
       "      <th>2</th>\n",
       "      <td>NJ</td>\n",
       "      <td>415</td>\n",
       "      <td>no</td>\n",
       "      <td>no</td>\n",
       "      <td>0</td>\n",
       "      <td>243.4</td>\n",
       "      <td>114</td>\n",
       "      <td>41.38</td>\n",
       "      <td>121.2</td>\n",
       "      <td>110</td>\n",
       "      <td>10.30</td>\n",
       "      <td>162.6</td>\n",
       "      <td>104</td>\n",
       "      <td>7.32</td>\n",
       "      <td>12.2</td>\n",
       "      <td>5</td>\n",
       "      <td>3.29</td>\n",
       "      <td>0</td>\n",
       "      <td>False.</td>\n",
       "    </tr>\n",
       "    <tr>\n",
       "      <th>3</th>\n",
       "      <td>OH</td>\n",
       "      <td>408</td>\n",
       "      <td>yes</td>\n",
       "      <td>no</td>\n",
       "      <td>0</td>\n",
       "      <td>299.4</td>\n",
       "      <td>71</td>\n",
       "      <td>50.90</td>\n",
       "      <td>61.9</td>\n",
       "      <td>88</td>\n",
       "      <td>5.26</td>\n",
       "      <td>196.9</td>\n",
       "      <td>89</td>\n",
       "      <td>8.86</td>\n",
       "      <td>6.6</td>\n",
       "      <td>7</td>\n",
       "      <td>1.78</td>\n",
       "      <td>2</td>\n",
       "      <td>False.</td>\n",
       "    </tr>\n",
       "    <tr>\n",
       "      <th>4</th>\n",
       "      <td>OK</td>\n",
       "      <td>415</td>\n",
       "      <td>yes</td>\n",
       "      <td>no</td>\n",
       "      <td>0</td>\n",
       "      <td>166.7</td>\n",
       "      <td>113</td>\n",
       "      <td>28.34</td>\n",
       "      <td>148.3</td>\n",
       "      <td>122</td>\n",
       "      <td>12.61</td>\n",
       "      <td>186.9</td>\n",
       "      <td>121</td>\n",
       "      <td>8.41</td>\n",
       "      <td>10.1</td>\n",
       "      <td>3</td>\n",
       "      <td>2.73</td>\n",
       "      <td>3</td>\n",
       "      <td>False.</td>\n",
       "    </tr>\n",
       "  </tbody>\n",
       "</table>\n",
       "</div>"
      ],
      "text/plain": [
       "  state  area_code international_plan vmail_plan  vmail_message  day_mins  \\\n",
       "0    KS        415                 no        yes             25     265.1   \n",
       "1    OH        415                 no        yes             26     161.6   \n",
       "2    NJ        415                 no         no              0     243.4   \n",
       "3    OH        408                yes         no              0     299.4   \n",
       "4    OK        415                yes         no              0     166.7   \n",
       "\n",
       "   day_calls  day_charge  eve_mins  eve_calls  eve_charge  night_mins  \\\n",
       "0        110       45.07     197.4         99       16.78       244.7   \n",
       "1        123       27.47     195.5        103       16.62       254.4   \n",
       "2        114       41.38     121.2        110       10.30       162.6   \n",
       "3         71       50.90      61.9         88        5.26       196.9   \n",
       "4        113       28.34     148.3        122       12.61       186.9   \n",
       "\n",
       "   night_calls  night_charge  inter_min  inter_calls  inter_charge  \\\n",
       "0           91         11.01       10.0            3          2.70   \n",
       "1          103         11.45       13.7            3          3.70   \n",
       "2          104          7.32       12.2            5          3.29   \n",
       "3           89          8.86        6.6            7          1.78   \n",
       "4          121          8.41       10.1            3          2.73   \n",
       "\n",
       "   custservice_calls   churns  \n",
       "0                  1   False.  \n",
       "1                  1   False.  \n",
       "2                  0   False.  \n",
       "3                  2   False.  \n",
       "4                  3   False.  "
      ]
     },
     "execution_count": 32,
     "metadata": {},
     "output_type": "execute_result"
    }
   ],
   "source": [
    "df.head()"
   ]
  },
  {
   "cell_type": "code",
   "execution_count": 33,
   "metadata": {},
   "outputs": [],
   "source": [
    "con_var = ['vmail_message','day_mins','day_calls','day_charge','eve_mins','eve_calls','eve_charge','night_mins',\n",
    "           'night_calls','night_charge','inter_min','inter_calls','inter_charge','custservice_calls']\n",
    "cat_var = ['state','area_code','international_plan','vmail_plan']"
   ]
  },
  {
   "cell_type": "code",
   "execution_count": 34,
   "metadata": {},
   "outputs": [],
   "source": [
    "from sklearn.preprocessing import LabelEncoder\n",
    "enc = LabelEncoder()"
   ]
  },
  {
   "cell_type": "code",
   "execution_count": 35,
   "metadata": {},
   "outputs": [],
   "source": [
    "df[con_var] = df[con_var]\n",
    "for cat_var in df:\n",
    "    df[cat_var]=enc.fit_transform(df[cat_var])"
   ]
  },
  {
   "cell_type": "code",
   "execution_count": 36,
   "metadata": {},
   "outputs": [
    {
     "data": {
      "text/plain": [
       "<matplotlib.axes._subplots.AxesSubplot at 0xaba542ed48>"
      ]
     },
     "execution_count": 36,
     "metadata": {},
     "output_type": "execute_result"
    },
    {
     "data": {
      "image/png": "[encoded data removed]",
      "text/plain": [
       "<Figure size 1440x720 with 1 Axes>"
      ]
     },
     "metadata": {},
     "output_type": "display_data"
    }
   ],
   "source": [
    "rcParams['figure.figsize']=20,10\n",
    "df[con_var].boxplot()"
   ]
  },
  {
   "cell_type": "code",
   "execution_count": 37,
   "metadata": {},
   "outputs": [],
   "source": [
    "from sklearn.preprocessing import StandardScaler\n",
    "scaler = StandardScaler()"
   ]
  },
  {
   "cell_type": "code",
   "execution_count": 38,
   "metadata": {},
   "outputs": [
    {
     "data": {
      "text/plain": [
       "<matplotlib.axes._subplots.AxesSubplot at 0xaba47e2688>"
      ]
     },
     "execution_count": 38,
     "metadata": {},
     "output_type": "execute_result"
    },
    {
     "data": {
      "image/png": "[encoded data removed]",
      "text/plain": [
       "<Figure size 1440x720 with 1 Axes>"
      ]
     },
     "metadata": {},
     "output_type": "display_data"
    }
   ],
   "source": [
    "df[con_var] = scaler.fit_transform(df[con_var])\n",
    "df[con_var].boxplot()"
   ]
  },
  {
   "cell_type": "code",
   "execution_count": 39,
   "metadata": {
    "scrolled": true
   },
   "outputs": [
    {
     "data": {
      "text/html": [
       "<div>\n",
       "<style scoped>\n",
       "    .dataframe tbody tr th:only-of-type {\n",
       "        vertical-align: middle;\n",
       "    }\n",
       "\n",
       "    .dataframe tbody tr th {\n",
       "        vertical-align: top;\n",
       "    }\n",
       "\n",
       "    .dataframe thead th {\n",
       "        text-align: right;\n",
       "    }\n",
       "</style>\n",
       "<table border=\"1\" class=\"dataframe\">\n",
       "  <thead>\n",
       "    <tr style=\"text-align: right;\">\n",
       "      <th></th>\n",
       "      <th>vmail_message</th>\n",
       "      <th>day_mins</th>\n",
       "      <th>day_calls</th>\n",
       "      <th>day_charge</th>\n",
       "      <th>eve_mins</th>\n",
       "      <th>eve_calls</th>\n",
       "      <th>eve_charge</th>\n",
       "      <th>night_mins</th>\n",
       "      <th>night_calls</th>\n",
       "      <th>night_charge</th>\n",
       "      <th>inter_min</th>\n",
       "      <th>inter_calls</th>\n",
       "      <th>inter_charge</th>\n",
       "      <th>custservice_calls</th>\n",
       "    </tr>\n",
       "  </thead>\n",
       "  <tbody>\n",
       "    <tr>\n",
       "      <th>0</th>\n",
       "      <td>1.173434</td>\n",
       "      <td>1.613988</td>\n",
       "      <td>0.502486</td>\n",
       "      <td>1.613988</td>\n",
       "      <td>-0.070533</td>\n",
       "      <td>-0.060247</td>\n",
       "      <td>-0.071780</td>\n",
       "      <td>0.964068</td>\n",
       "      <td>-0.450484</td>\n",
       "      <td>0.914701</td>\n",
       "      <td>-0.106585</td>\n",
       "      <td>-0.583487</td>\n",
       "      <td>-0.106585</td>\n",
       "      <td>-0.433885</td>\n",
       "    </tr>\n",
       "    <tr>\n",
       "      <th>1</th>\n",
       "      <td>1.260434</td>\n",
       "      <td>-0.383462</td>\n",
       "      <td>1.160062</td>\n",
       "      <td>-0.383462</td>\n",
       "      <td>-0.113905</td>\n",
       "      <td>0.142420</td>\n",
       "      <td>-0.113995</td>\n",
       "      <td>1.167884</td>\n",
       "      <td>0.153329</td>\n",
       "      <td>1.118138</td>\n",
       "      <td>1.257599</td>\n",
       "      <td>-0.583487</td>\n",
       "      <td>1.257599</td>\n",
       "      <td>-0.433885</td>\n",
       "    </tr>\n",
       "    <tr>\n",
       "      <th>2</th>\n",
       "      <td>-0.566564</td>\n",
       "      <td>1.266130</td>\n",
       "      <td>0.704817</td>\n",
       "      <td>1.266130</td>\n",
       "      <td>-1.606838</td>\n",
       "      <td>0.497086</td>\n",
       "      <td>-1.609985</td>\n",
       "      <td>-0.842793</td>\n",
       "      <td>0.203647</td>\n",
       "      <td>-0.791398</td>\n",
       "      <td>0.704551</td>\n",
       "      <td>0.230398</td>\n",
       "      <td>0.704551</td>\n",
       "      <td>-1.199068</td>\n",
       "    </tr>\n",
       "    <tr>\n",
       "      <th>3</th>\n",
       "      <td>-0.566564</td>\n",
       "      <td>1.970598</td>\n",
       "      <td>-1.470241</td>\n",
       "      <td>1.970598</td>\n",
       "      <td>-2.031433</td>\n",
       "      <td>-0.617580</td>\n",
       "      <td>-2.071711</td>\n",
       "      <td>-0.077911</td>\n",
       "      <td>-0.551119</td>\n",
       "      <td>-0.079368</td>\n",
       "      <td>-1.360158</td>\n",
       "      <td>1.044284</td>\n",
       "      <td>-1.360158</td>\n",
       "      <td>0.331298</td>\n",
       "    </tr>\n",
       "    <tr>\n",
       "      <th>4</th>\n",
       "      <td>-0.566564</td>\n",
       "      <td>-0.282824</td>\n",
       "      <td>0.654234</td>\n",
       "      <td>-0.282824</td>\n",
       "      <td>-1.132021</td>\n",
       "      <td>1.105085</td>\n",
       "      <td>-1.124514</td>\n",
       "      <td>-0.304628</td>\n",
       "      <td>1.059048</td>\n",
       "      <td>-0.287429</td>\n",
       "      <td>-0.069715</td>\n",
       "      <td>-0.583487</td>\n",
       "      <td>-0.069715</td>\n",
       "      <td>1.096480</td>\n",
       "    </tr>\n",
       "  </tbody>\n",
       "</table>\n",
       "</div>"
      ],
      "text/plain": [
       "   vmail_message  day_mins  day_calls  day_charge  eve_mins  eve_calls  \\\n",
       "0       1.173434  1.613988   0.502486    1.613988 -0.070533  -0.060247   \n",
       "1       1.260434 -0.383462   1.160062   -0.383462 -0.113905   0.142420   \n",
       "2      -0.566564  1.266130   0.704817    1.266130 -1.606838   0.497086   \n",
       "3      -0.566564  1.970598  -1.470241    1.970598 -2.031433  -0.617580   \n",
       "4      -0.566564 -0.282824   0.654234   -0.282824 -1.132021   1.105085   \n",
       "\n",
       "   eve_charge  night_mins  night_calls  night_charge  inter_min  inter_calls  \\\n",
       "0   -0.071780    0.964068    -0.450484      0.914701  -0.106585    -0.583487   \n",
       "1   -0.113995    1.167884     0.153329      1.118138   1.257599    -0.583487   \n",
       "2   -1.609985   -0.842793     0.203647     -0.791398   0.704551     0.230398   \n",
       "3   -2.071711   -0.077911    -0.551119     -0.079368  -1.360158     1.044284   \n",
       "4   -1.124514   -0.304628     1.059048     -0.287429  -0.069715    -0.583487   \n",
       "\n",
       "   inter_charge  custservice_calls  \n",
       "0     -0.106585          -0.433885  \n",
       "1      1.257599          -0.433885  \n",
       "2      0.704551          -1.199068  \n",
       "3     -1.360158           0.331298  \n",
       "4     -0.069715           1.096480  "
      ]
     },
     "execution_count": 39,
     "metadata": {},
     "output_type": "execute_result"
    }
   ],
   "source": [
    "df[con_var].head()"
   ]
  },
  {
   "cell_type": "code",
   "execution_count": 40,
   "metadata": {},
   "outputs": [
    {
     "data": {
      "text/html": [
       "<div>\n",
       "<style scoped>\n",
       "    .dataframe tbody tr th:only-of-type {\n",
       "        vertical-align: middle;\n",
       "    }\n",
       "\n",
       "    .dataframe tbody tr th {\n",
       "        vertical-align: top;\n",
       "    }\n",
       "\n",
       "    .dataframe thead th {\n",
       "        text-align: right;\n",
       "    }\n",
       "</style>\n",
       "<table border=\"1\" class=\"dataframe\">\n",
       "  <thead>\n",
       "    <tr style=\"text-align: right;\">\n",
       "      <th></th>\n",
       "      <th>state</th>\n",
       "      <th>area_code</th>\n",
       "      <th>international_plan</th>\n",
       "      <th>vmail_plan</th>\n",
       "      <th>vmail_message</th>\n",
       "      <th>day_mins</th>\n",
       "      <th>day_calls</th>\n",
       "      <th>day_charge</th>\n",
       "      <th>eve_mins</th>\n",
       "      <th>eve_calls</th>\n",
       "      <th>eve_charge</th>\n",
       "      <th>night_mins</th>\n",
       "      <th>night_calls</th>\n",
       "      <th>night_charge</th>\n",
       "      <th>inter_min</th>\n",
       "      <th>inter_calls</th>\n",
       "      <th>inter_charge</th>\n",
       "      <th>custservice_calls</th>\n",
       "      <th>churns</th>\n",
       "    </tr>\n",
       "  </thead>\n",
       "  <tbody>\n",
       "    <tr>\n",
       "      <th>0</th>\n",
       "      <td>16</td>\n",
       "      <td>1</td>\n",
       "      <td>0</td>\n",
       "      <td>1</td>\n",
       "      <td>1.173434</td>\n",
       "      <td>1.613988</td>\n",
       "      <td>0.502486</td>\n",
       "      <td>1.613988</td>\n",
       "      <td>-0.070533</td>\n",
       "      <td>-0.060247</td>\n",
       "      <td>-0.071780</td>\n",
       "      <td>0.964068</td>\n",
       "      <td>-0.450484</td>\n",
       "      <td>0.914701</td>\n",
       "      <td>-0.106585</td>\n",
       "      <td>-0.583487</td>\n",
       "      <td>-0.106585</td>\n",
       "      <td>-0.433885</td>\n",
       "      <td>0</td>\n",
       "    </tr>\n",
       "    <tr>\n",
       "      <th>1</th>\n",
       "      <td>35</td>\n",
       "      <td>1</td>\n",
       "      <td>0</td>\n",
       "      <td>1</td>\n",
       "      <td>1.260434</td>\n",
       "      <td>-0.383462</td>\n",
       "      <td>1.160062</td>\n",
       "      <td>-0.383462</td>\n",
       "      <td>-0.113905</td>\n",
       "      <td>0.142420</td>\n",
       "      <td>-0.113995</td>\n",
       "      <td>1.167884</td>\n",
       "      <td>0.153329</td>\n",
       "      <td>1.118138</td>\n",
       "      <td>1.257599</td>\n",
       "      <td>-0.583487</td>\n",
       "      <td>1.257599</td>\n",
       "      <td>-0.433885</td>\n",
       "      <td>0</td>\n",
       "    </tr>\n",
       "    <tr>\n",
       "      <th>2</th>\n",
       "      <td>31</td>\n",
       "      <td>1</td>\n",
       "      <td>0</td>\n",
       "      <td>0</td>\n",
       "      <td>-0.566564</td>\n",
       "      <td>1.266130</td>\n",
       "      <td>0.704817</td>\n",
       "      <td>1.266130</td>\n",
       "      <td>-1.606838</td>\n",
       "      <td>0.497086</td>\n",
       "      <td>-1.609985</td>\n",
       "      <td>-0.842793</td>\n",
       "      <td>0.203647</td>\n",
       "      <td>-0.791398</td>\n",
       "      <td>0.704551</td>\n",
       "      <td>0.230398</td>\n",
       "      <td>0.704551</td>\n",
       "      <td>-1.199068</td>\n",
       "      <td>0</td>\n",
       "    </tr>\n",
       "    <tr>\n",
       "      <th>3</th>\n",
       "      <td>35</td>\n",
       "      <td>0</td>\n",
       "      <td>1</td>\n",
       "      <td>0</td>\n",
       "      <td>-0.566564</td>\n",
       "      <td>1.970598</td>\n",
       "      <td>-1.470241</td>\n",
       "      <td>1.970598</td>\n",
       "      <td>-2.031433</td>\n",
       "      <td>-0.617580</td>\n",
       "      <td>-2.071711</td>\n",
       "      <td>-0.077911</td>\n",
       "      <td>-0.551119</td>\n",
       "      <td>-0.079368</td>\n",
       "      <td>-1.360158</td>\n",
       "      <td>1.044284</td>\n",
       "      <td>-1.360158</td>\n",
       "      <td>0.331298</td>\n",
       "      <td>0</td>\n",
       "    </tr>\n",
       "    <tr>\n",
       "      <th>4</th>\n",
       "      <td>36</td>\n",
       "      <td>1</td>\n",
       "      <td>1</td>\n",
       "      <td>0</td>\n",
       "      <td>-0.566564</td>\n",
       "      <td>-0.282824</td>\n",
       "      <td>0.654234</td>\n",
       "      <td>-0.282824</td>\n",
       "      <td>-1.132021</td>\n",
       "      <td>1.105085</td>\n",
       "      <td>-1.124514</td>\n",
       "      <td>-0.304628</td>\n",
       "      <td>1.059048</td>\n",
       "      <td>-0.287429</td>\n",
       "      <td>-0.069715</td>\n",
       "      <td>-0.583487</td>\n",
       "      <td>-0.069715</td>\n",
       "      <td>1.096480</td>\n",
       "      <td>0</td>\n",
       "    </tr>\n",
       "  </tbody>\n",
       "</table>\n",
       "</div>"
      ],
      "text/plain": [
       "   state  area_code  international_plan  vmail_plan  vmail_message  day_mins  \\\n",
       "0     16          1                   0           1       1.173434  1.613988   \n",
       "1     35          1                   0           1       1.260434 -0.383462   \n",
       "2     31          1                   0           0      -0.566564  1.266130   \n",
       "3     35          0                   1           0      -0.566564  1.970598   \n",
       "4     36          1                   1           0      -0.566564 -0.282824   \n",
       "\n",
       "   day_calls  day_charge  eve_mins  eve_calls  eve_charge  night_mins  \\\n",
       "0   0.502486    1.613988 -0.070533  -0.060247   -0.071780    0.964068   \n",
       "1   1.160062   -0.383462 -0.113905   0.142420   -0.113995    1.167884   \n",
       "2   0.704817    1.266130 -1.606838   0.497086   -1.609985   -0.842793   \n",
       "3  -1.470241    1.970598 -2.031433  -0.617580   -2.071711   -0.077911   \n",
       "4   0.654234   -0.282824 -1.132021   1.105085   -1.124514   -0.304628   \n",
       "\n",
       "   night_calls  night_charge  inter_min  inter_calls  inter_charge  \\\n",
       "0    -0.450484      0.914701  -0.106585    -0.583487     -0.106585   \n",
       "1     0.153329      1.118138   1.257599    -0.583487      1.257599   \n",
       "2     0.203647     -0.791398   0.704551     0.230398      0.704551   \n",
       "3    -0.551119     -0.079368  -1.360158     1.044284     -1.360158   \n",
       "4     1.059048     -0.287429  -0.069715    -0.583487     -0.069715   \n",
       "\n",
       "   custservice_calls  churns  \n",
       "0          -0.433885       0  \n",
       "1          -0.433885       0  \n",
       "2          -1.199068       0  \n",
       "3           0.331298       0  \n",
       "4           1.096480       0  "
      ]
     },
     "execution_count": 40,
     "metadata": {},
     "output_type": "execute_result"
    }
   ],
   "source": [
    "df.head()"
   ]
  },
  {
   "cell_type": "code",
   "execution_count": 41,
   "metadata": {},
   "outputs": [
    {
     "name": "stdout",
     "output_type": "stream",
     "text": [
      "state p: 0.0003716382614441669\n",
      "area_code p: 0.672816318136138\n",
      "international_plan p: 5.1469217589105615e-68\n",
      "vmail_plan p: 1.0310215433169948e-13\n",
      "vmail_message p: 0.0006688694462750693\n",
      "day_mins p: 3.8449411383977337e-16\n",
      "day_calls p: 0.09766117563933419\n",
      "day_charge p: 3.8449411383977337e-16\n",
      "eve_mins p: 0.03521412476182637\n",
      "eve_calls p: 0.7722300039042607\n",
      "eve_charge p: 0.009682244929138746\n",
      "night_mins p: 0.9215397993138239\n",
      "night_calls p: 0.7572364334338466\n",
      "night_charge p: 0.6874787173150513\n",
      "inter_min p: 0.00046439156252502844\n",
      "inter_calls p: 2.1807473661962473e-05\n",
      "inter_charge p: 0.00046439156252502844\n",
      "custservice_calls p: 1.1865150956557101e-94\n",
      "churns p: 0.0\n"
     ]
    }
   ],
   "source": [
    "for cat_var in df:\n",
    "    chi2,p,dof,expected = scipy.stats.chi2_contingency(pd.crosstab(df[cat_var],df.churns))\n",
    "    print(cat_var,'p:',p)"
   ]
  },
  {
   "cell_type": "code",
   "execution_count": 42,
   "metadata": {},
   "outputs": [
    {
     "data": {
      "text/html": [
       "<div>\n",
       "<style scoped>\n",
       "    .dataframe tbody tr th:only-of-type {\n",
       "        vertical-align: middle;\n",
       "    }\n",
       "\n",
       "    .dataframe tbody tr th {\n",
       "        vertical-align: top;\n",
       "    }\n",
       "\n",
       "    .dataframe thead th {\n",
       "        text-align: right;\n",
       "    }\n",
       "</style>\n",
       "<table border=\"1\" class=\"dataframe\">\n",
       "  <thead>\n",
       "    <tr style=\"text-align: right;\">\n",
       "      <th></th>\n",
       "      <th>state</th>\n",
       "      <th>international_plan</th>\n",
       "      <th>vmail_plan</th>\n",
       "      <th>vmail_message</th>\n",
       "      <th>day_mins</th>\n",
       "      <th>day_calls</th>\n",
       "      <th>day_charge</th>\n",
       "      <th>eve_mins</th>\n",
       "      <th>eve_charge</th>\n",
       "      <th>inter_min</th>\n",
       "      <th>inter_calls</th>\n",
       "      <th>inter_charge</th>\n",
       "      <th>custservice_calls</th>\n",
       "      <th>churns</th>\n",
       "    </tr>\n",
       "  </thead>\n",
       "  <tbody>\n",
       "    <tr>\n",
       "      <th>0</th>\n",
       "      <td>16</td>\n",
       "      <td>0</td>\n",
       "      <td>1</td>\n",
       "      <td>1.173434</td>\n",
       "      <td>1.613988</td>\n",
       "      <td>0.502486</td>\n",
       "      <td>1.613988</td>\n",
       "      <td>-0.070533</td>\n",
       "      <td>-0.071780</td>\n",
       "      <td>-0.106585</td>\n",
       "      <td>-0.583487</td>\n",
       "      <td>-0.106585</td>\n",
       "      <td>-0.433885</td>\n",
       "      <td>0</td>\n",
       "    </tr>\n",
       "    <tr>\n",
       "      <th>1</th>\n",
       "      <td>35</td>\n",
       "      <td>0</td>\n",
       "      <td>1</td>\n",
       "      <td>1.260434</td>\n",
       "      <td>-0.383462</td>\n",
       "      <td>1.160062</td>\n",
       "      <td>-0.383462</td>\n",
       "      <td>-0.113905</td>\n",
       "      <td>-0.113995</td>\n",
       "      <td>1.257599</td>\n",
       "      <td>-0.583487</td>\n",
       "      <td>1.257599</td>\n",
       "      <td>-0.433885</td>\n",
       "      <td>0</td>\n",
       "    </tr>\n",
       "    <tr>\n",
       "      <th>2</th>\n",
       "      <td>31</td>\n",
       "      <td>0</td>\n",
       "      <td>0</td>\n",
       "      <td>-0.566564</td>\n",
       "      <td>1.266130</td>\n",
       "      <td>0.704817</td>\n",
       "      <td>1.266130</td>\n",
       "      <td>-1.606838</td>\n",
       "      <td>-1.609985</td>\n",
       "      <td>0.704551</td>\n",
       "      <td>0.230398</td>\n",
       "      <td>0.704551</td>\n",
       "      <td>-1.199068</td>\n",
       "      <td>0</td>\n",
       "    </tr>\n",
       "    <tr>\n",
       "      <th>3</th>\n",
       "      <td>35</td>\n",
       "      <td>1</td>\n",
       "      <td>0</td>\n",
       "      <td>-0.566564</td>\n",
       "      <td>1.970598</td>\n",
       "      <td>-1.470241</td>\n",
       "      <td>1.970598</td>\n",
       "      <td>-2.031433</td>\n",
       "      <td>-2.071711</td>\n",
       "      <td>-1.360158</td>\n",
       "      <td>1.044284</td>\n",
       "      <td>-1.360158</td>\n",
       "      <td>0.331298</td>\n",
       "      <td>0</td>\n",
       "    </tr>\n",
       "    <tr>\n",
       "      <th>4</th>\n",
       "      <td>36</td>\n",
       "      <td>1</td>\n",
       "      <td>0</td>\n",
       "      <td>-0.566564</td>\n",
       "      <td>-0.282824</td>\n",
       "      <td>0.654234</td>\n",
       "      <td>-0.282824</td>\n",
       "      <td>-1.132021</td>\n",
       "      <td>-1.124514</td>\n",
       "      <td>-0.069715</td>\n",
       "      <td>-0.583487</td>\n",
       "      <td>-0.069715</td>\n",
       "      <td>1.096480</td>\n",
       "      <td>0</td>\n",
       "    </tr>\n",
       "  </tbody>\n",
       "</table>\n",
       "</div>"
      ],
      "text/plain": [
       "   state  international_plan  vmail_plan  vmail_message  day_mins  day_calls  \\\n",
       "0     16                   0           1       1.173434  1.613988   0.502486   \n",
       "1     35                   0           1       1.260434 -0.383462   1.160062   \n",
       "2     31                   0           0      -0.566564  1.266130   0.704817   \n",
       "3     35                   1           0      -0.566564  1.970598  -1.470241   \n",
       "4     36                   1           0      -0.566564 -0.282824   0.654234   \n",
       "\n",
       "   day_charge  eve_mins  eve_charge  inter_min  inter_calls  inter_charge  \\\n",
       "0    1.613988 -0.070533   -0.071780  -0.106585    -0.583487     -0.106585   \n",
       "1   -0.383462 -0.113905   -0.113995   1.257599    -0.583487      1.257599   \n",
       "2    1.266130 -1.606838   -1.609985   0.704551     0.230398      0.704551   \n",
       "3    1.970598 -2.031433   -2.071711  -1.360158     1.044284     -1.360158   \n",
       "4   -0.282824 -1.132021   -1.124514  -0.069715    -0.583487     -0.069715   \n",
       "\n",
       "   custservice_calls  churns  \n",
       "0          -0.433885       0  \n",
       "1          -0.433885       0  \n",
       "2          -1.199068       0  \n",
       "3           0.331298       0  \n",
       "4           1.096480       0  "
      ]
     },
     "execution_count": 42,
     "metadata": {},
     "output_type": "execute_result"
    }
   ],
   "source": [
    "final_cols = ['state','international_plan','vmail_plan','vmail_message','day_mins','day_calls','day_charge','eve_mins',\n",
    "              'eve_charge','inter_min','inter_calls','inter_charge','custservice_calls','churns']\n",
    "df_final = df[final_cols]\n",
    "df_final.head()"
   ]
  },
  {
   "cell_type": "code",
   "execution_count": 43,
   "metadata": {},
   "outputs": [],
   "source": [
    "X = df_final.iloc[:,:-1]\n",
    "y = df_final.churns"
   ]
  },
  {
   "cell_type": "code",
   "execution_count": 44,
   "metadata": {
    "scrolled": true
   },
   "outputs": [
    {
     "data": {
      "text/html": [
       "<div>\n",
       "<style scoped>\n",
       "    .dataframe tbody tr th:only-of-type {\n",
       "        vertical-align: middle;\n",
       "    }\n",
       "\n",
       "    .dataframe tbody tr th {\n",
       "        vertical-align: top;\n",
       "    }\n",
       "\n",
       "    .dataframe thead th {\n",
       "        text-align: right;\n",
       "    }\n",
       "</style>\n",
       "<table border=\"1\" class=\"dataframe\">\n",
       "  <thead>\n",
       "    <tr style=\"text-align: right;\">\n",
       "      <th></th>\n",
       "      <th>state</th>\n",
       "      <th>international_plan</th>\n",
       "      <th>vmail_plan</th>\n",
       "      <th>vmail_message</th>\n",
       "      <th>day_mins</th>\n",
       "      <th>day_calls</th>\n",
       "      <th>day_charge</th>\n",
       "      <th>eve_mins</th>\n",
       "      <th>eve_charge</th>\n",
       "      <th>inter_min</th>\n",
       "      <th>inter_calls</th>\n",
       "      <th>inter_charge</th>\n",
       "      <th>custservice_calls</th>\n",
       "    </tr>\n",
       "  </thead>\n",
       "  <tbody>\n",
       "    <tr>\n",
       "      <th>0</th>\n",
       "      <td>16</td>\n",
       "      <td>0</td>\n",
       "      <td>1</td>\n",
       "      <td>1.173434</td>\n",
       "      <td>1.613988</td>\n",
       "      <td>0.502486</td>\n",
       "      <td>1.613988</td>\n",
       "      <td>-0.070533</td>\n",
       "      <td>-0.071780</td>\n",
       "      <td>-0.106585</td>\n",
       "      <td>-0.583487</td>\n",
       "      <td>-0.106585</td>\n",
       "      <td>-0.433885</td>\n",
       "    </tr>\n",
       "    <tr>\n",
       "      <th>1</th>\n",
       "      <td>35</td>\n",
       "      <td>0</td>\n",
       "      <td>1</td>\n",
       "      <td>1.260434</td>\n",
       "      <td>-0.383462</td>\n",
       "      <td>1.160062</td>\n",
       "      <td>-0.383462</td>\n",
       "      <td>-0.113905</td>\n",
       "      <td>-0.113995</td>\n",
       "      <td>1.257599</td>\n",
       "      <td>-0.583487</td>\n",
       "      <td>1.257599</td>\n",
       "      <td>-0.433885</td>\n",
       "    </tr>\n",
       "  </tbody>\n",
       "</table>\n",
       "</div>"
      ],
      "text/plain": [
       "   state  international_plan  vmail_plan  vmail_message  day_mins  day_calls  \\\n",
       "0     16                   0           1       1.173434  1.613988   0.502486   \n",
       "1     35                   0           1       1.260434 -0.383462   1.160062   \n",
       "\n",
       "   day_charge  eve_mins  eve_charge  inter_min  inter_calls  inter_charge  \\\n",
       "0    1.613988 -0.070533   -0.071780  -0.106585    -0.583487     -0.106585   \n",
       "1   -0.383462 -0.113905   -0.113995   1.257599    -0.583487      1.257599   \n",
       "\n",
       "   custservice_calls  \n",
       "0          -0.433885  \n",
       "1          -0.433885  "
      ]
     },
     "execution_count": 44,
     "metadata": {},
     "output_type": "execute_result"
    }
   ],
   "source": [
    "X.head(2)"
   ]
  },
  {
   "cell_type": "code",
   "execution_count": 45,
   "metadata": {
    "scrolled": true
   },
   "outputs": [
    {
     "data": {
      "text/plain": [
       "0    0\n",
       "1    0\n",
       "Name: churns, dtype: int32"
      ]
     },
     "execution_count": 45,
     "metadata": {},
     "output_type": "execute_result"
    }
   ],
   "source": [
    "y.head(2)"
   ]
  },
  {
   "cell_type": "code",
   "execution_count": 46,
   "metadata": {},
   "outputs": [],
   "source": [
    "from sklearn.linear_model import LogisticRegression\n",
    "from sklearn.svm import SVC\n",
    "from sklearn.tree import DecisionTreeClassifier\n",
    "from sklearn.ensemble import RandomForestClassifier,GradientBoostingClassifier\n",
    "from sklearn.naive_bayes import GaussianNB,MultinomialNB\n",
    "from sklearn.neighbors import KNeighborsClassifier\n",
    "from sklearn.neural_network import MLPClassifier\n",
    "from xgboost import XGBClassifier"
   ]
  },
  {
   "cell_type": "code",
   "execution_count": 47,
   "metadata": {},
   "outputs": [],
   "source": [
    "from sklearn import model_selection\n",
    "from sklearn.model_selection import train_test_split,cross_val_score,validation_curve,KFold "
   ]
  },
  {
   "cell_type": "code",
   "execution_count": 48,
   "metadata": {},
   "outputs": [],
   "source": [
    "X1 = X\n",
    "y1 = y"
   ]
  },
  {
   "cell_type": "code",
   "execution_count": 49,
   "metadata": {},
   "outputs": [],
   "source": [
    "split_seed = 10"
   ]
  },
  {
   "cell_type": "code",
   "execution_count": 50,
   "metadata": {},
   "outputs": [],
   "source": [
    "X1_train,X1_test,y1_train,y1_test = train_test_split(X1,y1,random_state=split_seed,test_size=0.3)"
   ]
  },
  {
   "cell_type": "code",
   "execution_count": 51,
   "metadata": {},
   "outputs": [],
   "source": [
    "models = []\n",
    "models.append(('LG', LogisticRegression()))\n",
    "models.append(('SVC', SVC()))\n",
    "models.append(('DTC', DecisionTreeClassifier()))\n",
    "models.append(('RFC', RandomForestClassifier()))\n",
    "models.append(('KNC', KNeighborsClassifier()))\n",
    "models.append(('MLP', MLPClassifier()))\n",
    "models.append(('XGB-TREE', XGBClassifier(booster='gbtree')))\n",
    "models.append(('XGB-DART', XGBClassifier(booster='dart')))\n",
    "models.append(('GNB', GaussianNB()))"
   ]
  },
  {
   "cell_type": "code",
   "execution_count": 52,
   "metadata": {},
   "outputs": [
    {
     "name": "stdout",
     "output_type": "stream",
     "text": [
      "[('LG', 0.8610289930663553), ('SVC', 0.8545250525167359), ('DTC', 0.9062244893076405), ('RFC', 0.9489307640407502), ('KNC', 0.8669075179083267), ('MLP', 0.9124092620860269), ('XGB-TREE', 0.9439757681320311), ('XGB-DART', 0.9439757681320311), ('GNB', 0.8570042252644978)]\n"
     ]
    }
   ],
   "source": [
    "seed = 10\n",
    "results = []\n",
    "names = []\n",
    "output = []\n",
    "score = 'accuracy'\n",
    "for name,model in models:\n",
    "    kfold = model_selection.KFold(n_splits=5,random_state=seed)\n",
    "    result = model_selection.cross_val_score(model,np.array(X1_train),np.array(y1_train),cv=kfold,scoring=score)\n",
    "    results.append(result)\n",
    "    names.append(name)\n",
    "    value = name,result.mean()\n",
    "    output.append(value)\n",
    "print(output)"
   ]
  },
  {
   "cell_type": "code",
   "execution_count": 53,
   "metadata": {
    "scrolled": true
   },
   "outputs": [
    {
     "data": {
      "image/png": "[encoded data removed]",
      "text/plain": [
       "<Figure size 720x360 with 1 Axes>"
      ]
     },
     "metadata": {},
     "output_type": "display_data"
    }
   ],
   "source": [
    "rcParams['figure.figsize'] = 10,5\n",
    "fig = plt.figure()\n",
    "ax = fig.add_subplot(111)\n",
    "plt.boxplot(results)\n",
    "ax.set_xticklabels(names)\n",
    "plt.show()"
   ]
  },
  {
   "cell_type": "code",
   "execution_count": 54,
   "metadata": {},
   "outputs": [],
   "source": [
    "from sklearn.model_selection import train_test_split\n",
    "split_seed = 10\n",
    "X1_train,X1_test,y1_train,y1_test = train_test_split(X1,y1,random_state=split_seed,test_size=0.3)"
   ]
  },
  {
   "cell_type": "code",
   "execution_count": 57,
   "metadata": {},
   "outputs": [
    {
     "data": {
      "text/plain": [
       "RandomForestClassifier(bootstrap=True, ccp_alpha=0.0, class_weight=None,\n",
       "                       criterion='gini', max_depth=None, max_features='auto',\n",
       "                       max_leaf_nodes=None, max_samples=None,\n",
       "                       min_impurity_decrease=0.0, min_impurity_split=None,\n",
       "                       min_samples_leaf=1, min_samples_split=2,\n",
       "                       min_weight_fraction_leaf=0.0, n_estimators=100,\n",
       "                       n_jobs=None, oob_score=False, random_state=10, verbose=0,\n",
       "                       warm_start=False)"
      ]
     },
     "execution_count": 57,
     "metadata": {},
     "output_type": "execute_result"
    }
   ],
   "source": [
    "from sklearn.ensemble import RandomForestClassifier\n",
    "model = RandomForestClassifier(random_state=10)\n",
    "model.fit(X1_train,y1_train)"
   ]
  },
  {
   "cell_type": "code",
   "execution_count": 62,
   "metadata": {},
   "outputs": [
    {
     "data": {
      "text/plain": [
       "95.45"
      ]
     },
     "execution_count": 62,
     "metadata": {},
     "output_type": "execute_result"
    }
   ],
   "source": [
    "y1_predict = model.predict(X1_test)\n",
    "accuracy_score(y1_predict,y1_test).round(4)*100"
   ]
  },
  {
   "cell_type": "code",
   "execution_count": 59,
   "metadata": {},
   "outputs": [
    {
     "data": {
      "text/html": [
       "<div>\n",
       "<style scoped>\n",
       "    .dataframe tbody tr th:only-of-type {\n",
       "        vertical-align: middle;\n",
       "    }\n",
       "\n",
       "    .dataframe tbody tr th {\n",
       "        vertical-align: top;\n",
       "    }\n",
       "\n",
       "    .dataframe thead th {\n",
       "        text-align: right;\n",
       "    }\n",
       "</style>\n",
       "<table border=\"1\" class=\"dataframe\">\n",
       "  <thead>\n",
       "    <tr style=\"text-align: right;\">\n",
       "      <th>churns</th>\n",
       "      <th>0</th>\n",
       "      <th>1</th>\n",
       "    </tr>\n",
       "    <tr>\n",
       "      <th>row_0</th>\n",
       "      <th></th>\n",
       "      <th></th>\n",
       "    </tr>\n",
       "  </thead>\n",
       "  <tbody>\n",
       "    <tr>\n",
       "      <th>0</th>\n",
       "      <td>1190</td>\n",
       "      <td>53</td>\n",
       "    </tr>\n",
       "    <tr>\n",
       "      <th>1</th>\n",
       "      <td>10</td>\n",
       "      <td>133</td>\n",
       "    </tr>\n",
       "  </tbody>\n",
       "</table>\n",
       "</div>"
      ],
      "text/plain": [
       "churns     0    1\n",
       "row_0            \n",
       "0       1190   53\n",
       "1         10  133"
      ]
     },
     "execution_count": 59,
     "metadata": {},
     "output_type": "execute_result"
    }
   ],
   "source": [
    "pd.crosstab(y1_predict,y1_test)"
   ]
  },
  {
   "cell_type": "code",
   "execution_count": 64,
   "metadata": {},
   "outputs": [
    {
     "name": "stdout",
     "output_type": "stream",
     "text": [
      "              precision    recall  f1-score   support\n",
      "\n",
      "           0       0.99      0.96      0.97      1243\n",
      "           1       0.72      0.93      0.81       143\n",
      "\n",
      "    accuracy                           0.95      1386\n",
      "   macro avg       0.85      0.94      0.89      1386\n",
      "weighted avg       0.96      0.95      0.96      1386\n",
      "\n"
     ]
    }
   ],
   "source": [
    "print(classification_report(y1_predict,y1_test))"
   ]
  },
  {
   "cell_type": "code",
   "execution_count": 65,
   "metadata": {},
   "outputs": [
    {
     "data": {
      "text/plain": [
       "(3231,)"
      ]
     },
     "execution_count": 65,
     "metadata": {},
     "output_type": "execute_result"
    }
   ],
   "source": [
    "y1_train.shape"
   ]
  },
  {
   "cell_type": "code",
   "execution_count": 66,
   "metadata": {},
   "outputs": [
    {
     "data": {
      "text/plain": [
       "array([[0],\n",
       "       [1],\n",
       "       [0],\n",
       "       ...,\n",
       "       [0],\n",
       "       [1],\n",
       "       [0]])"
      ]
     },
     "execution_count": 66,
     "metadata": {},
     "output_type": "execute_result"
    }
   ],
   "source": [
    "np.array(y1_train).reshape(3231,1)"
   ]
  },
  {
   "cell_type": "code",
   "execution_count": 67,
   "metadata": {},
   "outputs": [
    {
     "data": {
      "text/plain": [
       "(1386,)"
      ]
     },
     "execution_count": 67,
     "metadata": {},
     "output_type": "execute_result"
    }
   ],
   "source": [
    "y1_predict.shape"
   ]
  },
  {
   "cell_type": "code",
   "execution_count": 68,
   "metadata": {},
   "outputs": [
    {
     "data": {
      "text/plain": [
       "(1386, 1)"
      ]
     },
     "execution_count": 68,
     "metadata": {},
     "output_type": "execute_result"
    }
   ],
   "source": [
    "y1_predict = pd.DataFrame(y1_predict,columns=['y_predict_churn'])\n",
    "y1_predict.shape"
   ]
  },
  {
   "cell_type": "code",
   "execution_count": 69,
   "metadata": {},
   "outputs": [
    {
     "data": {
      "text/plain": [
       "array([[0.97, 0.03],\n",
       "       [0.14, 0.86],\n",
       "       [0.91, 0.09],\n",
       "       ...,\n",
       "       [0.98, 0.02],\n",
       "       [0.62, 0.38],\n",
       "       [0.72, 0.28]])"
      ]
     },
     "execution_count": 69,
     "metadata": {},
     "output_type": "execute_result"
    }
   ],
   "source": [
    "proba = model.predict_proba(X1_test)\n",
    "proba"
   ]
  },
  {
   "cell_type": "code",
   "execution_count": 70,
   "metadata": {},
   "outputs": [],
   "source": [
    "y1_test1 = np.array(y1_test).reshape(1386,1)"
   ]
  },
  {
   "cell_type": "code",
   "execution_count": 75,
   "metadata": {},
   "outputs": [
    {
     "data": {
      "text/html": [
       "<div>\n",
       "<style scoped>\n",
       "    .dataframe tbody tr th:only-of-type {\n",
       "        vertical-align: middle;\n",
       "    }\n",
       "\n",
       "    .dataframe tbody tr th {\n",
       "        vertical-align: top;\n",
       "    }\n",
       "\n",
       "    .dataframe thead th {\n",
       "        text-align: right;\n",
       "    }\n",
       "</style>\n",
       "<table border=\"1\" class=\"dataframe\">\n",
       "  <thead>\n",
       "    <tr style=\"text-align: right;\">\n",
       "      <th></th>\n",
       "      <th>y_test</th>\n",
       "      <th>y_predict</th>\n",
       "      <th>proba_0</th>\n",
       "      <th>proba_1</th>\n",
       "    </tr>\n",
       "  </thead>\n",
       "  <tbody>\n",
       "    <tr>\n",
       "      <th>4454</th>\n",
       "      <td>0.0</td>\n",
       "      <td>0.0</td>\n",
       "      <td>0.97</td>\n",
       "      <td>0.03</td>\n",
       "    </tr>\n",
       "    <tr>\n",
       "      <th>2118</th>\n",
       "      <td>1.0</td>\n",
       "      <td>1.0</td>\n",
       "      <td>0.14</td>\n",
       "      <td>0.86</td>\n",
       "    </tr>\n",
       "    <tr>\n",
       "      <th>42</th>\n",
       "      <td>0.0</td>\n",
       "      <td>0.0</td>\n",
       "      <td>0.91</td>\n",
       "      <td>0.09</td>\n",
       "    </tr>\n",
       "    <tr>\n",
       "      <th>3879</th>\n",
       "      <td>0.0</td>\n",
       "      <td>0.0</td>\n",
       "      <td>0.96</td>\n",
       "      <td>0.04</td>\n",
       "    </tr>\n",
       "    <tr>\n",
       "      <th>2727</th>\n",
       "      <td>0.0</td>\n",
       "      <td>0.0</td>\n",
       "      <td>0.57</td>\n",
       "      <td>0.43</td>\n",
       "    </tr>\n",
       "    <tr>\n",
       "      <th>...</th>\n",
       "      <td>...</td>\n",
       "      <td>...</td>\n",
       "      <td>...</td>\n",
       "      <td>...</td>\n",
       "    </tr>\n",
       "    <tr>\n",
       "      <th>1853</th>\n",
       "      <td>0.0</td>\n",
       "      <td>0.0</td>\n",
       "      <td>0.92</td>\n",
       "      <td>0.08</td>\n",
       "    </tr>\n",
       "    <tr>\n",
       "      <th>3598</th>\n",
       "      <td>0.0</td>\n",
       "      <td>0.0</td>\n",
       "      <td>0.96</td>\n",
       "      <td>0.04</td>\n",
       "    </tr>\n",
       "    <tr>\n",
       "      <th>216</th>\n",
       "      <td>0.0</td>\n",
       "      <td>0.0</td>\n",
       "      <td>0.98</td>\n",
       "      <td>0.02</td>\n",
       "    </tr>\n",
       "    <tr>\n",
       "      <th>1235</th>\n",
       "      <td>0.0</td>\n",
       "      <td>0.0</td>\n",
       "      <td>0.62</td>\n",
       "      <td>0.38</td>\n",
       "    </tr>\n",
       "    <tr>\n",
       "      <th>1882</th>\n",
       "      <td>0.0</td>\n",
       "      <td>0.0</td>\n",
       "      <td>0.72</td>\n",
       "      <td>0.28</td>\n",
       "    </tr>\n",
       "  </tbody>\n",
       "</table>\n",
       "<p>1386 rows × 4 columns</p>\n",
       "</div>"
      ],
      "text/plain": [
       "      y_test  y_predict  proba_0  proba_1\n",
       "4454     0.0        0.0     0.97     0.03\n",
       "2118     1.0        1.0     0.14     0.86\n",
       "42       0.0        0.0     0.91     0.09\n",
       "3879     0.0        0.0     0.96     0.04\n",
       "2727     0.0        0.0     0.57     0.43\n",
       "...      ...        ...      ...      ...\n",
       "1853     0.0        0.0     0.92     0.08\n",
       "3598     0.0        0.0     0.96     0.04\n",
       "216      0.0        0.0     0.98     0.02\n",
       "1235     0.0        0.0     0.62     0.38\n",
       "1882     0.0        0.0     0.72     0.28\n",
       "\n",
       "[1386 rows x 4 columns]"
      ]
     },
     "execution_count": 75,
     "metadata": {},
     "output_type": "execute_result"
    }
   ],
   "source": [
    "con_data = np.concatenate([y1_test1,np.array(y1_predict),np.array(proba)],axis=1)\n",
    "con_data = pd.DataFrame(con_data,columns=['y_test','y_predict','proba_0','proba_1'],index=X1_test.index)\n",
    "con_data"
   ]
  },
  {
   "cell_type": "markdown",
   "metadata": {},
   "source": [
    "## Churn score"
   ]
  },
  {
   "cell_type": "code",
   "execution_count": 76,
   "metadata": {},
   "outputs": [],
   "source": [
    "proba_train = model.predict_proba(X1_train)"
   ]
  },
  {
   "cell_type": "code",
   "execution_count": 77,
   "metadata": {},
   "outputs": [
    {
     "data": {
      "text/plain": [
       "(3231, 2)"
      ]
     },
     "execution_count": 77,
     "metadata": {},
     "output_type": "execute_result"
    }
   ],
   "source": [
    "proba_train.shape"
   ]
  },
  {
   "cell_type": "code",
   "execution_count": 79,
   "metadata": {},
   "outputs": [
    {
     "data": {
      "text/plain": [
       "(3231, 3)"
      ]
     },
     "execution_count": 79,
     "metadata": {},
     "output_type": "execute_result"
    }
   ],
   "source": [
    "con_data_train = pd.DataFrame(np.array(proba_train),columns=['proba_0','proba_1'],index = X1_train.index)\n",
    "con_data_train['ChurnRiskScore'] = (100 * con_data_train['proba_1']).astype(int)\n",
    "con_data_train.shape"
   ]
  },
  {
   "cell_type": "code",
   "execution_count": 83,
   "metadata": {},
   "outputs": [
    {
     "data": {
      "text/html": [
       "<div>\n",
       "<style scoped>\n",
       "    .dataframe tbody tr th:only-of-type {\n",
       "        vertical-align: middle;\n",
       "    }\n",
       "\n",
       "    .dataframe tbody tr th {\n",
       "        vertical-align: top;\n",
       "    }\n",
       "\n",
       "    .dataframe thead th {\n",
       "        text-align: right;\n",
       "    }\n",
       "</style>\n",
       "<table border=\"1\" class=\"dataframe\">\n",
       "  <thead>\n",
       "    <tr style=\"text-align: right;\">\n",
       "      <th></th>\n",
       "      <th>state</th>\n",
       "      <th>area_code</th>\n",
       "      <th>phone</th>\n",
       "      <th>churns</th>\n",
       "    </tr>\n",
       "  </thead>\n",
       "  <tbody>\n",
       "    <tr>\n",
       "      <th>0</th>\n",
       "      <td>KS</td>\n",
       "      <td>415</td>\n",
       "      <td>382-4657</td>\n",
       "      <td>False.</td>\n",
       "    </tr>\n",
       "    <tr>\n",
       "      <th>1</th>\n",
       "      <td>OH</td>\n",
       "      <td>415</td>\n",
       "      <td>371-7191</td>\n",
       "      <td>False.</td>\n",
       "    </tr>\n",
       "    <tr>\n",
       "      <th>2</th>\n",
       "      <td>NJ</td>\n",
       "      <td>415</td>\n",
       "      <td>358-1921</td>\n",
       "      <td>False.</td>\n",
       "    </tr>\n",
       "    <tr>\n",
       "      <th>3</th>\n",
       "      <td>OH</td>\n",
       "      <td>408</td>\n",
       "      <td>375-9999</td>\n",
       "      <td>False.</td>\n",
       "    </tr>\n",
       "    <tr>\n",
       "      <th>4</th>\n",
       "      <td>OK</td>\n",
       "      <td>415</td>\n",
       "      <td>330-6626</td>\n",
       "      <td>False.</td>\n",
       "    </tr>\n",
       "  </tbody>\n",
       "</table>\n",
       "</div>"
      ],
      "text/plain": [
       "  state  area_code      phone   churns\n",
       "0    KS        415   382-4657   False.\n",
       "1    OH        415   371-7191   False.\n",
       "2    NJ        415   358-1921   False.\n",
       "3    OH        408   375-9999   False.\n",
       "4    OK        415   330-6626   False."
      ]
     },
     "execution_count": 83,
     "metadata": {},
     "output_type": "execute_result"
    }
   ],
   "source": [
    "final = data[['state','area_code','phone','churns']]\n",
    "final.head()"
   ]
  },
  {
   "cell_type": "code",
   "execution_count": 86,
   "metadata": {},
   "outputs": [
    {
     "data": {
      "text/plain": [
       "(3231, 7)"
      ]
     },
     "execution_count": 86,
     "metadata": {},
     "output_type": "execute_result"
    }
   ],
   "source": [
    "final_score_train = con_data_train.merge(final,left_index=True,right_index=True)\n",
    "final_score_train.shape"
   ]
  },
  {
   "cell_type": "code",
   "execution_count": 87,
   "metadata": {},
   "outputs": [
    {
     "data": {
      "text/html": [
       "<div>\n",
       "<style scoped>\n",
       "    .dataframe tbody tr th:only-of-type {\n",
       "        vertical-align: middle;\n",
       "    }\n",
       "\n",
       "    .dataframe tbody tr th {\n",
       "        vertical-align: top;\n",
       "    }\n",
       "\n",
       "    .dataframe thead th {\n",
       "        text-align: right;\n",
       "    }\n",
       "</style>\n",
       "<table border=\"1\" class=\"dataframe\">\n",
       "  <thead>\n",
       "    <tr style=\"text-align: right;\">\n",
       "      <th></th>\n",
       "      <th>state</th>\n",
       "      <th>area_code</th>\n",
       "      <th>phone</th>\n",
       "      <th>churns</th>\n",
       "      <th>ChurnRiskScore</th>\n",
       "    </tr>\n",
       "  </thead>\n",
       "  <tbody>\n",
       "    <tr>\n",
       "      <th>4271</th>\n",
       "      <td>MO</td>\n",
       "      <td>415</td>\n",
       "      <td>370-4667</td>\n",
       "      <td>False.</td>\n",
       "      <td>8</td>\n",
       "    </tr>\n",
       "    <tr>\n",
       "      <th>3079</th>\n",
       "      <td>WV</td>\n",
       "      <td>510</td>\n",
       "      <td>421-1326</td>\n",
       "      <td>True.</td>\n",
       "      <td>93</td>\n",
       "    </tr>\n",
       "    <tr>\n",
       "      <th>1158</th>\n",
       "      <td>CA</td>\n",
       "      <td>415</td>\n",
       "      <td>330-8351</td>\n",
       "      <td>False.</td>\n",
       "      <td>3</td>\n",
       "    </tr>\n",
       "    <tr>\n",
       "      <th>4106</th>\n",
       "      <td>AK</td>\n",
       "      <td>415</td>\n",
       "      <td>336-7199</td>\n",
       "      <td>False.</td>\n",
       "      <td>2</td>\n",
       "    </tr>\n",
       "    <tr>\n",
       "      <th>1432</th>\n",
       "      <td>TN</td>\n",
       "      <td>415</td>\n",
       "      <td>374-6217</td>\n",
       "      <td>False.</td>\n",
       "      <td>1</td>\n",
       "    </tr>\n",
       "  </tbody>\n",
       "</table>\n",
       "</div>"
      ],
      "text/plain": [
       "     state  area_code      phone   churns  ChurnRiskScore\n",
       "4271    MO        415   370-4667   False.               8\n",
       "3079    WV        510   421-1326    True.              93\n",
       "1158    CA        415   330-8351   False.               3\n",
       "4106    AK        415   336-7199   False.               2\n",
       "1432    TN        415   374-6217   False.               1"
      ]
     },
     "execution_count": 87,
     "metadata": {},
     "output_type": "execute_result"
    }
   ],
   "source": [
    "final_score_train = final_score_train [['state','area_code','phone','churns','ChurnRiskScore']]\n",
    "final_score_train.head()"
   ]
  },
  {
   "cell_type": "code",
   "execution_count": 88,
   "metadata": {},
   "outputs": [
    {
     "data": {
      "text/html": [
       "<div>\n",
       "<style scoped>\n",
       "    .dataframe tbody tr th:only-of-type {\n",
       "        vertical-align: middle;\n",
       "    }\n",
       "\n",
       "    .dataframe tbody tr th {\n",
       "        vertical-align: top;\n",
       "    }\n",
       "\n",
       "    .dataframe thead th {\n",
       "        text-align: right;\n",
       "    }\n",
       "</style>\n",
       "<table border=\"1\" class=\"dataframe\">\n",
       "  <thead>\n",
       "    <tr style=\"text-align: right;\">\n",
       "      <th></th>\n",
       "      <th>y_test</th>\n",
       "      <th>y_predict</th>\n",
       "      <th>proba_0</th>\n",
       "      <th>proba_1</th>\n",
       "      <th>ChurnRiskScore</th>\n",
       "      <th>state</th>\n",
       "      <th>area_code</th>\n",
       "      <th>phone</th>\n",
       "      <th>churns</th>\n",
       "    </tr>\n",
       "  </thead>\n",
       "  <tbody>\n",
       "    <tr>\n",
       "      <th>4454</th>\n",
       "      <td>0.0</td>\n",
       "      <td>0.0</td>\n",
       "      <td>0.97</td>\n",
       "      <td>0.03</td>\n",
       "      <td>3</td>\n",
       "      <td>HI</td>\n",
       "      <td>408</td>\n",
       "      <td>369-6323</td>\n",
       "      <td>False.</td>\n",
       "    </tr>\n",
       "    <tr>\n",
       "      <th>2118</th>\n",
       "      <td>1.0</td>\n",
       "      <td>1.0</td>\n",
       "      <td>0.14</td>\n",
       "      <td>0.86</td>\n",
       "      <td>86</td>\n",
       "      <td>TX</td>\n",
       "      <td>510</td>\n",
       "      <td>346-2020</td>\n",
       "      <td>True.</td>\n",
       "    </tr>\n",
       "    <tr>\n",
       "      <th>42</th>\n",
       "      <td>0.0</td>\n",
       "      <td>0.0</td>\n",
       "      <td>0.91</td>\n",
       "      <td>0.09</td>\n",
       "      <td>9</td>\n",
       "      <td>AR</td>\n",
       "      <td>510</td>\n",
       "      <td>353-7289</td>\n",
       "      <td>False.</td>\n",
       "    </tr>\n",
       "    <tr>\n",
       "      <th>3879</th>\n",
       "      <td>0.0</td>\n",
       "      <td>0.0</td>\n",
       "      <td>0.96</td>\n",
       "      <td>0.04</td>\n",
       "      <td>4</td>\n",
       "      <td>OK</td>\n",
       "      <td>415</td>\n",
       "      <td>412-6547</td>\n",
       "      <td>False.</td>\n",
       "    </tr>\n",
       "    <tr>\n",
       "      <th>2727</th>\n",
       "      <td>0.0</td>\n",
       "      <td>0.0</td>\n",
       "      <td>0.57</td>\n",
       "      <td>0.43</td>\n",
       "      <td>43</td>\n",
       "      <td>PA</td>\n",
       "      <td>415</td>\n",
       "      <td>409-2917</td>\n",
       "      <td>False.</td>\n",
       "    </tr>\n",
       "  </tbody>\n",
       "</table>\n",
       "</div>"
      ],
      "text/plain": [
       "      y_test  y_predict  proba_0  proba_1  ChurnRiskScore state  area_code  \\\n",
       "4454     0.0        0.0     0.97     0.03               3    HI        408   \n",
       "2118     1.0        1.0     0.14     0.86              86    TX        510   \n",
       "42       0.0        0.0     0.91     0.09               9    AR        510   \n",
       "3879     0.0        0.0     0.96     0.04               4    OK        415   \n",
       "2727     0.0        0.0     0.57     0.43              43    PA        415   \n",
       "\n",
       "          phone   churns  \n",
       "4454   369-6323   False.  \n",
       "2118   346-2020    True.  \n",
       "42     353-7289   False.  \n",
       "3879   412-6547   False.  \n",
       "2727   409-2917   False.  "
      ]
     },
     "execution_count": 88,
     "metadata": {},
     "output_type": "execute_result"
    }
   ],
   "source": [
    "con_data['ChurnRiskScore'] = (100 * con_data['proba_1']).astype(int)\n",
    "final_score_test = con_data.merge(final,left_index=True,right_index=True)\n",
    "final_score_test.head()"
   ]
  },
  {
   "cell_type": "code",
   "execution_count": 90,
   "metadata": {},
   "outputs": [
    {
     "data": {
      "text/html": [
       "<div>\n",
       "<style scoped>\n",
       "    .dataframe tbody tr th:only-of-type {\n",
       "        vertical-align: middle;\n",
       "    }\n",
       "\n",
       "    .dataframe tbody tr th {\n",
       "        vertical-align: top;\n",
       "    }\n",
       "\n",
       "    .dataframe thead th {\n",
       "        text-align: right;\n",
       "    }\n",
       "</style>\n",
       "<table border=\"1\" class=\"dataframe\">\n",
       "  <thead>\n",
       "    <tr style=\"text-align: right;\">\n",
       "      <th></th>\n",
       "      <th>state</th>\n",
       "      <th>area_code</th>\n",
       "      <th>phone</th>\n",
       "      <th>churns</th>\n",
       "      <th>ChurnRiskScore</th>\n",
       "    </tr>\n",
       "  </thead>\n",
       "  <tbody>\n",
       "    <tr>\n",
       "      <th>4454</th>\n",
       "      <td>HI</td>\n",
       "      <td>408</td>\n",
       "      <td>369-6323</td>\n",
       "      <td>False.</td>\n",
       "      <td>3</td>\n",
       "    </tr>\n",
       "    <tr>\n",
       "      <th>2118</th>\n",
       "      <td>TX</td>\n",
       "      <td>510</td>\n",
       "      <td>346-2020</td>\n",
       "      <td>True.</td>\n",
       "      <td>86</td>\n",
       "    </tr>\n",
       "    <tr>\n",
       "      <th>42</th>\n",
       "      <td>AR</td>\n",
       "      <td>510</td>\n",
       "      <td>353-7289</td>\n",
       "      <td>False.</td>\n",
       "      <td>9</td>\n",
       "    </tr>\n",
       "    <tr>\n",
       "      <th>3879</th>\n",
       "      <td>OK</td>\n",
       "      <td>415</td>\n",
       "      <td>412-6547</td>\n",
       "      <td>False.</td>\n",
       "      <td>4</td>\n",
       "    </tr>\n",
       "    <tr>\n",
       "      <th>2727</th>\n",
       "      <td>PA</td>\n",
       "      <td>415</td>\n",
       "      <td>409-2917</td>\n",
       "      <td>False.</td>\n",
       "      <td>43</td>\n",
       "    </tr>\n",
       "  </tbody>\n",
       "</table>\n",
       "</div>"
      ],
      "text/plain": [
       "     state  area_code      phone   churns  ChurnRiskScore\n",
       "4454    HI        408   369-6323   False.               3\n",
       "2118    TX        510   346-2020    True.              86\n",
       "42      AR        510   353-7289   False.               9\n",
       "3879    OK        415   412-6547   False.               4\n",
       "2727    PA        415   409-2917   False.              43"
      ]
     },
     "execution_count": 90,
     "metadata": {},
     "output_type": "execute_result"
    }
   ],
   "source": [
    "final_score_test = final_score_test [['state','area_code','phone','churns','ChurnRiskScore']]\n",
    "final_score_test.head()"
   ]
  },
  {
   "cell_type": "code",
   "execution_count": 92,
   "metadata": {},
   "outputs": [
    {
     "data": {
      "text/html": [
       "<div>\n",
       "<style scoped>\n",
       "    .dataframe tbody tr th:only-of-type {\n",
       "        vertical-align: middle;\n",
       "    }\n",
       "\n",
       "    .dataframe tbody tr th {\n",
       "        vertical-align: top;\n",
       "    }\n",
       "\n",
       "    .dataframe thead th {\n",
       "        text-align: right;\n",
       "    }\n",
       "</style>\n",
       "<table border=\"1\" class=\"dataframe\">\n",
       "  <thead>\n",
       "    <tr style=\"text-align: right;\">\n",
       "      <th></th>\n",
       "      <th>state</th>\n",
       "      <th>area_code</th>\n",
       "      <th>phone</th>\n",
       "      <th>churns</th>\n",
       "      <th>ChurnRiskScore</th>\n",
       "    </tr>\n",
       "  </thead>\n",
       "  <tbody>\n",
       "    <tr>\n",
       "      <th>0</th>\n",
       "      <td>KS</td>\n",
       "      <td>415</td>\n",
       "      <td>382-4657</td>\n",
       "      <td>False.</td>\n",
       "      <td>0</td>\n",
       "    </tr>\n",
       "    <tr>\n",
       "      <th>1</th>\n",
       "      <td>OH</td>\n",
       "      <td>415</td>\n",
       "      <td>371-7191</td>\n",
       "      <td>False.</td>\n",
       "      <td>1</td>\n",
       "    </tr>\n",
       "    <tr>\n",
       "      <th>2</th>\n",
       "      <td>NJ</td>\n",
       "      <td>415</td>\n",
       "      <td>358-1921</td>\n",
       "      <td>False.</td>\n",
       "      <td>1</td>\n",
       "    </tr>\n",
       "    <tr>\n",
       "      <th>3</th>\n",
       "      <td>OH</td>\n",
       "      <td>408</td>\n",
       "      <td>375-9999</td>\n",
       "      <td>False.</td>\n",
       "      <td>17</td>\n",
       "    </tr>\n",
       "    <tr>\n",
       "      <th>4</th>\n",
       "      <td>OK</td>\n",
       "      <td>415</td>\n",
       "      <td>330-6626</td>\n",
       "      <td>False.</td>\n",
       "      <td>3</td>\n",
       "    </tr>\n",
       "    <tr>\n",
       "      <th>5</th>\n",
       "      <td>AL</td>\n",
       "      <td>510</td>\n",
       "      <td>391-8027</td>\n",
       "      <td>False.</td>\n",
       "      <td>13</td>\n",
       "    </tr>\n",
       "    <tr>\n",
       "      <th>6</th>\n",
       "      <td>MA</td>\n",
       "      <td>510</td>\n",
       "      <td>355-9993</td>\n",
       "      <td>False.</td>\n",
       "      <td>11</td>\n",
       "    </tr>\n",
       "    <tr>\n",
       "      <th>7</th>\n",
       "      <td>MO</td>\n",
       "      <td>415</td>\n",
       "      <td>329-9001</td>\n",
       "      <td>False.</td>\n",
       "      <td>2</td>\n",
       "    </tr>\n",
       "    <tr>\n",
       "      <th>8</th>\n",
       "      <td>LA</td>\n",
       "      <td>408</td>\n",
       "      <td>335-4719</td>\n",
       "      <td>False.</td>\n",
       "      <td>7</td>\n",
       "    </tr>\n",
       "    <tr>\n",
       "      <th>9</th>\n",
       "      <td>WV</td>\n",
       "      <td>415</td>\n",
       "      <td>330-8173</td>\n",
       "      <td>False.</td>\n",
       "      <td>13</td>\n",
       "    </tr>\n",
       "    <tr>\n",
       "      <th>10</th>\n",
       "      <td>IN</td>\n",
       "      <td>415</td>\n",
       "      <td>329-6603</td>\n",
       "      <td>True.</td>\n",
       "      <td>96</td>\n",
       "    </tr>\n",
       "    <tr>\n",
       "      <th>11</th>\n",
       "      <td>RI</td>\n",
       "      <td>415</td>\n",
       "      <td>344-9403</td>\n",
       "      <td>False.</td>\n",
       "      <td>0</td>\n",
       "    </tr>\n",
       "    <tr>\n",
       "      <th>12</th>\n",
       "      <td>IA</td>\n",
       "      <td>408</td>\n",
       "      <td>363-1107</td>\n",
       "      <td>False.</td>\n",
       "      <td>1</td>\n",
       "    </tr>\n",
       "    <tr>\n",
       "      <th>13</th>\n",
       "      <td>MT</td>\n",
       "      <td>510</td>\n",
       "      <td>394-8006</td>\n",
       "      <td>False.</td>\n",
       "      <td>2</td>\n",
       "    </tr>\n",
       "    <tr>\n",
       "      <th>14</th>\n",
       "      <td>IA</td>\n",
       "      <td>415</td>\n",
       "      <td>366-9238</td>\n",
       "      <td>False.</td>\n",
       "      <td>19</td>\n",
       "    </tr>\n",
       "    <tr>\n",
       "      <th>15</th>\n",
       "      <td>NY</td>\n",
       "      <td>415</td>\n",
       "      <td>351-7269</td>\n",
       "      <td>True.</td>\n",
       "      <td>81</td>\n",
       "    </tr>\n",
       "    <tr>\n",
       "      <th>16</th>\n",
       "      <td>ID</td>\n",
       "      <td>408</td>\n",
       "      <td>350-8884</td>\n",
       "      <td>False.</td>\n",
       "      <td>5</td>\n",
       "    </tr>\n",
       "    <tr>\n",
       "      <th>17</th>\n",
       "      <td>VT</td>\n",
       "      <td>510</td>\n",
       "      <td>386-2923</td>\n",
       "      <td>False.</td>\n",
       "      <td>1</td>\n",
       "    </tr>\n",
       "    <tr>\n",
       "      <th>18</th>\n",
       "      <td>VA</td>\n",
       "      <td>510</td>\n",
       "      <td>356-2992</td>\n",
       "      <td>False.</td>\n",
       "      <td>3</td>\n",
       "    </tr>\n",
       "    <tr>\n",
       "      <th>19</th>\n",
       "      <td>TX</td>\n",
       "      <td>415</td>\n",
       "      <td>373-2782</td>\n",
       "      <td>False.</td>\n",
       "      <td>0</td>\n",
       "    </tr>\n",
       "  </tbody>\n",
       "</table>\n",
       "</div>"
      ],
      "text/plain": [
       "   state  area_code      phone   churns  ChurnRiskScore\n",
       "0     KS        415   382-4657   False.               0\n",
       "1     OH        415   371-7191   False.               1\n",
       "2     NJ        415   358-1921   False.               1\n",
       "3     OH        408   375-9999   False.              17\n",
       "4     OK        415   330-6626   False.               3\n",
       "5     AL        510   391-8027   False.              13\n",
       "6     MA        510   355-9993   False.              11\n",
       "7     MO        415   329-9001   False.               2\n",
       "8     LA        408   335-4719   False.               7\n",
       "9     WV        415   330-8173   False.              13\n",
       "10    IN        415   329-6603    True.              96\n",
       "11    RI        415   344-9403   False.               0\n",
       "12    IA        408   363-1107   False.               1\n",
       "13    MT        510   394-8006   False.               2\n",
       "14    IA        415   366-9238   False.              19\n",
       "15    NY        415   351-7269    True.              81\n",
       "16    ID        408   350-8884   False.               5\n",
       "17    VT        510   386-2923   False.               1\n",
       "18    VA        510   356-2992   False.               3\n",
       "19    TX        415   373-2782   False.               0"
      ]
     },
     "execution_count": 92,
     "metadata": {},
     "output_type": "execute_result"
    }
   ],
   "source": [
    "final_score = pd.concat([final_score_train,final_score_test]).sort_index(axis=0)\n",
    "final_score.head(20)"
   ]
  },
  {
   "cell_type": "code",
   "execution_count": 93,
   "metadata": {},
   "outputs": [
    {
     "data": {
      "text/plain": [
       "(4617, 5)"
      ]
     },
     "execution_count": 93,
     "metadata": {},
     "output_type": "execute_result"
    }
   ],
   "source": [
    "final_score.shape"
   ]
  },
  {
   "cell_type": "code",
   "execution_count": 94,
   "metadata": {},
   "outputs": [
    {
     "name": "stdout",
     "output_type": "stream",
     "text": [
      "<class 'pandas.core.frame.DataFrame'>\n",
      "Int64Index: 4617 entries, 0 to 4616\n",
      "Data columns (total 5 columns):\n",
      " #   Column          Non-Null Count  Dtype \n",
      "---  ------          --------------  ----- \n",
      " 0   state           4617 non-null   object\n",
      " 1   area_code       4617 non-null   int64 \n",
      " 2   phone           4617 non-null   object\n",
      " 3   churns          4617 non-null   object\n",
      " 4   ChurnRiskScore  4617 non-null   int32 \n",
      "dtypes: int32(1), int64(1), object(3)\n",
      "memory usage: 198.4+ KB\n"
     ]
    }
   ],
   "source": [
    "final_score.info()"
   ]
  },
  {
   "cell_type": "code",
   "execution_count": 108,
   "metadata": {
    "scrolled": true
   },
   "outputs": [
    {
     "data": {
      "text/html": [
       "<div>\n",
       "<style scoped>\n",
       "    .dataframe tbody tr th:only-of-type {\n",
       "        vertical-align: middle;\n",
       "    }\n",
       "\n",
       "    .dataframe tbody tr th {\n",
       "        vertical-align: top;\n",
       "    }\n",
       "\n",
       "    .dataframe thead th {\n",
       "        text-align: right;\n",
       "    }\n",
       "</style>\n",
       "<table border=\"1\" class=\"dataframe\">\n",
       "  <thead>\n",
       "    <tr style=\"text-align: right;\">\n",
       "      <th></th>\n",
       "      <th>state</th>\n",
       "      <th>area_code</th>\n",
       "      <th>phone</th>\n",
       "      <th>churns</th>\n",
       "      <th>ChurnRiskScore</th>\n",
       "    </tr>\n",
       "  </thead>\n",
       "  <tbody>\n",
       "    <tr>\n",
       "      <th>10</th>\n",
       "      <td>IN</td>\n",
       "      <td>415</td>\n",
       "      <td>329-6603</td>\n",
       "      <td>True.</td>\n",
       "      <td>96</td>\n",
       "    </tr>\n",
       "    <tr>\n",
       "      <th>15</th>\n",
       "      <td>NY</td>\n",
       "      <td>415</td>\n",
       "      <td>351-7269</td>\n",
       "      <td>True.</td>\n",
       "      <td>81</td>\n",
       "    </tr>\n",
       "    <tr>\n",
       "      <th>21</th>\n",
       "      <td>CO</td>\n",
       "      <td>408</td>\n",
       "      <td>393-7984</td>\n",
       "      <td>True.</td>\n",
       "      <td>97</td>\n",
       "    </tr>\n",
       "    <tr>\n",
       "      <th>33</th>\n",
       "      <td>AZ</td>\n",
       "      <td>408</td>\n",
       "      <td>360-1596</td>\n",
       "      <td>True.</td>\n",
       "      <td>93</td>\n",
       "    </tr>\n",
       "    <tr>\n",
       "      <th>41</th>\n",
       "      <td>MD</td>\n",
       "      <td>408</td>\n",
       "      <td>383-6029</td>\n",
       "      <td>True.</td>\n",
       "      <td>96</td>\n",
       "    </tr>\n",
       "    <tr>\n",
       "      <th>...</th>\n",
       "      <td>...</td>\n",
       "      <td>...</td>\n",
       "      <td>...</td>\n",
       "      <td>...</td>\n",
       "      <td>...</td>\n",
       "    </tr>\n",
       "    <tr>\n",
       "      <th>4576</th>\n",
       "      <td>WV</td>\n",
       "      <td>510</td>\n",
       "      <td>350-7785</td>\n",
       "      <td>True.</td>\n",
       "      <td>84</td>\n",
       "    </tr>\n",
       "    <tr>\n",
       "      <th>4577</th>\n",
       "      <td>KS</td>\n",
       "      <td>415</td>\n",
       "      <td>347-1864</td>\n",
       "      <td>True.</td>\n",
       "      <td>90</td>\n",
       "    </tr>\n",
       "    <tr>\n",
       "      <th>4592</th>\n",
       "      <td>SD</td>\n",
       "      <td>415</td>\n",
       "      <td>333-1661</td>\n",
       "      <td>True.</td>\n",
       "      <td>89</td>\n",
       "    </tr>\n",
       "    <tr>\n",
       "      <th>4597</th>\n",
       "      <td>OR</td>\n",
       "      <td>408</td>\n",
       "      <td>393-8963</td>\n",
       "      <td>True.</td>\n",
       "      <td>87</td>\n",
       "    </tr>\n",
       "    <tr>\n",
       "      <th>4599</th>\n",
       "      <td>MT</td>\n",
       "      <td>408</td>\n",
       "      <td>342-6864</td>\n",
       "      <td>True.</td>\n",
       "      <td>92</td>\n",
       "    </tr>\n",
       "  </tbody>\n",
       "</table>\n",
       "<p>613 rows × 5 columns</p>\n",
       "</div>"
      ],
      "text/plain": [
       "     state  area_code      phone  churns  ChurnRiskScore\n",
       "10      IN        415   329-6603   True.              96\n",
       "15      NY        415   351-7269   True.              81\n",
       "21      CO        408   393-7984   True.              97\n",
       "33      AZ        408   360-1596   True.              93\n",
       "41      MD        408   383-6029   True.              96\n",
       "...    ...        ...        ...     ...             ...\n",
       "4576    WV        510   350-7785   True.              84\n",
       "4577    KS        415   347-1864   True.              90\n",
       "4592    SD        415   333-1661   True.              89\n",
       "4597    OR        408   393-8963   True.              87\n",
       "4599    MT        408   342-6864   True.              92\n",
       "\n",
       "[613 rows x 5 columns]"
      ]
     },
     "execution_count": 108,
     "metadata": {},
     "output_type": "execute_result"
    }
   ],
   "source": [
    "final_score[(final_score.ChurnRiskScore > 50)]#.count()"
   ]
  },
  {
   "cell_type": "code",
   "execution_count": null,
   "metadata": {},
   "outputs": [],
   "source": []
  }
 ],
 "metadata": {
  "kernelspec": {
   "display_name": "Python 3",
   "language": "python",
   "name": "python3"
  },
  "language_info": {
   "codemirror_mode": {
    "name": "ipython",
    "version": 3
   },
   "file_extension": ".py",
   "mimetype": "text/x-python",
   "name": "python",
   "nbconvert_exporter": "python",
   "pygments_lexer": "ipython3",
   "version": "3.7.6"
  }
 },
 "nbformat": 4,
 "nbformat_minor": 4
}
