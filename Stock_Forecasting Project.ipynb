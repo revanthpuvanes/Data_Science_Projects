{
 "cells": [
  {
   "cell_type": "code",
   "execution_count": 1,
   "metadata": {},
   "outputs": [
    {
     "name": "stderr",
     "output_type": "stream",
     "text": [
      "C:\\Users\\Gillu\\Anaconda3\\lib\\site-packages\\ipykernel_launcher.py:3: FutureWarning: The pandas.datetime class is deprecated and will be removed from pandas in a future version. Import from datetime module instead.\n",
      "  This is separate from the ipykernel package so we can avoid doing imports until\n",
      "C:\\Users\\Gillu\\Anaconda3\\lib\\site-packages\\statsmodels\\tools\\_testing.py:19: FutureWarning: pandas.util.testing is deprecated. Use the functions in the public API at pandas.testing instead.\n",
      "  import pandas.util.testing as tm\n"
     ]
    }
   ],
   "source": [
    "import numpy as np\n",
    "import pandas as pd\n",
    "from pandas import datetime\n",
    "import matplotlib.pyplot as plt\n",
    "from pandas.plotting import autocorrelation_plot\n",
    "from collections import Counter\n",
    "import statsmodels.api as sm\n",
    "from statsmodels.tsa.arima_model import ARIMA\n",
    "from statsmodels.tsa.arima_model import ARMA\n",
    "from sklearn.metrics import mean_squared_error\n",
    "import warnings ## for filterout warnings\n",
    "warnings.filterwarnings(\"ignore\")\n"
   ]
  },
  {
   "cell_type": "code",
   "execution_count": 2,
   "metadata": {
    "scrolled": true
   },
   "outputs": [],
   "source": [
    "new_columns =['Invoice_Date', 'Job_Card_Date','Business_Partner_Name',\n",
    "              'Vehicle_No','Vehicle_Model','Current_KM_Reading','INVOICE_LINE_TEXT']\n",
    "\n",
    "data=pd.read_excel(\"service-data.xlsx\", names= new_columns)"
   ]
  },
  {
   "cell_type": "code",
   "execution_count": 3,
   "metadata": {
    "scrolled": false
   },
   "outputs": [
    {
     "name": "stdout",
     "output_type": "stream",
     "text": [
      "<class 'pandas.core.frame.DataFrame'>\n",
      "RangeIndex: 28484 entries, 0 to 28483\n",
      "Data columns (total 7 columns):\n",
      " #   Column                 Non-Null Count  Dtype         \n",
      "---  ------                 --------------  -----         \n",
      " 0   Invoice_Date           28482 non-null  datetime64[ns]\n",
      " 1   Job_Card_Date          28482 non-null  datetime64[ns]\n",
      " 2   Business_Partner_Name  28484 non-null  object        \n",
      " 3   Vehicle_No             28484 non-null  object        \n",
      " 4   Vehicle_Model          28482 non-null  object        \n",
      " 5   Current_KM_Reading     28482 non-null  float64       \n",
      " 6   INVOICE_LINE_TEXT      28449 non-null  object        \n",
      "dtypes: datetime64[ns](2), float64(1), object(4)\n",
      "memory usage: 1.5+ MB\n"
     ]
    }
   ],
   "source": [
    "data.info()"
   ]
  },
  {
   "cell_type": "code",
   "execution_count": 4,
   "metadata": {
    "scrolled": false
   },
   "outputs": [
    {
     "data": {
      "text/html": [
       "<div>\n",
       "<style scoped>\n",
       "    .dataframe tbody tr th:only-of-type {\n",
       "        vertical-align: middle;\n",
       "    }\n",
       "\n",
       "    .dataframe tbody tr th {\n",
       "        vertical-align: top;\n",
       "    }\n",
       "\n",
       "    .dataframe thead th {\n",
       "        text-align: right;\n",
       "    }\n",
       "</style>\n",
       "<table border=\"1\" class=\"dataframe\">\n",
       "  <thead>\n",
       "    <tr style=\"text-align: right;\">\n",
       "      <th></th>\n",
       "      <th>Invoice_Date</th>\n",
       "      <th>Job_Card_Date</th>\n",
       "      <th>Business_Partner_Name</th>\n",
       "      <th>Vehicle_No</th>\n",
       "      <th>Vehicle_Model</th>\n",
       "      <th>Current_KM_Reading</th>\n",
       "      <th>INVOICE_LINE_TEXT</th>\n",
       "    </tr>\n",
       "  </thead>\n",
       "  <tbody>\n",
       "    <tr>\n",
       "      <th>0</th>\n",
       "      <td>2017-05-30</td>\n",
       "      <td>2017-05-30</td>\n",
       "      <td>shivXXXXXXXXXX</td>\n",
       "      <td>KA03MFXXXX</td>\n",
       "      <td>BAJAJ AVENGER STREET 220</td>\n",
       "      <td>50000.0</td>\n",
       "      <td>ENGINE OIL</td>\n",
       "    </tr>\n",
       "    <tr>\n",
       "      <th>1</th>\n",
       "      <td>2017-06-02</td>\n",
       "      <td>2017-05-31</td>\n",
       "      <td>KIRAXXXXXXXXXX</td>\n",
       "      <td>KA53ESXXXX</td>\n",
       "      <td>BAJAJ PULSAR NS 200</td>\n",
       "      <td>758.0</td>\n",
       "      <td>ENGINE OIL</td>\n",
       "    </tr>\n",
       "    <tr>\n",
       "      <th>2</th>\n",
       "      <td>2017-06-02</td>\n",
       "      <td>2017-05-31</td>\n",
       "      <td>KIRAXXXXXXXXXX</td>\n",
       "      <td>KA53ESXXXX</td>\n",
       "      <td>BAJAJ PULSAR NS 200</td>\n",
       "      <td>758.0</td>\n",
       "      <td>POLISH</td>\n",
       "    </tr>\n",
       "    <tr>\n",
       "      <th>3</th>\n",
       "      <td>2017-06-02</td>\n",
       "      <td>2017-05-31</td>\n",
       "      <td>KIRAXXXXXXXXXX</td>\n",
       "      <td>KA53ESXXXX</td>\n",
       "      <td>BAJAJ PULSAR NS 200</td>\n",
       "      <td>758.0</td>\n",
       "      <td>CONSUMABLES</td>\n",
       "    </tr>\n",
       "    <tr>\n",
       "      <th>4</th>\n",
       "      <td>2017-06-02</td>\n",
       "      <td>2017-05-31</td>\n",
       "      <td>KIRAXXXXXXXXXX</td>\n",
       "      <td>KA53ESXXXX</td>\n",
       "      <td>BAJAJ PULSAR NS 200</td>\n",
       "      <td>758.0</td>\n",
       "      <td>COOLANT OIL</td>\n",
       "    </tr>\n",
       "  </tbody>\n",
       "</table>\n",
       "</div>"
      ],
      "text/plain": [
       "  Invoice_Date Job_Card_Date Business_Partner_Name  Vehicle_No  \\\n",
       "0   2017-05-30    2017-05-30        shivXXXXXXXXXX  KA03MFXXXX   \n",
       "1   2017-06-02    2017-05-31        KIRAXXXXXXXXXX  KA53ESXXXX   \n",
       "2   2017-06-02    2017-05-31        KIRAXXXXXXXXXX  KA53ESXXXX   \n",
       "3   2017-06-02    2017-05-31        KIRAXXXXXXXXXX  KA53ESXXXX   \n",
       "4   2017-06-02    2017-05-31        KIRAXXXXXXXXXX  KA53ESXXXX   \n",
       "\n",
       "              Vehicle_Model  Current_KM_Reading INVOICE_LINE_TEXT  \n",
       "0  BAJAJ AVENGER STREET 220             50000.0        ENGINE OIL  \n",
       "1       BAJAJ PULSAR NS 200               758.0        ENGINE OIL  \n",
       "2       BAJAJ PULSAR NS 200               758.0            POLISH  \n",
       "3       BAJAJ PULSAR NS 200               758.0       CONSUMABLES  \n",
       "4       BAJAJ PULSAR NS 200               758.0       COOLANT OIL  "
      ]
     },
     "execution_count": 4,
     "metadata": {},
     "output_type": "execute_result"
    }
   ],
   "source": [
    "data.head()"
   ]
  },
  {
   "cell_type": "code",
   "execution_count": 5,
   "metadata": {},
   "outputs": [],
   "source": [
    "# Define a function\n",
    "\n",
    "def Createdataset(df):\n",
    "\n",
    "# Create a new column\n",
    "    \n",
    "    df['Spare_Part'] = df.Vehicle_Model+\"---\"+df.INVOICE_LINE_TEXT\n",
    "\n",
    "# Set JOB_CARD_DATE AS INDEX\n",
    "\n",
    "    df.index = df['Job_Card_Date']\n",
    "    del df['Job_Card_Date']\n",
    "\n",
    "    # set the frequency of Spare parts as 1\n",
    "    df.loc[:,'Frequency'] = 1\n",
    "    return df\n",
    "\n",
    "\n",
    "def  CreatelistofSpareParts(df,ListofSpareParts):\n",
    "     return Counter(df.Spare_Part).mostcommon(ListofSpareParts)\n",
    "    \n",
    "def df_resample(df, frequencyresample='W'):\n",
    "    return df.resample(frequencyresample).sum()\n",
    "\n",
    "def New_dataset(df, fromDate, toDate, SparePart=None): \n",
    "    \n",
    "    \n",
    "#Select rows with given SparePartName\n",
    "    if(SparePart!=None):\n",
    "        df= df.loc[(df.Spare_Part==SparePart),:]\n",
    "        \n",
    "                \n",
    "#Selecting the rows between given date range\n",
    "    return df.loc[fromDate:toDate,['Frequency']]\n",
    "\n",
    "    \n"
   ]
  },
  {
   "cell_type": "code",
   "execution_count": 6,
   "metadata": {},
   "outputs": [
    {
     "data": {
      "text/html": [
       "<div>\n",
       "<style scoped>\n",
       "    .dataframe tbody tr th:only-of-type {\n",
       "        vertical-align: middle;\n",
       "    }\n",
       "\n",
       "    .dataframe tbody tr th {\n",
       "        vertical-align: top;\n",
       "    }\n",
       "\n",
       "    .dataframe thead th {\n",
       "        text-align: right;\n",
       "    }\n",
       "</style>\n",
       "<table border=\"1\" class=\"dataframe\">\n",
       "  <thead>\n",
       "    <tr style=\"text-align: right;\">\n",
       "      <th></th>\n",
       "      <th>Invoice_Date</th>\n",
       "      <th>Business_Partner_Name</th>\n",
       "      <th>Vehicle_No</th>\n",
       "      <th>Vehicle_Model</th>\n",
       "      <th>Current_KM_Reading</th>\n",
       "      <th>INVOICE_LINE_TEXT</th>\n",
       "      <th>Spare_Part</th>\n",
       "      <th>Frequency</th>\n",
       "    </tr>\n",
       "    <tr>\n",
       "      <th>Job_Card_Date</th>\n",
       "      <th></th>\n",
       "      <th></th>\n",
       "      <th></th>\n",
       "      <th></th>\n",
       "      <th></th>\n",
       "      <th></th>\n",
       "      <th></th>\n",
       "      <th></th>\n",
       "    </tr>\n",
       "  </thead>\n",
       "  <tbody>\n",
       "    <tr>\n",
       "      <th>2017-05-30</th>\n",
       "      <td>2017-05-30</td>\n",
       "      <td>shivXXXXXXXXXX</td>\n",
       "      <td>KA03MFXXXX</td>\n",
       "      <td>BAJAJ AVENGER STREET 220</td>\n",
       "      <td>50000.0</td>\n",
       "      <td>ENGINE OIL</td>\n",
       "      <td>BAJAJ AVENGER STREET 220---ENGINE OIL</td>\n",
       "      <td>1</td>\n",
       "    </tr>\n",
       "    <tr>\n",
       "      <th>2017-05-31</th>\n",
       "      <td>2017-06-02</td>\n",
       "      <td>KIRAXXXXXXXXXX</td>\n",
       "      <td>KA53ESXXXX</td>\n",
       "      <td>BAJAJ PULSAR NS 200</td>\n",
       "      <td>758.0</td>\n",
       "      <td>ENGINE OIL</td>\n",
       "      <td>BAJAJ PULSAR NS 200---ENGINE OIL</td>\n",
       "      <td>1</td>\n",
       "    </tr>\n",
       "    <tr>\n",
       "      <th>2017-05-31</th>\n",
       "      <td>2017-06-02</td>\n",
       "      <td>KIRAXXXXXXXXXX</td>\n",
       "      <td>KA53ESXXXX</td>\n",
       "      <td>BAJAJ PULSAR NS 200</td>\n",
       "      <td>758.0</td>\n",
       "      <td>POLISH</td>\n",
       "      <td>BAJAJ PULSAR NS 200---POLISH</td>\n",
       "      <td>1</td>\n",
       "    </tr>\n",
       "    <tr>\n",
       "      <th>2017-05-31</th>\n",
       "      <td>2017-06-02</td>\n",
       "      <td>KIRAXXXXXXXXXX</td>\n",
       "      <td>KA53ESXXXX</td>\n",
       "      <td>BAJAJ PULSAR NS 200</td>\n",
       "      <td>758.0</td>\n",
       "      <td>CONSUMABLES</td>\n",
       "      <td>BAJAJ PULSAR NS 200---CONSUMABLES</td>\n",
       "      <td>1</td>\n",
       "    </tr>\n",
       "    <tr>\n",
       "      <th>2017-05-31</th>\n",
       "      <td>2017-06-02</td>\n",
       "      <td>KIRAXXXXXXXXXX</td>\n",
       "      <td>KA53ESXXXX</td>\n",
       "      <td>BAJAJ PULSAR NS 200</td>\n",
       "      <td>758.0</td>\n",
       "      <td>COOLANT OIL</td>\n",
       "      <td>BAJAJ PULSAR NS 200---COOLANT OIL</td>\n",
       "      <td>1</td>\n",
       "    </tr>\n",
       "  </tbody>\n",
       "</table>\n",
       "</div>"
      ],
      "text/plain": [
       "              Invoice_Date Business_Partner_Name  Vehicle_No  \\\n",
       "Job_Card_Date                                                  \n",
       "2017-05-30      2017-05-30        shivXXXXXXXXXX  KA03MFXXXX   \n",
       "2017-05-31      2017-06-02        KIRAXXXXXXXXXX  KA53ESXXXX   \n",
       "2017-05-31      2017-06-02        KIRAXXXXXXXXXX  KA53ESXXXX   \n",
       "2017-05-31      2017-06-02        KIRAXXXXXXXXXX  KA53ESXXXX   \n",
       "2017-05-31      2017-06-02        KIRAXXXXXXXXXX  KA53ESXXXX   \n",
       "\n",
       "                          Vehicle_Model  Current_KM_Reading INVOICE_LINE_TEXT  \\\n",
       "Job_Card_Date                                                                   \n",
       "2017-05-30     BAJAJ AVENGER STREET 220             50000.0        ENGINE OIL   \n",
       "2017-05-31          BAJAJ PULSAR NS 200               758.0        ENGINE OIL   \n",
       "2017-05-31          BAJAJ PULSAR NS 200               758.0            POLISH   \n",
       "2017-05-31          BAJAJ PULSAR NS 200               758.0       CONSUMABLES   \n",
       "2017-05-31          BAJAJ PULSAR NS 200               758.0       COOLANT OIL   \n",
       "\n",
       "                                          Spare_Part  Frequency  \n",
       "Job_Card_Date                                                    \n",
       "2017-05-30     BAJAJ AVENGER STREET 220---ENGINE OIL          1  \n",
       "2017-05-31          BAJAJ PULSAR NS 200---ENGINE OIL          1  \n",
       "2017-05-31              BAJAJ PULSAR NS 200---POLISH          1  \n",
       "2017-05-31         BAJAJ PULSAR NS 200---CONSUMABLES          1  \n",
       "2017-05-31         BAJAJ PULSAR NS 200---COOLANT OIL          1  "
      ]
     },
     "execution_count": 6,
     "metadata": {},
     "output_type": "execute_result"
    }
   ],
   "source": [
    "data=Createdataset(data)\n",
    "data.head()"
   ]
  },
  {
   "cell_type": "code",
   "execution_count": 7,
   "metadata": {},
   "outputs": [
    {
     "data": {
      "text/plain": [
       "[('BAJAJ PULSAR 150---ENGINE OIL', 1066),\n",
       " ('BAJAJ PULSAR 150---CHAIN LUBRICATION', 970),\n",
       " ('BAJAJ PULSAR 150---GENERAL SERVICE', 654),\n",
       " ('BAJAJ AVENGER STREET 220---ENGINE OIL', 591),\n",
       " ('BAJAJ PULSAR 150---AIR FILTER', 554),\n",
       " ('BAJAJ AVENGER STREET 220---CHAIN LUBRICATION', 540),\n",
       " ('BAJAJ PULSAR 150---3M OIL', 400),\n",
       " ('BAJAJ PULSAR 150---CONSUMABLES', 386),\n",
       " ('BAJAJ PULSAR 150---BRAKE SHOE', 386),\n",
       " ('BAJAJ AVENGER STREET 220---GENERAL SERVICE', 379),\n",
       " ('BAJAJ PULSAR 220---ENGINE OIL', 338),\n",
       " ('BAJAJ PULSAR 150---DISC OIL', 322),\n",
       " ('BAJAJ PULSAR 150---POLISH', 319),\n",
       " ('BAJAJ PULSAR 180---ENGINE OIL', 303),\n",
       " ('BAJAJ AVENGER STREET 220---AIR FILTER', 301)]"
      ]
     },
     "execution_count": 7,
     "metadata": {},
     "output_type": "execute_result"
    }
   ],
   "source": [
    "Counter(data.Spare_Part).most_common(15)"
   ]
  },
  {
   "cell_type": "code",
   "execution_count": 8,
   "metadata": {},
   "outputs": [],
   "source": [
    "# Creating Sparepart specific dataset with given data ranges\n",
    "fromDate ='2017-06-01'\n",
    "toDate   ='2018-12-30'\n",
    "\n",
    "#Create Dataset\n",
    "\n",
    "df1= New_dataset(df=data,fromDate=fromDate, toDate=toDate, SparePart='BAJAJ PULSAR 150---ENGINE OIL')\n",
    "\n",
    "#Resapmling dataset and split the dataset\n",
    "df2= df_resample (df1,'W')"
   ]
  },
  {
   "cell_type": "code",
   "execution_count": 9,
   "metadata": {},
   "outputs": [
    {
     "data": {
      "text/plain": [
       "<AxesSubplot:xlabel='Job_Card_Date'>"
      ]
     },
     "execution_count": 9,
     "metadata": {},
     "output_type": "execute_result"
    },
    {
     "data": {
      "image/png": "[encoded data removed]",
      "text/plain": [
       "<Figure size 432x288 with 1 Axes>"
      ]
     },
     "metadata": {
      "needs_background": "light"
     },
     "output_type": "display_data"
    }
   ],
   "source": [
    "df2.plot()"
   ]
  },
  {
   "cell_type": "code",
   "execution_count": 10,
   "metadata": {},
   "outputs": [
    {
     "data": {
      "text/plain": [
       "Frequency    0\n",
       "dtype: int64"
      ]
     },
     "execution_count": 10,
     "metadata": {},
     "output_type": "execute_result"
    }
   ],
   "source": [
    "df2.isnull().sum()"
   ]
  },
  {
   "cell_type": "markdown",
   "metadata": {},
   "source": [
    "# Test Stationarity"
   ]
  },
  {
   "cell_type": "code",
   "execution_count": 11,
   "metadata": {},
   "outputs": [
    {
     "data": {
      "image/png": "[encoded data removed]",
      "text/plain": [
       "<Figure size 432x288 with 1 Axes>"
      ]
     },
     "execution_count": 11,
     "metadata": {},
     "output_type": "execute_result"
    },
    {
     "data": {
      "image/png": "[encoded data removed]",
      "text/plain": [
       "<Figure size 432x288 with 1 Axes>"
      ]
     },
     "metadata": {
      "needs_background": "light"
     },
     "output_type": "display_data"
    }
   ],
   "source": [
    "from statsmodels.graphics.tsaplots import plot_acf, plot_pacf\n",
    "plot_acf(df2,lags=50)\n",
    "\n",
    "\n",
    "#Spiked decays shows data is stationary"
   ]
  },
  {
   "cell_type": "code",
   "execution_count": 12,
   "metadata": {},
   "outputs": [
    {
     "data": {
      "image/png": "[encoded data removed]",
      "text/plain": [
       "<Figure size 432x288 with 1 Axes>"
      ]
     },
     "execution_count": 12,
     "metadata": {},
     "output_type": "execute_result"
    },
    {
     "data": {
      "image/png": "[encoded data removed]",
      "text/plain": [
       "<Figure size 432x288 with 1 Axes>"
      ]
     },
     "metadata": {
      "needs_background": "light"
     },
     "output_type": "display_data"
    }
   ],
   "source": [
    "# Partial Autocorerelation \n",
    "\n",
    "plot_pacf(df2, lags=20)"
   ]
  },
  {
   "cell_type": "markdown",
   "metadata": {},
   "source": [
    "# Convert Data into Stationary Format\n",
    "\n",
    "\n"
   ]
  },
  {
   "cell_type": "code",
   "execution_count": 13,
   "metadata": {},
   "outputs": [
    {
     "name": "stdout",
     "output_type": "stream",
     "text": [
      "               Frequency\n",
      "Job_Card_Date           \n",
      "2017-06-11           8.0\n",
      "2017-06-18           1.0\n",
      "2017-06-25          -1.0\n",
      "2017-07-02          -2.0\n",
      "2017-07-09           3.0\n"
     ]
    },
    {
     "data": {
      "text/plain": [
       "<AxesSubplot:xlabel='Job_Card_Date'>"
      ]
     },
     "execution_count": 13,
     "metadata": {},
     "output_type": "execute_result"
    },
    {
     "data": {
      "image/png": "[encoded data removed]",
      "text/plain": [
       "<Figure size 432x288 with 1 Axes>"
      ]
     },
     "metadata": {
      "needs_background": "light"
     },
     "output_type": "display_data"
    }
   ],
   "source": [
    "df2_diff=df2.diff(periods=1)\n",
    "df2_diff=df2_diff[1:]\n",
    "print(df2_diff.head())\n",
    "df2_diff.plot()"
   ]
  },
  {
   "cell_type": "markdown",
   "metadata": {},
   "source": [
    "# Split the Dateset\n"
   ]
  },
  {
   "cell_type": "code",
   "execution_count": 14,
   "metadata": {},
   "outputs": [],
   "source": [
    "X= df2.values\n",
    "size= int(len(X) * 0.70)\n",
    "train,test= X[0:size], X[size:len(X)]\n",
    "\n",
    "X_diff=df2_diff.values\n",
    "size_diff= int(len(X_diff) * 0.70)\n",
    "train_diff, test_diff = X_diff[0:size_diff], X_diff[size_diff:len(X_diff)]"
   ]
  },
  {
   "cell_type": "code",
   "execution_count": 15,
   "metadata": {},
   "outputs": [
    {
     "data": {
      "text/plain": [
       "83"
      ]
     },
     "execution_count": 15,
     "metadata": {},
     "output_type": "execute_result"
    }
   ],
   "source": [
    "len(X)"
   ]
  },
  {
   "cell_type": "code",
   "execution_count": 16,
   "metadata": {},
   "outputs": [
    {
     "data": {
      "image/png": "[encoded data removed]",
      "text/plain": [
       "<Figure size 432x288 with 1 Axes>"
      ]
     },
     "execution_count": 16,
     "metadata": {},
     "output_type": "execute_result"
    },
    {
     "data": {
      "image/png": "[encoded data removed]",
      "text/plain": [
       "<Figure size 432x288 with 1 Axes>"
      ]
     },
     "metadata": {
      "needs_background": "light"
     },
     "output_type": "display_data"
    }
   ],
   "source": [
    "plot_pacf(df2_diff, lags=20)"
   ]
  },
  {
   "cell_type": "markdown",
   "metadata": {},
   "source": [
    "# ARMA "
   ]
  },
  {
   "cell_type": "code",
   "execution_count": 25,
   "metadata": {},
   "outputs": [],
   "source": [
    "model_ar=ARMA(train_diff,order=(5,2))\n",
    "model_ar_fit=model_ar.fit()"
   ]
  },
  {
   "cell_type": "code",
   "execution_count": 26,
   "metadata": {},
   "outputs": [
    {
     "name": "stdout",
     "output_type": "stream",
     "text": [
      "[-3.95715724 -2.69045096 -1.40852732  1.82518934 -2.02509253  3.01724683\n",
      " -0.07299883  0.0901539  -0.37315234  0.40764062 -1.07444957  0.67692803\n",
      " -0.06338047  0.22511044  0.05468948  0.3246531  -0.27728106  0.21152899\n",
      " -0.05294341  0.07674695  0.03207576  0.17083024 -0.02210767  0.12907232\n",
      "  0.02755553]\n",
      "[[-11.]\n",
      " [  7.]\n",
      " [ -8.]\n",
      " [  2.]\n",
      " [  4.]\n",
      " [ -2.]\n",
      " [  1.]\n",
      " [ -4.]\n",
      " [  2.]\n",
      " [  6.]\n",
      " [  3.]\n",
      " [ -2.]\n",
      " [  3.]\n",
      " [ -3.]\n",
      " [ -6.]\n",
      " [  2.]\n",
      " [  3.]\n",
      " [-11.]\n",
      " [ 10.]\n",
      " [ -5.]\n",
      " [  2.]\n",
      " [  2.]\n",
      " [ -3.]\n",
      " [  3.]\n",
      " [  6.]]\n",
      "Test MSE: 28.382\n"
     ]
    }
   ],
   "source": [
    "predictions = model_ar_fit.predict(start=size_diff, end=len(X_diff)-1)\n",
    "print(predictions)\n",
    "print(test_diff)\n",
    "error=mean_squared_error(test_diff,predictions)\n",
    "print('Test MSE: %.3f' % error)\n"
   ]
  },
  {
   "cell_type": "code",
   "execution_count": 27,
   "metadata": {},
   "outputs": [
    {
     "data": {
      "image/png": "[encoded data removed]",
      "text/plain": [
       "<Figure size 432x288 with 1 Axes>"
      ]
     },
     "metadata": {
      "needs_background": "light"
     },
     "output_type": "display_data"
    }
   ],
   "source": [
    "plt.plot(test_diff)\n",
    "plt.plot(predictions,color='green')\n",
    "plt.show()"
   ]
  },
  {
   "cell_type": "markdown",
   "metadata": {},
   "source": [
    "# ARIMA"
   ]
  },
  {
   "cell_type": "code",
   "execution_count": 40,
   "metadata": {},
   "outputs": [
    {
     "data": {
      "text/plain": [
       "[(0, 0, 0),\n",
       " (0, 0, 1),\n",
       " (0, 0, 2),\n",
       " (0, 0, 3),\n",
       " (0, 0, 4),\n",
       " (0, 1, 0),\n",
       " (0, 1, 1),\n",
       " (0, 1, 2),\n",
       " (0, 1, 3),\n",
       " (0, 1, 4),\n",
       " (0, 2, 0),\n",
       " (0, 2, 1),\n",
       " (0, 2, 2),\n",
       " (0, 2, 3),\n",
       " (0, 2, 4),\n",
       " (0, 3, 0),\n",
       " (0, 3, 1),\n",
       " (0, 3, 2),\n",
       " (0, 3, 3),\n",
       " (0, 3, 4),\n",
       " (0, 4, 0),\n",
       " (0, 4, 1),\n",
       " (0, 4, 2),\n",
       " (0, 4, 3),\n",
       " (0, 4, 4),\n",
       " (1, 0, 0),\n",
       " (1, 0, 1),\n",
       " (1, 0, 2),\n",
       " (1, 0, 3),\n",
       " (1, 0, 4),\n",
       " (1, 1, 0),\n",
       " (1, 1, 1),\n",
       " (1, 1, 2),\n",
       " (1, 1, 3),\n",
       " (1, 1, 4),\n",
       " (1, 2, 0),\n",
       " (1, 2, 1),\n",
       " (1, 2, 2),\n",
       " (1, 2, 3),\n",
       " (1, 2, 4),\n",
       " (1, 3, 0),\n",
       " (1, 3, 1),\n",
       " (1, 3, 2),\n",
       " (1, 3, 3),\n",
       " (1, 3, 4),\n",
       " (1, 4, 0),\n",
       " (1, 4, 1),\n",
       " (1, 4, 2),\n",
       " (1, 4, 3),\n",
       " (1, 4, 4),\n",
       " (2, 0, 0),\n",
       " (2, 0, 1),\n",
       " (2, 0, 2),\n",
       " (2, 0, 3),\n",
       " (2, 0, 4),\n",
       " (2, 1, 0),\n",
       " (2, 1, 1),\n",
       " (2, 1, 2),\n",
       " (2, 1, 3),\n",
       " (2, 1, 4),\n",
       " (2, 2, 0),\n",
       " (2, 2, 1),\n",
       " (2, 2, 2),\n",
       " (2, 2, 3),\n",
       " (2, 2, 4),\n",
       " (2, 3, 0),\n",
       " (2, 3, 1),\n",
       " (2, 3, 2),\n",
       " (2, 3, 3),\n",
       " (2, 3, 4),\n",
       " (2, 4, 0),\n",
       " (2, 4, 1),\n",
       " (2, 4, 2),\n",
       " (2, 4, 3),\n",
       " (2, 4, 4),\n",
       " (3, 0, 0),\n",
       " (3, 0, 1),\n",
       " (3, 0, 2),\n",
       " (3, 0, 3),\n",
       " (3, 0, 4),\n",
       " (3, 1, 0),\n",
       " (3, 1, 1),\n",
       " (3, 1, 2),\n",
       " (3, 1, 3),\n",
       " (3, 1, 4),\n",
       " (3, 2, 0),\n",
       " (3, 2, 1),\n",
       " (3, 2, 2),\n",
       " (3, 2, 3),\n",
       " (3, 2, 4),\n",
       " (3, 3, 0),\n",
       " (3, 3, 1),\n",
       " (3, 3, 2),\n",
       " (3, 3, 3),\n",
       " (3, 3, 4),\n",
       " (3, 4, 0),\n",
       " (3, 4, 1),\n",
       " (3, 4, 2),\n",
       " (3, 4, 3),\n",
       " (3, 4, 4),\n",
       " (4, 0, 0),\n",
       " (4, 0, 1),\n",
       " (4, 0, 2),\n",
       " (4, 0, 3),\n",
       " (4, 0, 4),\n",
       " (4, 1, 0),\n",
       " (4, 1, 1),\n",
       " (4, 1, 2),\n",
       " (4, 1, 3),\n",
       " (4, 1, 4),\n",
       " (4, 2, 0),\n",
       " (4, 2, 1),\n",
       " (4, 2, 2),\n",
       " (4, 2, 3),\n",
       " (4, 2, 4),\n",
       " (4, 3, 0),\n",
       " (4, 3, 1),\n",
       " (4, 3, 2),\n",
       " (4, 3, 3),\n",
       " (4, 3, 4),\n",
       " (4, 4, 0),\n",
       " (4, 4, 1),\n",
       " (4, 4, 2),\n",
       " (4, 4, 3),\n",
       " (4, 4, 4)]"
      ]
     },
     "execution_count": 40,
     "metadata": {},
     "output_type": "execute_result"
    }
   ],
   "source": [
    "import itertools\n",
    "p=d=q=range(0,5)\n",
    "pdq =list(itertools.product(p,d,q))\n",
    "pdq"
   ]
  },
  {
   "cell_type": "code",
   "execution_count": 41,
   "metadata": {
    "scrolled": false
   },
   "outputs": [
    {
     "name": "stdout",
     "output_type": "stream",
     "text": [
      "(0, 0, 0) 329.36820965909544\n",
      "(0, 0, 1) 331.1183888161328\n",
      "(0, 0, 2) 332.4165203901099\n",
      "(0, 0, 3) 334.3755218913467\n",
      "(0, 0, 4) 335.7332401562835\n",
      "(0, 1, 0) 357.07259610150385\n",
      "(0, 1, 1) 326.84067293064334\n",
      "(0, 1, 2) 328.75106954353214\n",
      "(0, 1, 3) 329.3424502567467\n",
      "(0, 2, 0) 407.7742857370131\n",
      "(0, 2, 1) 357.91139670162727\n",
      "(1, 0, 0) 331.1683558695425\n",
      "(1, 1, 0) 349.1758410437834\n",
      "(1, 1, 1) 328.77457038910813\n",
      "(1, 1, 2) 330.1738411355103\n",
      "(1, 1, 3) 328.7679862628311\n",
      "(1, 2, 0) 387.8803919172197\n",
      "(2, 0, 0) 332.6945619450744\n",
      "(2, 0, 1) 334.295057993084\n",
      "(2, 1, 0) 341.02898915192463\n",
      "(2, 1, 1) 329.90009835028957\n",
      "(2, 2, 0) 364.0526293399378\n",
      "(2, 2, 1) 343.5017504194593\n",
      "(3, 0, 0) 334.4162395509277\n",
      "(3, 0, 1) 336.0982711017259\n",
      "(3, 0, 2) 335.3090073812867\n",
      "(3, 1, 0) 342.8098875880795\n",
      "(3, 1, 1) 331.8048145225413\n",
      "(3, 1, 2) 333.4825564036908\n",
      "(3, 2, 0) 360.62974390982583\n",
      "(3, 2, 1) 345.3955108668377\n",
      "(4, 0, 0) 334.512520207282\n",
      "(4, 0, 1) 336.1071120314356\n",
      "(4, 0, 2) 336.4001387268063\n",
      "(4, 0, 3) 338.3955947275359\n",
      "(4, 1, 0) 343.7987078563285\n",
      "(4, 1, 1) 330.48674987480354\n",
      "(4, 1, 2) 330.6493495303198\n",
      "(4, 2, 0) 362.16963475098754\n",
      "(4, 2, 1) 346.6307853095225\n"
     ]
    }
   ],
   "source": [
    "import warnings\n",
    "warnings.filterwarnings('ignore') \n",
    "\n",
    "for param in pdq:\n",
    "    try:\n",
    "        model_arima =ARIMA(train,order=param)\n",
    "        model_arima_fit=model_arima.fit()\n",
    "        print(param, model_arima_fit.aic)\n",
    "    except:\n",
    "        continue"
   ]
  },
  {
   "cell_type": "code",
   "execution_count": 65,
   "metadata": {},
   "outputs": [
    {
     "name": "stdout",
     "output_type": "stream",
     "text": [
      "predicted=13.01, expected=9.00\n",
      "predicted=12.70, expected=16.00\n",
      "predicted=12.89, expected=8.00\n",
      "predicted=13.74, expected=10.00\n",
      "predicted=14.20, expected=14.00\n",
      "predicted=14.34, expected=12.00\n",
      "predicted=14.51, expected=13.00\n",
      "predicted=14.54, expected=9.00\n",
      "predicted=14.85, expected=11.00\n",
      "predicted=14.87, expected=17.00\n",
      "predicted=14.77, expected=20.00\n",
      "predicted=14.24, expected=18.00\n",
      "predicted=13.49, expected=21.00\n",
      "predicted=14.84, expected=18.00\n",
      "predicted=14.85, expected=12.00\n",
      "predicted=14.41, expected=14.00\n",
      "predicted=14.80, expected=17.00\n",
      "predicted=15.04, expected=6.00\n",
      "predicted=13.88, expected=16.00\n",
      "predicted=15.12, expected=11.00\n",
      "predicted=14.26, expected=13.00\n",
      "predicted=14.55, expected=15.00\n",
      "predicted=14.52, expected=12.00\n",
      "predicted=14.38, expected=15.00\n",
      "predicted=14.61, expected=21.00\n",
      "Test RMSE: 3.982\n"
     ]
    },
    {
     "data": {
      "image/png": "[encoded data removed]",
      "text/plain": [
       "<Figure size 432x288 with 1 Axes>"
      ]
     },
     "metadata": {
      "needs_background": "light"
     },
     "output_type": "display_data"
    }
   ],
   "source": [
    "from math import sqrt\n",
    "c_hat=0\n",
    "c_obs=0\n",
    "\n",
    "history = [x for x in train]\n",
    "predictions = list()\n",
    "\n",
    "# walk-forward validation\n",
    "\n",
    "for t in range(len(test)):\n",
    "    \n",
    "    model = ARIMA(history, order=(1,1,3))\n",
    "    model_fit = model.fit()\n",
    "    output = model_fit.forecast(alpha=10)\n",
    "    yhat = output[0]\n",
    "    predictions.append(yhat)\n",
    "    obs = test[t]\n",
    "    history.append(obs)\n",
    "    c_hat = c_hat + yhat\n",
    "    c_obs = c_obs + obs\n",
    "    print('predicted=%.2f, expected=%.2f' % ( yhat, obs))\n",
    "    \n",
    "# evaluate forecasts\n",
    "\n",
    "rmse = sqrt(mean_squared_error(test, predictions))\n",
    "print('Test RMSE: %.3f' % rmse)\n",
    "# plot forecasts against actual outcomes\n",
    "plt.grid()\n",
    "plt.plot(test[2:],marker='o')\n",
    "plt.plot(predictions, color='green',marker='x')\n",
    "plt.show()"
   ]
  },
  {
   "cell_type": "code",
   "execution_count": null,
   "metadata": {},
   "outputs": [],
   "source": []
  }
 ],
 "metadata": {
  "kernelspec": {
   "display_name": "Python 3",
   "language": "python",
   "name": "python3"
  },
  "language_info": {
   "codemirror_mode": {
    "name": "ipython",
    "version": 3
   },
   "file_extension": ".py",
   "mimetype": "text/x-python",
   "name": "python",
   "nbconvert_exporter": "python",
   "pygments_lexer": "ipython3",
   "version": "3.7.4"
  }
 },
 "nbformat": 4,
 "nbformat_minor": 2
}
