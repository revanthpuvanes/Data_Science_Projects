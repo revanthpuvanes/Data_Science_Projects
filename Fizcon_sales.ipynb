{
 "cells": [
  {
   "cell_type": "code",
   "execution_count": 1,
   "metadata": {},
   "outputs": [],
   "source": [
    "import pandas as pd\n",
    "import numpy as np\n",
    "from sklearn.metrics import accuracy_score,classification_report,roc_auc_score,roc_curve\n",
    "from collections import Counter\n",
    "import seaborn as sb\n",
    "import scipy.stats\n",
    "import matplotlib.pyplot as plt\n",
    "from matplotlib import rcParams\n",
    "import warnings\n",
    "warnings.filterwarnings(\"ignore\")"
   ]
  },
  {
   "cell_type": "markdown",
   "metadata": {},
   "source": [
    "### already exported from sql and saved as csv file"
   ]
  },
  {
   "cell_type": "code",
   "execution_count": 2,
   "metadata": {},
   "outputs": [
    {
     "data": {
      "text/html": [
       "<div>\n",
       "<style scoped>\n",
       "    .dataframe tbody tr th:only-of-type {\n",
       "        vertical-align: middle;\n",
       "    }\n",
       "\n",
       "    .dataframe tbody tr th {\n",
       "        vertical-align: top;\n",
       "    }\n",
       "\n",
       "    .dataframe thead th {\n",
       "        text-align: right;\n",
       "    }\n",
       "</style>\n",
       "<table border=\"1\" class=\"dataframe\">\n",
       "  <thead>\n",
       "    <tr style=\"text-align: right;\">\n",
       "      <th></th>\n",
       "      <th>Created</th>\n",
       "      <th>Product_ID</th>\n",
       "      <th>Source</th>\n",
       "      <th>Mobile</th>\n",
       "      <th>EMAIL</th>\n",
       "      <th>Sales_Agent</th>\n",
       "      <th>Location</th>\n",
       "      <th>Delivery_Mode</th>\n",
       "      <th>Status</th>\n",
       "    </tr>\n",
       "  </thead>\n",
       "  <tbody>\n",
       "    <tr>\n",
       "      <th>0</th>\n",
       "      <td>14-11-2018 10:05</td>\n",
       "      <td>NaN</td>\n",
       "      <td>Website</td>\n",
       "      <td>984XXXXXXX</td>\n",
       "      <td>aXXXXXXX@gmail.com</td>\n",
       "      <td>Sales-Agent-11</td>\n",
       "      <td>NaN</td>\n",
       "      <td>Mode-5</td>\n",
       "      <td>Open</td>\n",
       "    </tr>\n",
       "    <tr>\n",
       "      <th>1</th>\n",
       "      <td>14-11-2018 09:22</td>\n",
       "      <td>NaN</td>\n",
       "      <td>Website</td>\n",
       "      <td>XXXXXXX</td>\n",
       "      <td>#VALUE!</td>\n",
       "      <td>Sales-Agent-10</td>\n",
       "      <td>NaN</td>\n",
       "      <td>Mode-5</td>\n",
       "      <td>Open</td>\n",
       "    </tr>\n",
       "    <tr>\n",
       "      <th>2</th>\n",
       "      <td>14-11-2018 09:21</td>\n",
       "      <td>NaN</td>\n",
       "      <td>Website</td>\n",
       "      <td>XXXXXXX</td>\n",
       "      <td>dXXXXXXX@yahoo.com</td>\n",
       "      <td>Sales-Agent-10</td>\n",
       "      <td>NaN</td>\n",
       "      <td>Mode-5</td>\n",
       "      <td>Open</td>\n",
       "    </tr>\n",
       "    <tr>\n",
       "      <th>3</th>\n",
       "      <td>14-11-2018 08:46</td>\n",
       "      <td>NaN</td>\n",
       "      <td>Website</td>\n",
       "      <td>XXXXXXX</td>\n",
       "      <td>wXXXXXXX@gmail.com</td>\n",
       "      <td>Sales-Agent-10</td>\n",
       "      <td>NaN</td>\n",
       "      <td>Mode-5</td>\n",
       "      <td>Open</td>\n",
       "    </tr>\n",
       "    <tr>\n",
       "      <th>4</th>\n",
       "      <td>14-11-2018 07:34</td>\n",
       "      <td>NaN</td>\n",
       "      <td>Website</td>\n",
       "      <td>XXXXXXX</td>\n",
       "      <td>cXXXXXXX@gmail.com</td>\n",
       "      <td>Sales-Agent-10</td>\n",
       "      <td>NaN</td>\n",
       "      <td>Mode-5</td>\n",
       "      <td>Open</td>\n",
       "    </tr>\n",
       "  </tbody>\n",
       "</table>\n",
       "</div>"
      ],
      "text/plain": [
       "            Created  Product_ID   Source      Mobile               EMAIL  \\\n",
       "0  14-11-2018 10:05         NaN  Website  984XXXXXXX  aXXXXXXX@gmail.com   \n",
       "1  14-11-2018 09:22         NaN  Website     XXXXXXX             #VALUE!   \n",
       "2  14-11-2018 09:21         NaN  Website     XXXXXXX  dXXXXXXX@yahoo.com   \n",
       "3  14-11-2018 08:46         NaN  Website     XXXXXXX  wXXXXXXX@gmail.com   \n",
       "4  14-11-2018 07:34         NaN  Website     XXXXXXX  cXXXXXXX@gmail.com   \n",
       "\n",
       "      Sales_Agent Location Delivery_Mode Status  \n",
       "0  Sales-Agent-11      NaN        Mode-5   Open  \n",
       "1  Sales-Agent-10      NaN        Mode-5   Open  \n",
       "2  Sales-Agent-10      NaN        Mode-5   Open  \n",
       "3  Sales-Agent-10      NaN        Mode-5   Open  \n",
       "4  Sales-Agent-10      NaN        Mode-5   Open  "
      ]
     },
     "execution_count": 2,
     "metadata": {},
     "output_type": "execute_result"
    }
   ],
   "source": [
    "data = pd.read_csv('sales.csv')\n",
    "data.head()"
   ]
  },
  {
   "cell_type": "code",
   "execution_count": 3,
   "metadata": {},
   "outputs": [
    {
     "data": {
      "text/plain": [
       "(7422, 9)"
      ]
     },
     "execution_count": 3,
     "metadata": {},
     "output_type": "execute_result"
    }
   ],
   "source": [
    "data.shape"
   ]
  },
  {
   "cell_type": "code",
   "execution_count": 4,
   "metadata": {
    "scrolled": true
   },
   "outputs": [
    {
     "name": "stdout",
     "output_type": "stream",
     "text": [
      "<class 'pandas.core.frame.DataFrame'>\n",
      "RangeIndex: 7422 entries, 0 to 7421\n",
      "Data columns (total 9 columns):\n",
      " #   Column         Non-Null Count  Dtype  \n",
      "---  ------         --------------  -----  \n",
      " 0   Created        7422 non-null   object \n",
      " 1   Product_ID     7364 non-null   float64\n",
      " 2   Source         7405 non-null   object \n",
      " 3   Mobile         5612 non-null   object \n",
      " 4   EMAIL          7422 non-null   object \n",
      " 5   Sales_Agent    7399 non-null   object \n",
      " 6   Location       7364 non-null   object \n",
      " 7   Delivery_Mode  7422 non-null   object \n",
      " 8   Status         7422 non-null   object \n",
      "dtypes: float64(1), object(8)\n",
      "memory usage: 522.0+ KB\n"
     ]
    }
   ],
   "source": [
    "data.info()"
   ]
  },
  {
   "cell_type": "code",
   "execution_count": 5,
   "metadata": {},
   "outputs": [
    {
     "data": {
      "text/plain": [
       "Created             0\n",
       "Product_ID         58\n",
       "Source             17\n",
       "Mobile           1810\n",
       "EMAIL               0\n",
       "Sales_Agent        23\n",
       "Location           58\n",
       "Delivery_Mode       0\n",
       "Status              0\n",
       "dtype: int64"
      ]
     },
     "execution_count": 5,
     "metadata": {},
     "output_type": "execute_result"
    }
   ],
   "source": [
    "data.isnull().sum()"
   ]
  },
  {
   "cell_type": "code",
   "execution_count": 6,
   "metadata": {},
   "outputs": [
    {
     "data": {
      "text/plain": [
       "Created           object\n",
       "Product_ID       float64\n",
       "Source            object\n",
       "Mobile            object\n",
       "EMAIL             object\n",
       "Sales_Agent       object\n",
       "Location          object\n",
       "Delivery_Mode     object\n",
       "Status            object\n",
       "dtype: object"
      ]
     },
     "execution_count": 6,
     "metadata": {},
     "output_type": "execute_result"
    }
   ],
   "source": [
    "data.dtypes"
   ]
  },
  {
   "cell_type": "code",
   "execution_count": 7,
   "metadata": {},
   "outputs": [
    {
     "data": {
      "text/plain": [
       "Junk Lead               1536\n",
       "Not Responding          1129\n",
       "CONVERTED                834\n",
       "Just Enquiry             760\n",
       "Potential                708\n",
       "Long Term                646\n",
       "In Progress Positive     643\n",
       "In Progress Negative     626\n",
       "LOST                     440\n",
       "Open                      82\n",
       "converted                 18\n",
       "Name: Status, dtype: int64"
      ]
     },
     "execution_count": 7,
     "metadata": {},
     "output_type": "execute_result"
    }
   ],
   "source": [
    "data['Status'].value_counts()"
   ]
  },
  {
   "cell_type": "code",
   "execution_count": 8,
   "metadata": {},
   "outputs": [
    {
     "data": {
      "text/plain": [
       "Mode-5    2975\n",
       "Mode-1    2627\n",
       "Mode-3    1688\n",
       "Mode-4     121\n",
       "Mode-2      11\n",
       "Name: Delivery_Mode, dtype: int64"
      ]
     },
     "execution_count": 8,
     "metadata": {},
     "output_type": "execute_result"
    }
   ],
   "source": [
    "data['Delivery_Mode'].value_counts()"
   ]
  },
  {
   "cell_type": "code",
   "execution_count": 9,
   "metadata": {},
   "outputs": [
    {
     "data": {
      "text/plain": [
       "Sales-Agent-4     1500\n",
       "Sales-Agent-11    1420\n",
       "Sales-Agent-5     1190\n",
       "Sales-Agent-9      879\n",
       "Sales-Agent-3      781\n",
       "Sales-Agent-7      736\n",
       "Sales-Agent-2      389\n",
       "Sales-Agent-12     269\n",
       "Sales-Agent-6      114\n",
       "Sales-Agent-8       68\n",
       "Sales-Agent-10      49\n",
       "Sales-Agent-1        4\n",
       "Name: Sales_Agent, dtype: int64"
      ]
     },
     "execution_count": 9,
     "metadata": {},
     "output_type": "execute_result"
    }
   ],
   "source": [
    "data['Sales_Agent'].value_counts()"
   ]
  },
  {
   "cell_type": "code",
   "execution_count": 10,
   "metadata": {},
   "outputs": [
    {
     "data": {
      "text/plain": [
       "array(['Mode-5', 'Mode-1', 'Mode-3', 'Mode-2', 'Mode-4'], dtype=object)"
      ]
     },
     "execution_count": 10,
     "metadata": {},
     "output_type": "execute_result"
    }
   ],
   "source": [
    "data['Delivery_Mode'].unique()"
   ]
  },
  {
   "cell_type": "code",
   "execution_count": 11,
   "metadata": {},
   "outputs": [
    {
     "data": {
      "text/plain": [
       "13"
      ]
     },
     "execution_count": 11,
     "metadata": {},
     "output_type": "execute_result"
    }
   ],
   "source": [
    "np.count_nonzero(data['Sales_Agent'].unique())"
   ]
  },
  {
   "cell_type": "code",
   "execution_count": 12,
   "metadata": {},
   "outputs": [
    {
     "data": {
      "text/plain": [
       "Other Locations    2500\n",
       "Bangalore          2084\n",
       "Chennai             909\n",
       "Hyderabad           528\n",
       "Delhi               471\n",
       "Mumbai              402\n",
       "Pune                142\n",
       "UAE                  79\n",
       "Trivandrum           58\n",
       "Kolkata              55\n",
       "USA                  45\n",
       "UK                   41\n",
       "AUSTRALIA            25\n",
       "Singapore            17\n",
       "Malaysia              4\n",
       "EUROPE                3\n",
       "Howrah                1\n",
       "Name: Location, dtype: int64"
      ]
     },
     "execution_count": 12,
     "metadata": {},
     "output_type": "execute_result"
    }
   ],
   "source": [
    "data['Location'].value_counts()"
   ]
  },
  {
   "cell_type": "code",
   "execution_count": 13,
   "metadata": {},
   "outputs": [
    {
     "data": {
      "text/plain": [
       "Call                             2547\n",
       "Live Chat-Direct                 1834\n",
       "Website                          1594\n",
       "Live Chat-Google Organic          274\n",
       "Live Chat -PPC                    249\n",
       "Live Chat-Blog                    237\n",
       "Customer Referral                 180\n",
       "US Website                        137\n",
       "Just Dial                          56\n",
       "Existing Client                    51\n",
       "Live Chat-CPC                      50\n",
       "Personal Contact                   50\n",
       "By Recommendation                  32\n",
       "CRM form                           23\n",
       "Existing Customer                  22\n",
       "Live Chat-Google Ads               21\n",
       "Campaign                           19\n",
       "E-mail Campaign                    12\n",
       "Live Chat-Adwords Remarketing       7\n",
       "Live Chat-Youtube                   2\n",
       "Other                               2\n",
       "Live Chat-Quora                     2\n",
       "SMS Campaign                        2\n",
       "Live Chat-Justdial                  1\n",
       "E-Mail Message                      1\n",
       "Name: Source, dtype: int64"
      ]
     },
     "execution_count": 13,
     "metadata": {},
     "output_type": "execute_result"
    }
   ],
   "source": [
    "data['Source'].value_counts()"
   ]
  },
  {
   "cell_type": "code",
   "execution_count": 14,
   "metadata": {},
   "outputs": [
    {
     "data": {
      "text/plain": [
       "26"
      ]
     },
     "execution_count": 14,
     "metadata": {},
     "output_type": "execute_result"
    }
   ],
   "source": [
    "np.count_nonzero(data['Source'].unique())"
   ]
  },
  {
   "cell_type": "code",
   "execution_count": 15,
   "metadata": {
    "scrolled": true
   },
   "outputs": [
    {
     "data": {
      "text/plain": [
       "18.0    1711\n",
       "15.0    1518\n",
       "19.0    1189\n",
       "9.0      992\n",
       "27.0     739\n",
       "5.0      487\n",
       "10.0     168\n",
       "1.0      105\n",
       "20.0     102\n",
       "25.0      90\n",
       "21.0      66\n",
       "2.0       38\n",
       "12.0      36\n",
       "26.0      31\n",
       "14.0      27\n",
       "11.0      12\n",
       "22.0       8\n",
       "6.0        7\n",
       "17.0       7\n",
       "3.0        7\n",
       "8.0        6\n",
       "13.0       5\n",
       "16.0       3\n",
       "24.0       3\n",
       "0.0        2\n",
       "23.0       2\n",
       "28.0       1\n",
       "7.0        1\n",
       "4.0        1\n",
       "Name: Product_ID, dtype: int64"
      ]
     },
     "execution_count": 15,
     "metadata": {},
     "output_type": "execute_result"
    }
   ],
   "source": [
    "data['Product_ID'].value_counts()"
   ]
  },
  {
   "cell_type": "markdown",
   "metadata": {},
   "source": [
    "## EDA"
   ]
  },
  {
   "cell_type": "code",
   "execution_count": 16,
   "metadata": {},
   "outputs": [],
   "source": [
    "df = pd.DataFrame(data)"
   ]
  },
  {
   "cell_type": "code",
   "execution_count": 17,
   "metadata": {
    "scrolled": false
   },
   "outputs": [
    {
     "data": {
      "text/html": [
       "<div>\n",
       "<style scoped>\n",
       "    .dataframe tbody tr th:only-of-type {\n",
       "        vertical-align: middle;\n",
       "    }\n",
       "\n",
       "    .dataframe tbody tr th {\n",
       "        vertical-align: top;\n",
       "    }\n",
       "\n",
       "    .dataframe thead th {\n",
       "        text-align: right;\n",
       "    }\n",
       "</style>\n",
       "<table border=\"1\" class=\"dataframe\">\n",
       "  <thead>\n",
       "    <tr style=\"text-align: right;\">\n",
       "      <th></th>\n",
       "      <th>Created</th>\n",
       "      <th>Product_ID</th>\n",
       "      <th>Source</th>\n",
       "      <th>Mobile</th>\n",
       "      <th>EMAIL</th>\n",
       "      <th>Sales_Agent</th>\n",
       "      <th>Location</th>\n",
       "      <th>Delivery_Mode</th>\n",
       "      <th>Status</th>\n",
       "    </tr>\n",
       "  </thead>\n",
       "  <tbody>\n",
       "    <tr>\n",
       "      <th>0</th>\n",
       "      <td>14-11-2018 10:05</td>\n",
       "      <td>NaN</td>\n",
       "      <td>Website</td>\n",
       "      <td>984XXXXXXX</td>\n",
       "      <td>aXXXXXXX@gmail.com</td>\n",
       "      <td>Sales-Agent-11</td>\n",
       "      <td>NaN</td>\n",
       "      <td>Mode-5</td>\n",
       "      <td>Open</td>\n",
       "    </tr>\n",
       "    <tr>\n",
       "      <th>1</th>\n",
       "      <td>14-11-2018 09:22</td>\n",
       "      <td>NaN</td>\n",
       "      <td>Website</td>\n",
       "      <td>XXXXXXX</td>\n",
       "      <td>#VALUE!</td>\n",
       "      <td>Sales-Agent-10</td>\n",
       "      <td>NaN</td>\n",
       "      <td>Mode-5</td>\n",
       "      <td>Open</td>\n",
       "    </tr>\n",
       "    <tr>\n",
       "      <th>2</th>\n",
       "      <td>14-11-2018 09:21</td>\n",
       "      <td>NaN</td>\n",
       "      <td>Website</td>\n",
       "      <td>XXXXXXX</td>\n",
       "      <td>dXXXXXXX@yahoo.com</td>\n",
       "      <td>Sales-Agent-10</td>\n",
       "      <td>NaN</td>\n",
       "      <td>Mode-5</td>\n",
       "      <td>Open</td>\n",
       "    </tr>\n",
       "    <tr>\n",
       "      <th>3</th>\n",
       "      <td>14-11-2018 08:46</td>\n",
       "      <td>NaN</td>\n",
       "      <td>Website</td>\n",
       "      <td>XXXXXXX</td>\n",
       "      <td>wXXXXXXX@gmail.com</td>\n",
       "      <td>Sales-Agent-10</td>\n",
       "      <td>NaN</td>\n",
       "      <td>Mode-5</td>\n",
       "      <td>Open</td>\n",
       "    </tr>\n",
       "    <tr>\n",
       "      <th>4</th>\n",
       "      <td>14-11-2018 07:34</td>\n",
       "      <td>NaN</td>\n",
       "      <td>Website</td>\n",
       "      <td>XXXXXXX</td>\n",
       "      <td>cXXXXXXX@gmail.com</td>\n",
       "      <td>Sales-Agent-10</td>\n",
       "      <td>NaN</td>\n",
       "      <td>Mode-5</td>\n",
       "      <td>Open</td>\n",
       "    </tr>\n",
       "  </tbody>\n",
       "</table>\n",
       "</div>"
      ],
      "text/plain": [
       "            Created  Product_ID   Source      Mobile               EMAIL  \\\n",
       "0  14-11-2018 10:05         NaN  Website  984XXXXXXX  aXXXXXXX@gmail.com   \n",
       "1  14-11-2018 09:22         NaN  Website     XXXXXXX             #VALUE!   \n",
       "2  14-11-2018 09:21         NaN  Website     XXXXXXX  dXXXXXXX@yahoo.com   \n",
       "3  14-11-2018 08:46         NaN  Website     XXXXXXX  wXXXXXXX@gmail.com   \n",
       "4  14-11-2018 07:34         NaN  Website     XXXXXXX  cXXXXXXX@gmail.com   \n",
       "\n",
       "      Sales_Agent Location Delivery_Mode Status  \n",
       "0  Sales-Agent-11      NaN        Mode-5   Open  \n",
       "1  Sales-Agent-10      NaN        Mode-5   Open  \n",
       "2  Sales-Agent-10      NaN        Mode-5   Open  \n",
       "3  Sales-Agent-10      NaN        Mode-5   Open  \n",
       "4  Sales-Agent-10      NaN        Mode-5   Open  "
      ]
     },
     "execution_count": 17,
     "metadata": {},
     "output_type": "execute_result"
    }
   ],
   "source": [
    "df.head()"
   ]
  },
  {
   "cell_type": "code",
   "execution_count": 18,
   "metadata": {},
   "outputs": [
    {
     "data": {
      "text/html": [
       "<div>\n",
       "<style scoped>\n",
       "    .dataframe tbody tr th:only-of-type {\n",
       "        vertical-align: middle;\n",
       "    }\n",
       "\n",
       "    .dataframe tbody tr th {\n",
       "        vertical-align: top;\n",
       "    }\n",
       "\n",
       "    .dataframe thead th {\n",
       "        text-align: right;\n",
       "    }\n",
       "</style>\n",
       "<table border=\"1\" class=\"dataframe\">\n",
       "  <thead>\n",
       "    <tr style=\"text-align: right;\">\n",
       "      <th></th>\n",
       "      <th>Product_ID</th>\n",
       "      <th>Source</th>\n",
       "      <th>Sales_Agent</th>\n",
       "      <th>Location</th>\n",
       "      <th>Delivery_Mode</th>\n",
       "      <th>Status</th>\n",
       "    </tr>\n",
       "  </thead>\n",
       "  <tbody>\n",
       "    <tr>\n",
       "      <th>0</th>\n",
       "      <td>NaN</td>\n",
       "      <td>Website</td>\n",
       "      <td>Sales-Agent-11</td>\n",
       "      <td>NaN</td>\n",
       "      <td>Mode-5</td>\n",
       "      <td>Open</td>\n",
       "    </tr>\n",
       "    <tr>\n",
       "      <th>1</th>\n",
       "      <td>NaN</td>\n",
       "      <td>Website</td>\n",
       "      <td>Sales-Agent-10</td>\n",
       "      <td>NaN</td>\n",
       "      <td>Mode-5</td>\n",
       "      <td>Open</td>\n",
       "    </tr>\n",
       "    <tr>\n",
       "      <th>2</th>\n",
       "      <td>NaN</td>\n",
       "      <td>Website</td>\n",
       "      <td>Sales-Agent-10</td>\n",
       "      <td>NaN</td>\n",
       "      <td>Mode-5</td>\n",
       "      <td>Open</td>\n",
       "    </tr>\n",
       "    <tr>\n",
       "      <th>3</th>\n",
       "      <td>NaN</td>\n",
       "      <td>Website</td>\n",
       "      <td>Sales-Agent-10</td>\n",
       "      <td>NaN</td>\n",
       "      <td>Mode-5</td>\n",
       "      <td>Open</td>\n",
       "    </tr>\n",
       "    <tr>\n",
       "      <th>4</th>\n",
       "      <td>NaN</td>\n",
       "      <td>Website</td>\n",
       "      <td>Sales-Agent-10</td>\n",
       "      <td>NaN</td>\n",
       "      <td>Mode-5</td>\n",
       "      <td>Open</td>\n",
       "    </tr>\n",
       "  </tbody>\n",
       "</table>\n",
       "</div>"
      ],
      "text/plain": [
       "   Product_ID   Source     Sales_Agent Location Delivery_Mode Status\n",
       "0         NaN  Website  Sales-Agent-11      NaN        Mode-5   Open\n",
       "1         NaN  Website  Sales-Agent-10      NaN        Mode-5   Open\n",
       "2         NaN  Website  Sales-Agent-10      NaN        Mode-5   Open\n",
       "3         NaN  Website  Sales-Agent-10      NaN        Mode-5   Open\n",
       "4         NaN  Website  Sales-Agent-10      NaN        Mode-5   Open"
      ]
     },
     "execution_count": 18,
     "metadata": {},
     "output_type": "execute_result"
    }
   ],
   "source": [
    "delete = ['Created','Mobile','EMAIL']\n",
    "df.drop(delete,inplace = True,axis=1)\n",
    "df.head()"
   ]
  },
  {
   "cell_type": "code",
   "execution_count": 19,
   "metadata": {},
   "outputs": [
    {
     "data": {
      "text/plain": [
       "Product_ID       58\n",
       "Source           17\n",
       "Sales_Agent      23\n",
       "Location         58\n",
       "Delivery_Mode     0\n",
       "Status            0\n",
       "dtype: int64"
      ]
     },
     "execution_count": 19,
     "metadata": {},
     "output_type": "execute_result"
    }
   ],
   "source": [
    "df.isnull().sum()"
   ]
  },
  {
   "cell_type": "code",
   "execution_count": 20,
   "metadata": {
    "scrolled": true
   },
   "outputs": [
    {
     "data": {
      "text/html": [
       "<div>\n",
       "<style scoped>\n",
       "    .dataframe tbody tr th:only-of-type {\n",
       "        vertical-align: middle;\n",
       "    }\n",
       "\n",
       "    .dataframe tbody tr th {\n",
       "        vertical-align: top;\n",
       "    }\n",
       "\n",
       "    .dataframe thead th {\n",
       "        text-align: right;\n",
       "    }\n",
       "</style>\n",
       "<table border=\"1\" class=\"dataframe\">\n",
       "  <thead>\n",
       "    <tr style=\"text-align: right;\">\n",
       "      <th></th>\n",
       "      <th>Product_ID</th>\n",
       "    </tr>\n",
       "  </thead>\n",
       "  <tbody>\n",
       "    <tr>\n",
       "      <th>count</th>\n",
       "      <td>7364.000000</td>\n",
       "    </tr>\n",
       "    <tr>\n",
       "      <th>mean</th>\n",
       "      <td>15.947311</td>\n",
       "    </tr>\n",
       "    <tr>\n",
       "      <th>std</th>\n",
       "      <td>6.072937</td>\n",
       "    </tr>\n",
       "    <tr>\n",
       "      <th>min</th>\n",
       "      <td>0.000000</td>\n",
       "    </tr>\n",
       "    <tr>\n",
       "      <th>25%</th>\n",
       "      <td>12.000000</td>\n",
       "    </tr>\n",
       "    <tr>\n",
       "      <th>50%</th>\n",
       "      <td>18.000000</td>\n",
       "    </tr>\n",
       "    <tr>\n",
       "      <th>75%</th>\n",
       "      <td>19.000000</td>\n",
       "    </tr>\n",
       "    <tr>\n",
       "      <th>max</th>\n",
       "      <td>28.000000</td>\n",
       "    </tr>\n",
       "  </tbody>\n",
       "</table>\n",
       "</div>"
      ],
      "text/plain": [
       "        Product_ID\n",
       "count  7364.000000\n",
       "mean     15.947311\n",
       "std       6.072937\n",
       "min       0.000000\n",
       "25%      12.000000\n",
       "50%      18.000000\n",
       "75%      19.000000\n",
       "max      28.000000"
      ]
     },
     "execution_count": 20,
     "metadata": {},
     "output_type": "execute_result"
    }
   ],
   "source": [
    "df.describe()"
   ]
  },
  {
   "cell_type": "code",
   "execution_count": 21,
   "metadata": {},
   "outputs": [
    {
     "data": {
      "image/png": "[encoded data removed]",
      "text/plain": [
       "<Figure size 1440x360 with 1 Axes>"
      ]
     },
     "metadata": {},
     "output_type": "display_data"
    }
   ],
   "source": [
    "rcParams['figure.figsize'] = 20,5\n",
    "sb.set(style='whitegrid')\n",
    "sb.barplot(x = df['Status'].value_counts().index,y = df['Status'].value_counts().values,orient=\"v\")\n",
    "plt.title('Types of status',fontsize = '20',color = 'green')\n",
    "plt.xlabel('values',fontsize='20')\n",
    "plt.ylabel('counts',fontsize='20')\n",
    "plt.show()"
   ]
  },
  {
   "cell_type": "code",
   "execution_count": 22,
   "metadata": {},
   "outputs": [
    {
     "data": {
      "image/png": "[encoded data removed]",
      "text/plain": [
       "<Figure size 720x576 with 1 Axes>"
      ]
     },
     "metadata": {},
     "output_type": "display_data"
    }
   ],
   "source": [
    "rcParams['figure.figsize'] = 10,8\n",
    "labels = df['Delivery_Mode'].value_counts().index\n",
    "values = df['Delivery_Mode'].value_counts().values\n",
    "colors = ['red','yellow','orange','pink','black']\n",
    "explode = [0,0,0,0,0.1]\n",
    "plt.pie(values,labels=labels,colors = colors,explode=explode,autopct='%1.1f')\n",
    "plt.title('Types of Delivery mode',fontsize='20')\n",
    "plt.show()"
   ]
  },
  {
   "cell_type": "code",
   "execution_count": 23,
   "metadata": {
    "scrolled": true
   },
   "outputs": [
    {
     "data": {
      "image/png": "[encoded data removed]",
      "text/plain": [
       "<Figure size 1440x360 with 1 Axes>"
      ]
     },
     "metadata": {},
     "output_type": "display_data"
    }
   ],
   "source": [
    "rcParams['figure.figsize'] = 20,5\n",
    "sb.barplot(x = df['Sales_Agent'].value_counts().index,y = df['Sales_Agent'].value_counts().values)\n",
    "plt.title('Sales agent record',fontsize='20',color='blue')\n",
    "plt.xlabel('persons',fontsize='20')\n",
    "plt.ylabel('sales',fontsize='20')\n",
    "plt.show()"
   ]
  },
  {
   "cell_type": "code",
   "execution_count": 24,
   "metadata": {
    "scrolled": true
   },
   "outputs": [
    {
     "data": {
      "image/png": "[encoded data removed]",
      "text/plain": [
       "<Figure size 1440x360 with 1 Axes>"
      ]
     },
     "metadata": {},
     "output_type": "display_data"
    }
   ],
   "source": [
    "rcParams['figure.figsize'] = 20,5\n",
    "top = sb.barplot(x = df['Location'].value_counts().index,y = df['Location'].value_counts().values)\n",
    "plt.title('Location wise sales record',fontsize='20')\n",
    "plt.xlabel('city',fontsize='20')\n",
    "plt.ylabel('sales count',fontsize='20')\n",
    "plt.show()"
   ]
  },
  {
   "cell_type": "code",
   "execution_count": 25,
   "metadata": {},
   "outputs": [
    {
     "data": {
      "image/png": "[encoded data removed]",
      "text/plain": [
       "<Figure size 720x720 with 1 Axes>"
      ]
     },
     "metadata": {},
     "output_type": "display_data"
    }
   ],
   "source": [
    "rcParams['figure.figsize'] = 10,10\n",
    "sb.barplot(x = df['Source'].value_counts().values,y = df['Source'].value_counts().index)\n",
    "plt.title('Source for purchases',fontsize='20')\n",
    "plt.xlabel('count',fontsize='20')\n",
    "plt.ylabel('source',fontsize='20')\n",
    "plt.show()"
   ]
  },
  {
   "cell_type": "code",
   "execution_count": 26,
   "metadata": {},
   "outputs": [
    {
     "data": {
      "text/html": [
       "<div>\n",
       "<style scoped>\n",
       "    .dataframe tbody tr th:only-of-type {\n",
       "        vertical-align: middle;\n",
       "    }\n",
       "\n",
       "    .dataframe tbody tr th {\n",
       "        vertical-align: top;\n",
       "    }\n",
       "\n",
       "    .dataframe thead th {\n",
       "        text-align: right;\n",
       "    }\n",
       "</style>\n",
       "<table border=\"1\" class=\"dataframe\">\n",
       "  <thead>\n",
       "    <tr style=\"text-align: right;\">\n",
       "      <th>Sales_Agent</th>\n",
       "      <th>Sales-Agent-10</th>\n",
       "      <th>Sales-Agent-11</th>\n",
       "      <th>Sales-Agent-12</th>\n",
       "      <th>Sales-Agent-2</th>\n",
       "      <th>Sales-Agent-3</th>\n",
       "      <th>Sales-Agent-4</th>\n",
       "      <th>Sales-Agent-5</th>\n",
       "      <th>Sales-Agent-6</th>\n",
       "      <th>Sales-Agent-7</th>\n",
       "      <th>Sales-Agent-8</th>\n",
       "      <th>Sales-Agent-9</th>\n",
       "    </tr>\n",
       "    <tr>\n",
       "      <th>Location</th>\n",
       "      <th></th>\n",
       "      <th></th>\n",
       "      <th></th>\n",
       "      <th></th>\n",
       "      <th></th>\n",
       "      <th></th>\n",
       "      <th></th>\n",
       "      <th></th>\n",
       "      <th></th>\n",
       "      <th></th>\n",
       "      <th></th>\n",
       "    </tr>\n",
       "  </thead>\n",
       "  <tbody>\n",
       "    <tr>\n",
       "      <th>AUSTRALIA</th>\n",
       "      <td>0</td>\n",
       "      <td>8</td>\n",
       "      <td>0</td>\n",
       "      <td>0</td>\n",
       "      <td>2</td>\n",
       "      <td>9</td>\n",
       "      <td>2</td>\n",
       "      <td>0</td>\n",
       "      <td>3</td>\n",
       "      <td>0</td>\n",
       "      <td>1</td>\n",
       "    </tr>\n",
       "    <tr>\n",
       "      <th>Bangalore</th>\n",
       "      <td>4</td>\n",
       "      <td>175</td>\n",
       "      <td>141</td>\n",
       "      <td>197</td>\n",
       "      <td>342</td>\n",
       "      <td>228</td>\n",
       "      <td>138</td>\n",
       "      <td>55</td>\n",
       "      <td>334</td>\n",
       "      <td>16</td>\n",
       "      <td>450</td>\n",
       "    </tr>\n",
       "    <tr>\n",
       "      <th>Chennai</th>\n",
       "      <td>0</td>\n",
       "      <td>208</td>\n",
       "      <td>20</td>\n",
       "      <td>40</td>\n",
       "      <td>78</td>\n",
       "      <td>207</td>\n",
       "      <td>171</td>\n",
       "      <td>11</td>\n",
       "      <td>68</td>\n",
       "      <td>8</td>\n",
       "      <td>97</td>\n",
       "    </tr>\n",
       "    <tr>\n",
       "      <th>Delhi</th>\n",
       "      <td>0</td>\n",
       "      <td>108</td>\n",
       "      <td>15</td>\n",
       "      <td>29</td>\n",
       "      <td>34</td>\n",
       "      <td>105</td>\n",
       "      <td>92</td>\n",
       "      <td>15</td>\n",
       "      <td>24</td>\n",
       "      <td>3</td>\n",
       "      <td>45</td>\n",
       "    </tr>\n",
       "    <tr>\n",
       "      <th>EUROPE</th>\n",
       "      <td>0</td>\n",
       "      <td>1</td>\n",
       "      <td>0</td>\n",
       "      <td>0</td>\n",
       "      <td>0</td>\n",
       "      <td>1</td>\n",
       "      <td>0</td>\n",
       "      <td>0</td>\n",
       "      <td>1</td>\n",
       "      <td>0</td>\n",
       "      <td>0</td>\n",
       "    </tr>\n",
       "    <tr>\n",
       "      <th>Howrah</th>\n",
       "      <td>0</td>\n",
       "      <td>0</td>\n",
       "      <td>0</td>\n",
       "      <td>0</td>\n",
       "      <td>0</td>\n",
       "      <td>0</td>\n",
       "      <td>1</td>\n",
       "      <td>0</td>\n",
       "      <td>0</td>\n",
       "      <td>0</td>\n",
       "      <td>0</td>\n",
       "    </tr>\n",
       "    <tr>\n",
       "      <th>Hyderabad</th>\n",
       "      <td>0</td>\n",
       "      <td>144</td>\n",
       "      <td>8</td>\n",
       "      <td>15</td>\n",
       "      <td>35</td>\n",
       "      <td>120</td>\n",
       "      <td>104</td>\n",
       "      <td>8</td>\n",
       "      <td>41</td>\n",
       "      <td>6</td>\n",
       "      <td>47</td>\n",
       "    </tr>\n",
       "    <tr>\n",
       "      <th>Kolkata</th>\n",
       "      <td>0</td>\n",
       "      <td>15</td>\n",
       "      <td>0</td>\n",
       "      <td>1</td>\n",
       "      <td>2</td>\n",
       "      <td>14</td>\n",
       "      <td>16</td>\n",
       "      <td>0</td>\n",
       "      <td>4</td>\n",
       "      <td>0</td>\n",
       "      <td>3</td>\n",
       "    </tr>\n",
       "    <tr>\n",
       "      <th>Malaysia</th>\n",
       "      <td>0</td>\n",
       "      <td>2</td>\n",
       "      <td>0</td>\n",
       "      <td>0</td>\n",
       "      <td>0</td>\n",
       "      <td>1</td>\n",
       "      <td>1</td>\n",
       "      <td>0</td>\n",
       "      <td>0</td>\n",
       "      <td>0</td>\n",
       "      <td>0</td>\n",
       "    </tr>\n",
       "    <tr>\n",
       "      <th>Mumbai</th>\n",
       "      <td>0</td>\n",
       "      <td>94</td>\n",
       "      <td>10</td>\n",
       "      <td>22</td>\n",
       "      <td>24</td>\n",
       "      <td>107</td>\n",
       "      <td>75</td>\n",
       "      <td>2</td>\n",
       "      <td>23</td>\n",
       "      <td>4</td>\n",
       "      <td>41</td>\n",
       "    </tr>\n",
       "    <tr>\n",
       "      <th>Other Locations</th>\n",
       "      <td>1</td>\n",
       "      <td>569</td>\n",
       "      <td>75</td>\n",
       "      <td>77</td>\n",
       "      <td>243</td>\n",
       "      <td>577</td>\n",
       "      <td>505</td>\n",
       "      <td>22</td>\n",
       "      <td>212</td>\n",
       "      <td>28</td>\n",
       "      <td>178</td>\n",
       "    </tr>\n",
       "    <tr>\n",
       "      <th>Pune</th>\n",
       "      <td>0</td>\n",
       "      <td>34</td>\n",
       "      <td>0</td>\n",
       "      <td>7</td>\n",
       "      <td>6</td>\n",
       "      <td>42</td>\n",
       "      <td>33</td>\n",
       "      <td>0</td>\n",
       "      <td>11</td>\n",
       "      <td>0</td>\n",
       "      <td>6</td>\n",
       "    </tr>\n",
       "    <tr>\n",
       "      <th>Singapore</th>\n",
       "      <td>0</td>\n",
       "      <td>3</td>\n",
       "      <td>0</td>\n",
       "      <td>0</td>\n",
       "      <td>1</td>\n",
       "      <td>8</td>\n",
       "      <td>4</td>\n",
       "      <td>0</td>\n",
       "      <td>0</td>\n",
       "      <td>0</td>\n",
       "      <td>1</td>\n",
       "    </tr>\n",
       "    <tr>\n",
       "      <th>Trivandrum</th>\n",
       "      <td>0</td>\n",
       "      <td>22</td>\n",
       "      <td>0</td>\n",
       "      <td>0</td>\n",
       "      <td>3</td>\n",
       "      <td>19</td>\n",
       "      <td>7</td>\n",
       "      <td>1</td>\n",
       "      <td>3</td>\n",
       "      <td>1</td>\n",
       "      <td>2</td>\n",
       "    </tr>\n",
       "    <tr>\n",
       "      <th>UAE</th>\n",
       "      <td>0</td>\n",
       "      <td>14</td>\n",
       "      <td>0</td>\n",
       "      <td>0</td>\n",
       "      <td>5</td>\n",
       "      <td>25</td>\n",
       "      <td>24</td>\n",
       "      <td>0</td>\n",
       "      <td>5</td>\n",
       "      <td>0</td>\n",
       "      <td>5</td>\n",
       "    </tr>\n",
       "    <tr>\n",
       "      <th>UK</th>\n",
       "      <td>0</td>\n",
       "      <td>9</td>\n",
       "      <td>0</td>\n",
       "      <td>0</td>\n",
       "      <td>2</td>\n",
       "      <td>22</td>\n",
       "      <td>5</td>\n",
       "      <td>0</td>\n",
       "      <td>3</td>\n",
       "      <td>0</td>\n",
       "      <td>0</td>\n",
       "    </tr>\n",
       "    <tr>\n",
       "      <th>USA</th>\n",
       "      <td>0</td>\n",
       "      <td>10</td>\n",
       "      <td>0</td>\n",
       "      <td>1</td>\n",
       "      <td>3</td>\n",
       "      <td>12</td>\n",
       "      <td>10</td>\n",
       "      <td>0</td>\n",
       "      <td>4</td>\n",
       "      <td>2</td>\n",
       "      <td>3</td>\n",
       "    </tr>\n",
       "  </tbody>\n",
       "</table>\n",
       "</div>"
      ],
      "text/plain": [
       "Sales_Agent      Sales-Agent-10  Sales-Agent-11  Sales-Agent-12  \\\n",
       "Location                                                          \n",
       "AUSTRALIA                     0               8               0   \n",
       "Bangalore                     4             175             141   \n",
       "Chennai                       0             208              20   \n",
       "Delhi                         0             108              15   \n",
       "EUROPE                        0               1               0   \n",
       "Howrah                        0               0               0   \n",
       "Hyderabad                     0             144               8   \n",
       "Kolkata                       0              15               0   \n",
       "Malaysia                      0               2               0   \n",
       "Mumbai                        0              94              10   \n",
       "Other Locations               1             569              75   \n",
       "Pune                          0              34               0   \n",
       "Singapore                     0               3               0   \n",
       "Trivandrum                    0              22               0   \n",
       "UAE                           0              14               0   \n",
       "UK                            0               9               0   \n",
       "USA                           0              10               0   \n",
       "\n",
       "Sales_Agent      Sales-Agent-2  Sales-Agent-3  Sales-Agent-4  Sales-Agent-5  \\\n",
       "Location                                                                      \n",
       "AUSTRALIA                    0              2              9              2   \n",
       "Bangalore                  197            342            228            138   \n",
       "Chennai                     40             78            207            171   \n",
       "Delhi                       29             34            105             92   \n",
       "EUROPE                       0              0              1              0   \n",
       "Howrah                       0              0              0              1   \n",
       "Hyderabad                   15             35            120            104   \n",
       "Kolkata                      1              2             14             16   \n",
       "Malaysia                     0              0              1              1   \n",
       "Mumbai                      22             24            107             75   \n",
       "Other Locations             77            243            577            505   \n",
       "Pune                         7              6             42             33   \n",
       "Singapore                    0              1              8              4   \n",
       "Trivandrum                   0              3             19              7   \n",
       "UAE                          0              5             25             24   \n",
       "UK                           0              2             22              5   \n",
       "USA                          1              3             12             10   \n",
       "\n",
       "Sales_Agent      Sales-Agent-6  Sales-Agent-7  Sales-Agent-8  Sales-Agent-9  \n",
       "Location                                                                     \n",
       "AUSTRALIA                    0              3              0              1  \n",
       "Bangalore                   55            334             16            450  \n",
       "Chennai                     11             68              8             97  \n",
       "Delhi                       15             24              3             45  \n",
       "EUROPE                       0              1              0              0  \n",
       "Howrah                       0              0              0              0  \n",
       "Hyderabad                    8             41              6             47  \n",
       "Kolkata                      0              4              0              3  \n",
       "Malaysia                     0              0              0              0  \n",
       "Mumbai                       2             23              4             41  \n",
       "Other Locations             22            212             28            178  \n",
       "Pune                         0             11              0              6  \n",
       "Singapore                    0              0              0              1  \n",
       "Trivandrum                   1              3              1              2  \n",
       "UAE                          0              5              0              5  \n",
       "UK                           0              3              0              0  \n",
       "USA                          0              4              2              3  "
      ]
     },
     "execution_count": 26,
     "metadata": {},
     "output_type": "execute_result"
    }
   ],
   "source": [
    "sales = pd.crosstab(df.Location,df.Sales_Agent)\n",
    "sales"
   ]
  },
  {
   "cell_type": "code",
   "execution_count": 27,
   "metadata": {},
   "outputs": [
    {
     "data": {
      "text/plain": [
       "<matplotlib.axes._subplots.AxesSubplot at 0xc5fde262c8>"
      ]
     },
     "execution_count": 27,
     "metadata": {},
     "output_type": "execute_result"
    },
    {
     "data": {
      "image/png": "[encoded data removed]",
      "text/plain": [
       "<Figure size 720x1800 with 1 Axes>"
      ]
     },
     "metadata": {},
     "output_type": "display_data"
    }
   ],
   "source": [
    "rcParams['figure.figsize'] = 10,25\n",
    "sales.plot(kind='barh',grid=True)"
   ]
  },
  {
   "cell_type": "code",
   "execution_count": 28,
   "metadata": {},
   "outputs": [
    {
     "data": {
      "image/png": "[encoded data removed]",
      "text/plain": [
       "<Figure size 1080x360 with 1 Axes>"
      ]
     },
     "metadata": {},
     "output_type": "display_data"
    }
   ],
   "source": [
    "rcParams['figure.figsize'] = 15,5\n",
    "sb.barplot(x = df['Product_ID'].value_counts().index, y = df['Product_ID'].value_counts().values)\n",
    "plt.title('Sales count of each product ID',color = 'green',fontsize = '20')\n",
    "plt.xlabel('counts',color = 'blue',fontsize='20')\n",
    "plt.ylabel('Product ID',color = 'blue',fontsize='20')\n",
    "plt.show()"
   ]
  },
  {
   "cell_type": "markdown",
   "metadata": {},
   "source": [
    "## Cleaning the data"
   ]
  },
  {
   "cell_type": "code",
   "execution_count": 29,
   "metadata": {},
   "outputs": [
    {
     "data": {
      "text/html": [
       "<div>\n",
       "<style scoped>\n",
       "    .dataframe tbody tr th:only-of-type {\n",
       "        vertical-align: middle;\n",
       "    }\n",
       "\n",
       "    .dataframe tbody tr th {\n",
       "        vertical-align: top;\n",
       "    }\n",
       "\n",
       "    .dataframe thead th {\n",
       "        text-align: right;\n",
       "    }\n",
       "</style>\n",
       "<table border=\"1\" class=\"dataframe\">\n",
       "  <thead>\n",
       "    <tr style=\"text-align: right;\">\n",
       "      <th></th>\n",
       "      <th>Product_ID</th>\n",
       "      <th>Source</th>\n",
       "      <th>Sales_Agent</th>\n",
       "      <th>Location</th>\n",
       "      <th>Delivery_Mode</th>\n",
       "      <th>Status</th>\n",
       "    </tr>\n",
       "  </thead>\n",
       "  <tbody>\n",
       "    <tr>\n",
       "      <th>0</th>\n",
       "      <td>NaN</td>\n",
       "      <td>Website</td>\n",
       "      <td>Sales-Agent-11</td>\n",
       "      <td>NaN</td>\n",
       "      <td>Mode-5</td>\n",
       "      <td>Open</td>\n",
       "    </tr>\n",
       "    <tr>\n",
       "      <th>1</th>\n",
       "      <td>NaN</td>\n",
       "      <td>Website</td>\n",
       "      <td>Sales-Agent-10</td>\n",
       "      <td>NaN</td>\n",
       "      <td>Mode-5</td>\n",
       "      <td>Open</td>\n",
       "    </tr>\n",
       "  </tbody>\n",
       "</table>\n",
       "</div>"
      ],
      "text/plain": [
       "   Product_ID   Source     Sales_Agent Location Delivery_Mode Status\n",
       "0         NaN  Website  Sales-Agent-11      NaN        Mode-5   Open\n",
       "1         NaN  Website  Sales-Agent-10      NaN        Mode-5   Open"
      ]
     },
     "execution_count": 29,
     "metadata": {},
     "output_type": "execute_result"
    }
   ],
   "source": [
    "df.head(2)"
   ]
  },
  {
   "cell_type": "code",
   "execution_count": 30,
   "metadata": {
    "scrolled": true
   },
   "outputs": [
    {
     "data": {
      "text/plain": [
       "Product_ID       58\n",
       "Source           17\n",
       "Sales_Agent      23\n",
       "Location         58\n",
       "Delivery_Mode     0\n",
       "Status            0\n",
       "dtype: int64"
      ]
     },
     "execution_count": 30,
     "metadata": {},
     "output_type": "execute_result"
    }
   ],
   "source": [
    "df.isnull().sum()"
   ]
  },
  {
   "cell_type": "code",
   "execution_count": 31,
   "metadata": {},
   "outputs": [],
   "source": [
    "df.replace('',np.nan,inplace=True)"
   ]
  },
  {
   "cell_type": "code",
   "execution_count": 32,
   "metadata": {},
   "outputs": [],
   "source": [
    "df.dropna(axis=0,inplace=True)"
   ]
  },
  {
   "cell_type": "code",
   "execution_count": 33,
   "metadata": {},
   "outputs": [
    {
     "data": {
      "text/plain": [
       "(7328, 6)"
      ]
     },
     "execution_count": 33,
     "metadata": {},
     "output_type": "execute_result"
    }
   ],
   "source": [
    "df.shape"
   ]
  },
  {
   "cell_type": "code",
   "execution_count": 34,
   "metadata": {},
   "outputs": [],
   "source": [
    "df.reset_index(drop=True,inplace=True)"
   ]
  },
  {
   "cell_type": "code",
   "execution_count": 35,
   "metadata": {},
   "outputs": [
    {
     "data": {
      "text/html": [
       "<div>\n",
       "<style scoped>\n",
       "    .dataframe tbody tr th:only-of-type {\n",
       "        vertical-align: middle;\n",
       "    }\n",
       "\n",
       "    .dataframe tbody tr th {\n",
       "        vertical-align: top;\n",
       "    }\n",
       "\n",
       "    .dataframe thead th {\n",
       "        text-align: right;\n",
       "    }\n",
       "</style>\n",
       "<table border=\"1\" class=\"dataframe\">\n",
       "  <thead>\n",
       "    <tr style=\"text-align: right;\">\n",
       "      <th></th>\n",
       "      <th>Product_ID</th>\n",
       "      <th>Source</th>\n",
       "      <th>Sales_Agent</th>\n",
       "      <th>Location</th>\n",
       "      <th>Delivery_Mode</th>\n",
       "      <th>Status</th>\n",
       "    </tr>\n",
       "  </thead>\n",
       "  <tbody>\n",
       "    <tr>\n",
       "      <th>0</th>\n",
       "      <td>9.0</td>\n",
       "      <td>Live Chat-Google Organic</td>\n",
       "      <td>Sales-Agent-3</td>\n",
       "      <td>Bangalore</td>\n",
       "      <td>Mode-1</td>\n",
       "      <td>Potential</td>\n",
       "    </tr>\n",
       "    <tr>\n",
       "      <th>1</th>\n",
       "      <td>19.0</td>\n",
       "      <td>Call</td>\n",
       "      <td>Sales-Agent-4</td>\n",
       "      <td>Other Locations</td>\n",
       "      <td>Mode-5</td>\n",
       "      <td>Potential</td>\n",
       "    </tr>\n",
       "    <tr>\n",
       "      <th>2</th>\n",
       "      <td>18.0</td>\n",
       "      <td>Website</td>\n",
       "      <td>Sales-Agent-11</td>\n",
       "      <td>Trivandrum</td>\n",
       "      <td>Mode-1</td>\n",
       "      <td>Potential</td>\n",
       "    </tr>\n",
       "    <tr>\n",
       "      <th>3</th>\n",
       "      <td>15.0</td>\n",
       "      <td>Website</td>\n",
       "      <td>Sales-Agent-7</td>\n",
       "      <td>Hyderabad</td>\n",
       "      <td>Mode-1</td>\n",
       "      <td>Not Responding</td>\n",
       "    </tr>\n",
       "    <tr>\n",
       "      <th>4</th>\n",
       "      <td>18.0</td>\n",
       "      <td>Call</td>\n",
       "      <td>Sales-Agent-7</td>\n",
       "      <td>Bangalore</td>\n",
       "      <td>Mode-1</td>\n",
       "      <td>In Progress Positive</td>\n",
       "    </tr>\n",
       "  </tbody>\n",
       "</table>\n",
       "</div>"
      ],
      "text/plain": [
       "   Product_ID                    Source     Sales_Agent         Location  \\\n",
       "0         9.0  Live Chat-Google Organic   Sales-Agent-3        Bangalore   \n",
       "1        19.0                      Call   Sales-Agent-4  Other Locations   \n",
       "2        18.0                   Website  Sales-Agent-11       Trivandrum   \n",
       "3        15.0                   Website   Sales-Agent-7        Hyderabad   \n",
       "4        18.0                      Call   Sales-Agent-7        Bangalore   \n",
       "\n",
       "  Delivery_Mode                Status  \n",
       "0        Mode-1             Potential  \n",
       "1        Mode-5             Potential  \n",
       "2        Mode-1             Potential  \n",
       "3        Mode-1        Not Responding  \n",
       "4        Mode-1  In Progress Positive  "
      ]
     },
     "execution_count": 35,
     "metadata": {},
     "output_type": "execute_result"
    }
   ],
   "source": [
    "df.head()"
   ]
  },
  {
   "cell_type": "markdown",
   "metadata": {},
   "source": [
    "## Modeling"
   ]
  },
  {
   "cell_type": "code",
   "execution_count": 36,
   "metadata": {},
   "outputs": [
    {
     "data": {
      "text/plain": [
       "array(['Potential', 'Not Responding', 'In Progress Positive',\n",
       "       'Just Enquiry', 'Junk Lead', 'CONVERTED', 'In Progress Negative',\n",
       "       'Open', 'LOST', 'Long Term', 'converted'], dtype=object)"
      ]
     },
     "execution_count": 36,
     "metadata": {},
     "output_type": "execute_result"
    }
   ],
   "source": [
    "df['Status'].unique()"
   ]
  },
  {
   "cell_type": "code",
   "execution_count": 37,
   "metadata": {},
   "outputs": [],
   "source": [
    "df.Status.replace(['Potential','In Progress Positive','CONVERTED','converted','Open','Long Term'],'High Potential',inplace=True)\n",
    "df.Status.replace(['Not Responding','In Progress Negative','LOST','Junk Lead','Just Enquiry'],'Low Potential',inplace=True)"
   ]
  },
  {
   "cell_type": "code",
   "execution_count": 38,
   "metadata": {},
   "outputs": [
    {
     "data": {
      "text/plain": [
       "0    High Potential\n",
       "1    High Potential\n",
       "2    High Potential\n",
       "3     Low Potential\n",
       "4    High Potential\n",
       "Name: Status, dtype: object"
      ]
     },
     "execution_count": 38,
     "metadata": {},
     "output_type": "execute_result"
    }
   ],
   "source": [
    "df.Status.head()"
   ]
  },
  {
   "cell_type": "code",
   "execution_count": 39,
   "metadata": {
    "scrolled": false
   },
   "outputs": [
    {
     "data": {
      "text/html": [
       "<div>\n",
       "<style scoped>\n",
       "    .dataframe tbody tr th:only-of-type {\n",
       "        vertical-align: middle;\n",
       "    }\n",
       "\n",
       "    .dataframe tbody tr th {\n",
       "        vertical-align: top;\n",
       "    }\n",
       "\n",
       "    .dataframe thead th {\n",
       "        text-align: right;\n",
       "    }\n",
       "</style>\n",
       "<table border=\"1\" class=\"dataframe\">\n",
       "  <thead>\n",
       "    <tr style=\"text-align: right;\">\n",
       "      <th></th>\n",
       "      <th>Product_ID</th>\n",
       "      <th>Source</th>\n",
       "      <th>Sales_Agent</th>\n",
       "      <th>Location</th>\n",
       "      <th>Delivery_Mode</th>\n",
       "      <th>Status</th>\n",
       "    </tr>\n",
       "  </thead>\n",
       "  <tbody>\n",
       "    <tr>\n",
       "      <th>0</th>\n",
       "      <td>9.0</td>\n",
       "      <td>Live Chat-Google Organic</td>\n",
       "      <td>Sales-Agent-3</td>\n",
       "      <td>Bangalore</td>\n",
       "      <td>Mode-1</td>\n",
       "      <td>High Potential</td>\n",
       "    </tr>\n",
       "    <tr>\n",
       "      <th>1</th>\n",
       "      <td>19.0</td>\n",
       "      <td>Call</td>\n",
       "      <td>Sales-Agent-4</td>\n",
       "      <td>Other Locations</td>\n",
       "      <td>Mode-5</td>\n",
       "      <td>High Potential</td>\n",
       "    </tr>\n",
       "    <tr>\n",
       "      <th>2</th>\n",
       "      <td>18.0</td>\n",
       "      <td>Website</td>\n",
       "      <td>Sales-Agent-11</td>\n",
       "      <td>Trivandrum</td>\n",
       "      <td>Mode-1</td>\n",
       "      <td>High Potential</td>\n",
       "    </tr>\n",
       "    <tr>\n",
       "      <th>3</th>\n",
       "      <td>15.0</td>\n",
       "      <td>Website</td>\n",
       "      <td>Sales-Agent-7</td>\n",
       "      <td>Hyderabad</td>\n",
       "      <td>Mode-1</td>\n",
       "      <td>Low Potential</td>\n",
       "    </tr>\n",
       "    <tr>\n",
       "      <th>4</th>\n",
       "      <td>18.0</td>\n",
       "      <td>Call</td>\n",
       "      <td>Sales-Agent-7</td>\n",
       "      <td>Bangalore</td>\n",
       "      <td>Mode-1</td>\n",
       "      <td>High Potential</td>\n",
       "    </tr>\n",
       "  </tbody>\n",
       "</table>\n",
       "</div>"
      ],
      "text/plain": [
       "   Product_ID                    Source     Sales_Agent         Location  \\\n",
       "0         9.0  Live Chat-Google Organic   Sales-Agent-3        Bangalore   \n",
       "1        19.0                      Call   Sales-Agent-4  Other Locations   \n",
       "2        18.0                   Website  Sales-Agent-11       Trivandrum   \n",
       "3        15.0                   Website   Sales-Agent-7        Hyderabad   \n",
       "4        18.0                      Call   Sales-Agent-7        Bangalore   \n",
       "\n",
       "  Delivery_Mode          Status  \n",
       "0        Mode-1  High Potential  \n",
       "1        Mode-5  High Potential  \n",
       "2        Mode-1  High Potential  \n",
       "3        Mode-1   Low Potential  \n",
       "4        Mode-1  High Potential  "
      ]
     },
     "execution_count": 39,
     "metadata": {},
     "output_type": "execute_result"
    }
   ],
   "source": [
    "df.head()"
   ]
  },
  {
   "cell_type": "code",
   "execution_count": 40,
   "metadata": {},
   "outputs": [],
   "source": [
    "from sklearn.preprocessing import LabelEncoder\n",
    "enc = LabelEncoder()"
   ]
  },
  {
   "cell_type": "code",
   "execution_count": 41,
   "metadata": {},
   "outputs": [],
   "source": [
    "cat_var = ['Source','Sales_Agent','Location','Delivery_Mode','Status']"
   ]
  },
  {
   "cell_type": "code",
   "execution_count": 42,
   "metadata": {},
   "outputs": [],
   "source": [
    "for cat_var in df:\n",
    "    df[cat_var] = enc.fit_transform(df[cat_var])"
   ]
  },
  {
   "cell_type": "code",
   "execution_count": 43,
   "metadata": {
    "scrolled": true
   },
   "outputs": [
    {
     "data": {
      "text/html": [
       "<div>\n",
       "<style scoped>\n",
       "    .dataframe tbody tr th:only-of-type {\n",
       "        vertical-align: middle;\n",
       "    }\n",
       "\n",
       "    .dataframe tbody tr th {\n",
       "        vertical-align: top;\n",
       "    }\n",
       "\n",
       "    .dataframe thead th {\n",
       "        text-align: right;\n",
       "    }\n",
       "</style>\n",
       "<table border=\"1\" class=\"dataframe\">\n",
       "  <thead>\n",
       "    <tr style=\"text-align: right;\">\n",
       "      <th></th>\n",
       "      <th>Product_ID</th>\n",
       "      <th>Source</th>\n",
       "      <th>Sales_Agent</th>\n",
       "      <th>Location</th>\n",
       "      <th>Delivery_Mode</th>\n",
       "      <th>Status</th>\n",
       "    </tr>\n",
       "  </thead>\n",
       "  <tbody>\n",
       "    <tr>\n",
       "      <th>0</th>\n",
       "      <td>9</td>\n",
       "      <td>16</td>\n",
       "      <td>4</td>\n",
       "      <td>1</td>\n",
       "      <td>0</td>\n",
       "      <td>0</td>\n",
       "    </tr>\n",
       "    <tr>\n",
       "      <th>1</th>\n",
       "      <td>19</td>\n",
       "      <td>2</td>\n",
       "      <td>5</td>\n",
       "      <td>10</td>\n",
       "      <td>4</td>\n",
       "      <td>0</td>\n",
       "    </tr>\n",
       "    <tr>\n",
       "      <th>2</th>\n",
       "      <td>18</td>\n",
       "      <td>24</td>\n",
       "      <td>1</td>\n",
       "      <td>13</td>\n",
       "      <td>0</td>\n",
       "      <td>0</td>\n",
       "    </tr>\n",
       "    <tr>\n",
       "      <th>3</th>\n",
       "      <td>15</td>\n",
       "      <td>24</td>\n",
       "      <td>8</td>\n",
       "      <td>6</td>\n",
       "      <td>0</td>\n",
       "      <td>1</td>\n",
       "    </tr>\n",
       "    <tr>\n",
       "      <th>4</th>\n",
       "      <td>18</td>\n",
       "      <td>2</td>\n",
       "      <td>8</td>\n",
       "      <td>1</td>\n",
       "      <td>0</td>\n",
       "      <td>0</td>\n",
       "    </tr>\n",
       "  </tbody>\n",
       "</table>\n",
       "</div>"
      ],
      "text/plain": [
       "   Product_ID  Source  Sales_Agent  Location  Delivery_Mode  Status\n",
       "0           9      16            4         1              0       0\n",
       "1          19       2            5        10              4       0\n",
       "2          18      24            1        13              0       0\n",
       "3          15      24            8         6              0       1\n",
       "4          18       2            8         1              0       0"
      ]
     },
     "execution_count": 43,
     "metadata": {},
     "output_type": "execute_result"
    }
   ],
   "source": [
    "df.head()"
   ]
  },
  {
   "cell_type": "code",
   "execution_count": 44,
   "metadata": {
    "scrolled": true
   },
   "outputs": [
    {
     "data": {
      "text/html": [
       "<div>\n",
       "<style scoped>\n",
       "    .dataframe tbody tr th:only-of-type {\n",
       "        vertical-align: middle;\n",
       "    }\n",
       "\n",
       "    .dataframe tbody tr th {\n",
       "        vertical-align: top;\n",
       "    }\n",
       "\n",
       "    .dataframe thead th {\n",
       "        text-align: right;\n",
       "    }\n",
       "</style>\n",
       "<table border=\"1\" class=\"dataframe\">\n",
       "  <thead>\n",
       "    <tr style=\"text-align: right;\">\n",
       "      <th></th>\n",
       "      <th>Product_ID</th>\n",
       "      <th>Source</th>\n",
       "      <th>Sales_Agent</th>\n",
       "      <th>Location</th>\n",
       "      <th>Delivery_Mode</th>\n",
       "      <th>Status</th>\n",
       "    </tr>\n",
       "  </thead>\n",
       "  <tbody>\n",
       "    <tr>\n",
       "      <th>Product_ID</th>\n",
       "      <td>1.000000</td>\n",
       "      <td>0.060910</td>\n",
       "      <td>0.006529</td>\n",
       "      <td>-0.041227</td>\n",
       "      <td>-0.036025</td>\n",
       "      <td>-0.085415</td>\n",
       "    </tr>\n",
       "    <tr>\n",
       "      <th>Source</th>\n",
       "      <td>0.060910</td>\n",
       "      <td>1.000000</td>\n",
       "      <td>-0.019623</td>\n",
       "      <td>0.054901</td>\n",
       "      <td>-0.151242</td>\n",
       "      <td>0.039717</td>\n",
       "    </tr>\n",
       "    <tr>\n",
       "      <th>Sales_Agent</th>\n",
       "      <td>0.006529</td>\n",
       "      <td>-0.019623</td>\n",
       "      <td>1.000000</td>\n",
       "      <td>-0.129056</td>\n",
       "      <td>-0.224688</td>\n",
       "      <td>-0.137074</td>\n",
       "    </tr>\n",
       "    <tr>\n",
       "      <th>Location</th>\n",
       "      <td>-0.041227</td>\n",
       "      <td>0.054901</td>\n",
       "      <td>-0.129056</td>\n",
       "      <td>1.000000</td>\n",
       "      <td>0.397186</td>\n",
       "      <td>0.312023</td>\n",
       "    </tr>\n",
       "    <tr>\n",
       "      <th>Delivery_Mode</th>\n",
       "      <td>-0.036025</td>\n",
       "      <td>-0.151242</td>\n",
       "      <td>-0.224688</td>\n",
       "      <td>0.397186</td>\n",
       "      <td>1.000000</td>\n",
       "      <td>0.220445</td>\n",
       "    </tr>\n",
       "    <tr>\n",
       "      <th>Status</th>\n",
       "      <td>-0.085415</td>\n",
       "      <td>0.039717</td>\n",
       "      <td>-0.137074</td>\n",
       "      <td>0.312023</td>\n",
       "      <td>0.220445</td>\n",
       "      <td>1.000000</td>\n",
       "    </tr>\n",
       "  </tbody>\n",
       "</table>\n",
       "</div>"
      ],
      "text/plain": [
       "               Product_ID    Source  Sales_Agent  Location  Delivery_Mode  \\\n",
       "Product_ID       1.000000  0.060910     0.006529 -0.041227      -0.036025   \n",
       "Source           0.060910  1.000000    -0.019623  0.054901      -0.151242   \n",
       "Sales_Agent      0.006529 -0.019623     1.000000 -0.129056      -0.224688   \n",
       "Location        -0.041227  0.054901    -0.129056  1.000000       0.397186   \n",
       "Delivery_Mode   -0.036025 -0.151242    -0.224688  0.397186       1.000000   \n",
       "Status          -0.085415  0.039717    -0.137074  0.312023       0.220445   \n",
       "\n",
       "                 Status  \n",
       "Product_ID    -0.085415  \n",
       "Source         0.039717  \n",
       "Sales_Agent   -0.137074  \n",
       "Location       0.312023  \n",
       "Delivery_Mode  0.220445  \n",
       "Status         1.000000  "
      ]
     },
     "execution_count": 44,
     "metadata": {},
     "output_type": "execute_result"
    }
   ],
   "source": [
    "df.corr()"
   ]
  },
  {
   "cell_type": "code",
   "execution_count": 45,
   "metadata": {},
   "outputs": [
    {
     "data": {
      "text/plain": [
       "<matplotlib.axes._subplots.AxesSubplot at 0xc5fd9059c8>"
      ]
     },
     "execution_count": 45,
     "metadata": {},
     "output_type": "execute_result"
    },
    {
     "data": {
      "image/png": "[encoded data removed]",
      "text/plain": [
       "<Figure size 720x360 with 2 Axes>"
      ]
     },
     "metadata": {},
     "output_type": "display_data"
    }
   ],
   "source": [
    "rcParams['figure.figsize'] = 10,5\n",
    "sb.heatmap(df.corr(),annot = True)"
   ]
  },
  {
   "cell_type": "code",
   "execution_count": 46,
   "metadata": {},
   "outputs": [
    {
     "data": {
      "text/plain": [
       "<matplotlib.axes._subplots.AxesSubplot at 0xc5fdf3e3c8>"
      ]
     },
     "execution_count": 46,
     "metadata": {},
     "output_type": "execute_result"
    },
    {
     "data": {
      "image/png": "[encoded data removed]",
      "text/plain": [
       "<Figure size 720x360 with 1 Axes>"
      ]
     },
     "metadata": {},
     "output_type": "display_data"
    }
   ],
   "source": [
    "rcParams['figure.figsize'] = 10,5\n",
    "df.boxplot()"
   ]
  },
  {
   "cell_type": "code",
   "execution_count": 47,
   "metadata": {},
   "outputs": [],
   "source": [
    "X = df.iloc[:,:-1]\n",
    "y = df.Status"
   ]
  },
  {
   "cell_type": "code",
   "execution_count": 48,
   "metadata": {},
   "outputs": [
    {
     "data": {
      "text/html": [
       "<div>\n",
       "<style scoped>\n",
       "    .dataframe tbody tr th:only-of-type {\n",
       "        vertical-align: middle;\n",
       "    }\n",
       "\n",
       "    .dataframe tbody tr th {\n",
       "        vertical-align: top;\n",
       "    }\n",
       "\n",
       "    .dataframe thead th {\n",
       "        text-align: right;\n",
       "    }\n",
       "</style>\n",
       "<table border=\"1\" class=\"dataframe\">\n",
       "  <thead>\n",
       "    <tr style=\"text-align: right;\">\n",
       "      <th></th>\n",
       "      <th>Product_ID</th>\n",
       "      <th>Source</th>\n",
       "      <th>Sales_Agent</th>\n",
       "      <th>Location</th>\n",
       "      <th>Delivery_Mode</th>\n",
       "    </tr>\n",
       "  </thead>\n",
       "  <tbody>\n",
       "    <tr>\n",
       "      <th>0</th>\n",
       "      <td>9</td>\n",
       "      <td>16</td>\n",
       "      <td>4</td>\n",
       "      <td>1</td>\n",
       "      <td>0</td>\n",
       "    </tr>\n",
       "    <tr>\n",
       "      <th>1</th>\n",
       "      <td>19</td>\n",
       "      <td>2</td>\n",
       "      <td>5</td>\n",
       "      <td>10</td>\n",
       "      <td>4</td>\n",
       "    </tr>\n",
       "  </tbody>\n",
       "</table>\n",
       "</div>"
      ],
      "text/plain": [
       "   Product_ID  Source  Sales_Agent  Location  Delivery_Mode\n",
       "0           9      16            4         1              0\n",
       "1          19       2            5        10              4"
      ]
     },
     "execution_count": 48,
     "metadata": {},
     "output_type": "execute_result"
    }
   ],
   "source": [
    "X.head(2)"
   ]
  },
  {
   "cell_type": "code",
   "execution_count": 49,
   "metadata": {},
   "outputs": [
    {
     "data": {
      "text/plain": [
       "0    0\n",
       "1    0\n",
       "Name: Status, dtype: int32"
      ]
     },
     "execution_count": 49,
     "metadata": {},
     "output_type": "execute_result"
    }
   ],
   "source": [
    "y.head(2)"
   ]
  },
  {
   "cell_type": "code",
   "execution_count": 50,
   "metadata": {},
   "outputs": [],
   "source": [
    "from sklearn.linear_model import LogisticRegression\n",
    "from sklearn.svm import SVC\n",
    "from sklearn.tree import DecisionTreeClassifier\n",
    "from sklearn.ensemble import RandomForestClassifier,GradientBoostingClassifier\n",
    "from sklearn.naive_bayes import GaussianNB,MultinomialNB\n",
    "from sklearn.neighbors import KNeighborsClassifier\n",
    "from sklearn.neural_network import MLPClassifier\n",
    "from xgboost import XGBClassifier"
   ]
  },
  {
   "cell_type": "code",
   "execution_count": 51,
   "metadata": {},
   "outputs": [],
   "source": [
    "from sklearn import model_selection\n",
    "from sklearn.model_selection import train_test_split,cross_val_score,validation_curve,KFold"
   ]
  },
  {
   "cell_type": "code",
   "execution_count": 52,
   "metadata": {},
   "outputs": [],
   "source": [
    "X_train,X_test,y_train,y_test = train_test_split(X,y,random_state = 10,test_size=0.3)"
   ]
  },
  {
   "cell_type": "code",
   "execution_count": 53,
   "metadata": {},
   "outputs": [],
   "source": [
    "models = []\n",
    "models.append(('LG', LogisticRegression()))\n",
    "models.append(('SVC', SVC()))\n",
    "models.append(('DTC', DecisionTreeClassifier()))\n",
    "models.append(('RFC', RandomForestClassifier()))\n",
    "models.append(('KNC', KNeighborsClassifier()))\n",
    "models.append(('MLP', MLPClassifier()))\n",
    "models.append(('XGB-TREE', XGBClassifier(booster='gbtree')))\n",
    "models.append(('XGB-DART', XGBClassifier(booster='dart')))\n",
    "models.append(('GNB', GaussianNB()))"
   ]
  },
  {
   "cell_type": "code",
   "execution_count": 54,
   "metadata": {
    "scrolled": true
   },
   "outputs": [
    {
     "name": "stdout",
     "output_type": "stream",
     "text": [
      "[('LG', 0.675961393999905), ('SVC', 0.6874636999001569), ('DTC', 0.6732334902296392), ('RFC', 0.6841536632910188), ('KNC', 0.6831752008748158), ('MLP', 0.6822020634241429), ('XGB-TREE', 0.7250935197071268), ('XGB-DART', 0.7250935197071268), ('GNB', 0.6662115722911616)]\n"
     ]
    }
   ],
   "source": [
    "seed = 10\n",
    "results = []\n",
    "names = []\n",
    "output = []\n",
    "score = 'accuracy'\n",
    "for name,model in models:\n",
    "    kfold = model_selection.KFold(n_splits = 5,random_state = seed)\n",
    "    result = model_selection.cross_val_score(model,np.array(X_train),np.array(y_train),cv=kfold,scoring=score)\n",
    "    results.append(result)\n",
    "    names.append(name)\n",
    "    values = name,result.mean()\n",
    "    output.append(values)\n",
    "print(output)"
   ]
  },
  {
   "cell_type": "code",
   "execution_count": 55,
   "metadata": {},
   "outputs": [
    {
     "data": {
      "image/png": "[encoded data removed]",
      "text/plain": [
       "<Figure size 720x360 with 1 Axes>"
      ]
     },
     "metadata": {},
     "output_type": "display_data"
    }
   ],
   "source": [
    "rcParams['figure.figsize'] = 10,5\n",
    "fig = plt.figure()\n",
    "ax = fig.add_subplot(111)\n",
    "plt.boxplot(results)\n",
    "ax.set_xticklabels(names)\n",
    "plt.show()"
   ]
  },
  {
   "cell_type": "code",
   "execution_count": 56,
   "metadata": {},
   "outputs": [],
   "source": [
    "from sklearn.model_selection import train_test_split\n",
    "X_train,X_test,y_train,y_test = train_test_split(X,y,random_state = 10,test_size=0.3)"
   ]
  },
  {
   "cell_type": "code",
   "execution_count": 57,
   "metadata": {},
   "outputs": [
    {
     "data": {
      "text/plain": [
       "XGBClassifier(base_score=0.5, booster='gbtree', colsample_bylevel=1,\n",
       "              colsample_bynode=1, colsample_bytree=1, gamma=0,\n",
       "              learning_rate=0.1, max_delta_step=0, max_depth=3,\n",
       "              min_child_weight=1, missing=None, n_estimators=100, n_jobs=1,\n",
       "              nthread=None, objective='binary:logistic', random_state=0,\n",
       "              reg_alpha=0, reg_lambda=1, scale_pos_weight=1, seed=None,\n",
       "              silent=None, subsample=1, verbosity=1)"
      ]
     },
     "execution_count": 57,
     "metadata": {},
     "output_type": "execute_result"
    }
   ],
   "source": [
    "from xgboost import XGBClassifier\n",
    "model = XGBClassifier()\n",
    "model.fit(X_train,y_train)"
   ]
  },
  {
   "cell_type": "code",
   "execution_count": 58,
   "metadata": {},
   "outputs": [],
   "source": [
    "y_predict = model.predict(X_test)"
   ]
  },
  {
   "cell_type": "code",
   "execution_count": 59,
   "metadata": {},
   "outputs": [
    {
     "data": {
      "text/plain": [
       "71.35000000000001"
      ]
     },
     "execution_count": 59,
     "metadata": {},
     "output_type": "execute_result"
    }
   ],
   "source": [
    "accuracy_score(y_test,y_predict).round(4)*100"
   ]
  },
  {
   "cell_type": "code",
   "execution_count": 60,
   "metadata": {},
   "outputs": [
    {
     "data": {
      "text/html": [
       "<div>\n",
       "<style scoped>\n",
       "    .dataframe tbody tr th:only-of-type {\n",
       "        vertical-align: middle;\n",
       "    }\n",
       "\n",
       "    .dataframe tbody tr th {\n",
       "        vertical-align: top;\n",
       "    }\n",
       "\n",
       "    .dataframe thead th {\n",
       "        text-align: right;\n",
       "    }\n",
       "</style>\n",
       "<table border=\"1\" class=\"dataframe\">\n",
       "  <thead>\n",
       "    <tr style=\"text-align: right;\">\n",
       "      <th>col_0</th>\n",
       "      <th>0</th>\n",
       "      <th>1</th>\n",
       "    </tr>\n",
       "    <tr>\n",
       "      <th>Status</th>\n",
       "      <th></th>\n",
       "      <th></th>\n",
       "    </tr>\n",
       "  </thead>\n",
       "  <tbody>\n",
       "    <tr>\n",
       "      <th>0</th>\n",
       "      <td>466</td>\n",
       "      <td>414</td>\n",
       "    </tr>\n",
       "    <tr>\n",
       "      <th>1</th>\n",
       "      <td>216</td>\n",
       "      <td>1103</td>\n",
       "    </tr>\n",
       "  </tbody>\n",
       "</table>\n",
       "</div>"
      ],
      "text/plain": [
       "col_0     0     1\n",
       "Status           \n",
       "0       466   414\n",
       "1       216  1103"
      ]
     },
     "execution_count": 60,
     "metadata": {},
     "output_type": "execute_result"
    }
   ],
   "source": [
    "pd.crosstab(y_test,y_predict)"
   ]
  },
  {
   "cell_type": "code",
   "execution_count": 61,
   "metadata": {},
   "outputs": [
    {
     "name": "stdout",
     "output_type": "stream",
     "text": [
      "              precision    recall  f1-score   support\n",
      "\n",
      "           0       0.68      0.53      0.60       880\n",
      "           1       0.73      0.84      0.78      1319\n",
      "\n",
      "    accuracy                           0.71      2199\n",
      "   macro avg       0.71      0.68      0.69      2199\n",
      "weighted avg       0.71      0.71      0.71      2199\n",
      "\n"
     ]
    }
   ],
   "source": [
    "print(classification_report(y_test,y_predict))"
   ]
  },
  {
   "cell_type": "code",
   "execution_count": 62,
   "metadata": {},
   "outputs": [
    {
     "name": "stdout",
     "output_type": "stream",
     "text": [
      "XGB AUC : 0.68\n"
     ]
    }
   ],
   "source": [
    "auc = roc_auc_score(y_test,y_predict)\n",
    "print('XGB AUC : %.2f'%auc)"
   ]
  },
  {
   "cell_type": "code",
   "execution_count": 63,
   "metadata": {},
   "outputs": [
    {
     "data": {
      "image/png": "[encoded data removed]",
      "text/plain": [
       "<Figure size 720x360 with 1 Axes>"
      ]
     },
     "metadata": {},
     "output_type": "display_data"
    }
   ],
   "source": [
    "rf_fpr,rf_tpr,_ = roc_curve(y_test,y_predict)\n",
    "plt.plot(rf_fpr,rf_tpr,marker='_',label = 'XGB')\n",
    "plt.xlabel('FPR')\n",
    "plt.ylabel('TPR')\n",
    "plt.legend()\n",
    "plt.show()"
   ]
  },
  {
   "cell_type": "code",
   "execution_count": null,
   "metadata": {},
   "outputs": [],
   "source": []
  }
 ],
 "metadata": {
  "kernelspec": {
   "display_name": "Python 3",
   "language": "python",
   "name": "python3"
  },
  "language_info": {
   "codemirror_mode": {
    "name": "ipython",
    "version": 3
   },
   "file_extension": ".py",
   "mimetype": "text/x-python",
   "name": "python",
   "nbconvert_exporter": "python",
   "pygments_lexer": "ipython3",
   "version": "3.7.6"
  }
 },
 "nbformat": 4,
 "nbformat_minor": 4
}
